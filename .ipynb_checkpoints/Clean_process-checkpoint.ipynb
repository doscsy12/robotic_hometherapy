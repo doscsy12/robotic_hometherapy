{
 "cells": [
  {
   "cell_type": "markdown",
   "id": "d0e47c89",
   "metadata": {},
   "source": [
    "### Cleaning database data \n"
   ]
  },
  {
   "cell_type": "markdown",
   "id": "c6a1dbba",
   "metadata": {},
   "source": [
    "*import libraries*"
   ]
  },
  {
   "cell_type": "code",
   "execution_count": 1,
   "id": "07dad02a",
   "metadata": {},
   "outputs": [],
   "source": [
    "import os\n",
    "import sys\n",
    "import sqlite3 as sl\n",
    "\n",
    "import pandas as pd\n",
    "import numpy as np\n",
    "from datetime import datetime\n",
    "import seaborn as sns\n",
    "import matplotlib.pyplot as plt\n",
    "import matplotlib.ticker as mticker\n",
    "%matplotlib inline\n",
    "\n",
    "import math\n",
    "import statistics\n",
    "import scipy.stats\n",
    "\n",
    "from functools import reduce\n",
    "import dataframe_image as dfi\n",
    "from string import ascii_lowercase\n",
    "import itertools"
   ]
  },
  {
   "cell_type": "code",
   "execution_count": 2,
   "id": "9e801555",
   "metadata": {},
   "outputs": [],
   "source": [
    "import warnings\n",
    "warnings.filterwarnings(\"ignore\")"
   ]
  },
  {
   "cell_type": "code",
   "execution_count": 3,
   "id": "e483beee",
   "metadata": {},
   "outputs": [],
   "source": [
    "pd.options.display.max_rows = 500"
   ]
  },
  {
   "cell_type": "code",
   "execution_count": 4,
   "id": "0c65af97",
   "metadata": {},
   "outputs": [
    {
     "data": {
      "text/plain": [
       "'C:\\\\Users\\\\USER\\\\Documents\\\\Articares\\\\CHISEL'"
      ]
     },
     "execution_count": 4,
     "metadata": {},
     "output_type": "execute_result"
    }
   ],
   "source": [
    "os.getcwd()"
   ]
  },
  {
   "cell_type": "code",
   "execution_count": 5,
   "id": "720123f9",
   "metadata": {},
   "outputs": [],
   "source": [
    "start_codes=datetime.now()"
   ]
  },
  {
   "cell_type": "markdown",
   "id": "d99c974b",
   "metadata": {},
   "source": [
    "**connect/query from database**"
   ]
  },
  {
   "cell_type": "code",
   "execution_count": 6,
   "id": "034c45c4",
   "metadata": {},
   "outputs": [],
   "source": [
    "# con = sl.connect('D:/Articares/CARE_platform/OneDrive_1_4-11-2022/articaresLite_v2_CHISEL_HOME_P001.db')"
   ]
  },
  {
   "cell_type": "code",
   "execution_count": 7,
   "id": "b177ea48",
   "metadata": {},
   "outputs": [],
   "source": [
    "# # query only from P001\n",
    "# df = pd.read_sql(\"SELECT PatientID, SessionID, GameID, TimeStampDate, TimeStampMS, VisualTargetXCoord, VisualTargetYCoord, TargetXCoord, TargetYCoord, XCoordinate, YCoordinate, KxGain, KyGain, KxyGain, TotalForce, VelocityX, VelocityY, CurrentSenseLeft, CurrentSenseRight, Sparc FROM TargetFeedbackDataModel WHERE PatientID='TTSH-CHISEL0Pa/Gtc3DUqoPVREp+I/qg==' \",con)\n"
   ]
  },
  {
   "cell_type": "code",
   "execution_count": 8,
   "id": "1d6773e7",
   "metadata": {},
   "outputs": [],
   "source": [
    "# df.head()"
   ]
  },
  {
   "cell_type": "markdown",
   "id": "b0159e11",
   "metadata": {},
   "source": [
    "*save queried results*"
   ]
  },
  {
   "cell_type": "code",
   "execution_count": 9,
   "id": "91aaf208",
   "metadata": {},
   "outputs": [],
   "source": [
    "# df.to_csv('./data/sql_result_P001.dat')"
   ]
  },
  {
   "cell_type": "markdown",
   "id": "2bc974c5",
   "metadata": {},
   "source": [
    "**import df from previously saved query**"
   ]
  },
  {
   "cell_type": "code",
   "execution_count": 10,
   "id": "fbce9118",
   "metadata": {},
   "outputs": [],
   "source": [
    "## read .dat file if df is saved\n",
    "df = pd.read_csv('./data/sql_result_onlyP003.txt')\n",
    "df_targets = pd.read_csv('./data/P003_targets.csv')"
   ]
  },
  {
   "cell_type": "code",
   "execution_count": 11,
   "id": "7cf256a0",
   "metadata": {},
   "outputs": [
    {
     "data": {
      "text/html": [
       "<div>\n",
       "<style scoped>\n",
       "    .dataframe tbody tr th:only-of-type {\n",
       "        vertical-align: middle;\n",
       "    }\n",
       "\n",
       "    .dataframe tbody tr th {\n",
       "        vertical-align: top;\n",
       "    }\n",
       "\n",
       "    .dataframe thead th {\n",
       "        text-align: right;\n",
       "    }\n",
       "</style>\n",
       "<table border=\"1\" class=\"dataframe\">\n",
       "  <thead>\n",
       "    <tr style=\"text-align: right;\">\n",
       "      <th></th>\n",
       "      <th>PatientID</th>\n",
       "      <th>SessionID</th>\n",
       "      <th>GameID</th>\n",
       "      <th>TimeStampDate</th>\n",
       "      <th>TimeStampMS</th>\n",
       "      <th>Sparc</th>\n",
       "      <th>VisualTargetXCoord</th>\n",
       "      <th>VisualTargetYCoord</th>\n",
       "      <th>TargetXCoord</th>\n",
       "      <th>TargetYCoord</th>\n",
       "      <th>...</th>\n",
       "      <th>KxyGain</th>\n",
       "      <th>BxGain</th>\n",
       "      <th>ByGain</th>\n",
       "      <th>BxyGain</th>\n",
       "      <th>ByxGain</th>\n",
       "      <th>VelocityX</th>\n",
       "      <th>VelocityY</th>\n",
       "      <th>CurrentSenseLeft</th>\n",
       "      <th>CurrentSenseRight</th>\n",
       "      <th>TotalForce</th>\n",
       "    </tr>\n",
       "  </thead>\n",
       "  <tbody>\n",
       "    <tr>\n",
       "      <th>0</th>\n",
       "      <td>TTSH-CHISELamITRYYb9UymNH+3xzylgg==</td>\n",
       "      <td>TTSH-CHISELmr5QROxbVkGeF7YuEwLJrQ==</td>\n",
       "      <td>0</td>\n",
       "      <td>2022-03-07 16:35:44</td>\n",
       "      <td>3676273</td>\n",
       "      <td>0.0</td>\n",
       "      <td>171.0</td>\n",
       "      <td>22.0</td>\n",
       "      <td>130.0</td>\n",
       "      <td>166.0</td>\n",
       "      <td>...</td>\n",
       "      <td>0.0</td>\n",
       "      <td>0.0</td>\n",
       "      <td>0.0</td>\n",
       "      <td>0.0</td>\n",
       "      <td>0.0</td>\n",
       "      <td>0.000000e+00</td>\n",
       "      <td>0.050266</td>\n",
       "      <td>-0.0256</td>\n",
       "      <td>-0.0208</td>\n",
       "      <td>0.0</td>\n",
       "    </tr>\n",
       "    <tr>\n",
       "      <th>1</th>\n",
       "      <td>TTSH-CHISELamITRYYb9UymNH+3xzylgg==</td>\n",
       "      <td>TTSH-CHISELmr5QROxbVkGeF7YuEwLJrQ==</td>\n",
       "      <td>0</td>\n",
       "      <td>2022-03-07 16:35:44</td>\n",
       "      <td>3676278</td>\n",
       "      <td>0.0</td>\n",
       "      <td>171.0</td>\n",
       "      <td>22.0</td>\n",
       "      <td>130.0</td>\n",
       "      <td>166.0</td>\n",
       "      <td>...</td>\n",
       "      <td>0.0</td>\n",
       "      <td>0.0</td>\n",
       "      <td>0.0</td>\n",
       "      <td>0.0</td>\n",
       "      <td>0.0</td>\n",
       "      <td>1.256180e-03</td>\n",
       "      <td>0.051522</td>\n",
       "      <td>-0.0256</td>\n",
       "      <td>-0.0208</td>\n",
       "      <td>0.0</td>\n",
       "    </tr>\n",
       "    <tr>\n",
       "      <th>2</th>\n",
       "      <td>TTSH-CHISELamITRYYb9UymNH+3xzylgg==</td>\n",
       "      <td>TTSH-CHISELmr5QROxbVkGeF7YuEwLJrQ==</td>\n",
       "      <td>0</td>\n",
       "      <td>2022-03-07 16:35:44</td>\n",
       "      <td>3676288</td>\n",
       "      <td>0.0</td>\n",
       "      <td>171.0</td>\n",
       "      <td>22.0</td>\n",
       "      <td>130.0</td>\n",
       "      <td>166.0</td>\n",
       "      <td>...</td>\n",
       "      <td>0.0</td>\n",
       "      <td>0.0</td>\n",
       "      <td>0.0</td>\n",
       "      <td>0.0</td>\n",
       "      <td>0.0</td>\n",
       "      <td>-1.257324e-03</td>\n",
       "      <td>0.056548</td>\n",
       "      <td>-0.0256</td>\n",
       "      <td>-0.0208</td>\n",
       "      <td>0.0</td>\n",
       "    </tr>\n",
       "    <tr>\n",
       "      <th>3</th>\n",
       "      <td>TTSH-CHISELamITRYYb9UymNH+3xzylgg==</td>\n",
       "      <td>TTSH-CHISELmr5QROxbVkGeF7YuEwLJrQ==</td>\n",
       "      <td>0</td>\n",
       "      <td>2022-03-07 16:35:44</td>\n",
       "      <td>3676298</td>\n",
       "      <td>0.0</td>\n",
       "      <td>171.0</td>\n",
       "      <td>22.0</td>\n",
       "      <td>130.0</td>\n",
       "      <td>166.0</td>\n",
       "      <td>...</td>\n",
       "      <td>0.0</td>\n",
       "      <td>0.0</td>\n",
       "      <td>0.0</td>\n",
       "      <td>0.0</td>\n",
       "      <td>0.0</td>\n",
       "      <td>0.000000e+00</td>\n",
       "      <td>0.060319</td>\n",
       "      <td>-0.0256</td>\n",
       "      <td>-0.0208</td>\n",
       "      <td>0.0</td>\n",
       "    </tr>\n",
       "    <tr>\n",
       "      <th>4</th>\n",
       "      <td>TTSH-CHISELamITRYYb9UymNH+3xzylgg==</td>\n",
       "      <td>TTSH-CHISELmr5QROxbVkGeF7YuEwLJrQ==</td>\n",
       "      <td>0</td>\n",
       "      <td>2022-03-07 16:35:44</td>\n",
       "      <td>3676308</td>\n",
       "      <td>0.0</td>\n",
       "      <td>171.0</td>\n",
       "      <td>22.0</td>\n",
       "      <td>130.0</td>\n",
       "      <td>166.0</td>\n",
       "      <td>...</td>\n",
       "      <td>0.0</td>\n",
       "      <td>0.0</td>\n",
       "      <td>0.0</td>\n",
       "      <td>0.0</td>\n",
       "      <td>0.0</td>\n",
       "      <td>7.629395e-07</td>\n",
       "      <td>0.065345</td>\n",
       "      <td>-0.0256</td>\n",
       "      <td>-0.0208</td>\n",
       "      <td>0.0</td>\n",
       "    </tr>\n",
       "  </tbody>\n",
       "</table>\n",
       "<p>5 rows × 24 columns</p>\n",
       "</div>"
      ],
      "text/plain": [
       "                             PatientID                            SessionID  \\\n",
       "0  TTSH-CHISELamITRYYb9UymNH+3xzylgg==  TTSH-CHISELmr5QROxbVkGeF7YuEwLJrQ==   \n",
       "1  TTSH-CHISELamITRYYb9UymNH+3xzylgg==  TTSH-CHISELmr5QROxbVkGeF7YuEwLJrQ==   \n",
       "2  TTSH-CHISELamITRYYb9UymNH+3xzylgg==  TTSH-CHISELmr5QROxbVkGeF7YuEwLJrQ==   \n",
       "3  TTSH-CHISELamITRYYb9UymNH+3xzylgg==  TTSH-CHISELmr5QROxbVkGeF7YuEwLJrQ==   \n",
       "4  TTSH-CHISELamITRYYb9UymNH+3xzylgg==  TTSH-CHISELmr5QROxbVkGeF7YuEwLJrQ==   \n",
       "\n",
       "   GameID        TimeStampDate  TimeStampMS  Sparc  VisualTargetXCoord  \\\n",
       "0       0  2022-03-07 16:35:44      3676273    0.0               171.0   \n",
       "1       0  2022-03-07 16:35:44      3676278    0.0               171.0   \n",
       "2       0  2022-03-07 16:35:44      3676288    0.0               171.0   \n",
       "3       0  2022-03-07 16:35:44      3676298    0.0               171.0   \n",
       "4       0  2022-03-07 16:35:44      3676308    0.0               171.0   \n",
       "\n",
       "   VisualTargetYCoord  TargetXCoord  TargetYCoord  ...  KxyGain  BxGain  \\\n",
       "0                22.0         130.0         166.0  ...      0.0     0.0   \n",
       "1                22.0         130.0         166.0  ...      0.0     0.0   \n",
       "2                22.0         130.0         166.0  ...      0.0     0.0   \n",
       "3                22.0         130.0         166.0  ...      0.0     0.0   \n",
       "4                22.0         130.0         166.0  ...      0.0     0.0   \n",
       "\n",
       "   ByGain  BxyGain  ByxGain     VelocityX  VelocityY  CurrentSenseLeft  \\\n",
       "0     0.0      0.0      0.0  0.000000e+00   0.050266           -0.0256   \n",
       "1     0.0      0.0      0.0  1.256180e-03   0.051522           -0.0256   \n",
       "2     0.0      0.0      0.0 -1.257324e-03   0.056548           -0.0256   \n",
       "3     0.0      0.0      0.0  0.000000e+00   0.060319           -0.0256   \n",
       "4     0.0      0.0      0.0  7.629395e-07   0.065345           -0.0256   \n",
       "\n",
       "   CurrentSenseRight  TotalForce  \n",
       "0            -0.0208         0.0  \n",
       "1            -0.0208         0.0  \n",
       "2            -0.0208         0.0  \n",
       "3            -0.0208         0.0  \n",
       "4            -0.0208         0.0  \n",
       "\n",
       "[5 rows x 24 columns]"
      ]
     },
     "execution_count": 11,
     "metadata": {},
     "output_type": "execute_result"
    }
   ],
   "source": [
    "df.head()"
   ]
  },
  {
   "cell_type": "code",
   "execution_count": 12,
   "id": "e6555bf3",
   "metadata": {
    "scrolled": true
   },
   "outputs": [
    {
     "name": "stdout",
     "output_type": "stream",
     "text": [
      "<class 'pandas.core.frame.DataFrame'>\n",
      "RangeIndex: 5923647 entries, 0 to 5923646\n",
      "Data columns (total 24 columns):\n",
      " #   Column              Dtype  \n",
      "---  ------              -----  \n",
      " 0   PatientID           object \n",
      " 1   SessionID           object \n",
      " 2   GameID              int64  \n",
      " 3   TimeStampDate       object \n",
      " 4   TimeStampMS         int64  \n",
      " 5   Sparc               float64\n",
      " 6   VisualTargetXCoord  float64\n",
      " 7   VisualTargetYCoord  float64\n",
      " 8   TargetXCoord        float64\n",
      " 9   TargetYCoord        float64\n",
      " 10  XCoordinate         float64\n",
      " 11  YCoordinate         float64\n",
      " 12  KxGain              float64\n",
      " 13  KyGain              float64\n",
      " 14  KxyGain             float64\n",
      " 15  BxGain              float64\n",
      " 16  ByGain              float64\n",
      " 17  BxyGain             float64\n",
      " 18  ByxGain             float64\n",
      " 19  VelocityX           float64\n",
      " 20  VelocityY           float64\n",
      " 21  CurrentSenseLeft    float64\n",
      " 22  CurrentSenseRight   float64\n",
      " 23  TotalForce          float64\n",
      "dtypes: float64(19), int64(2), object(3)\n",
      "memory usage: 1.1+ GB\n"
     ]
    }
   ],
   "source": [
    "df.info()"
   ]
  },
  {
   "cell_type": "markdown",
   "id": "f4208eac",
   "metadata": {},
   "source": [
    "**patient dictionary**"
   ]
  },
  {
   "cell_type": "code",
   "execution_count": 13,
   "id": "07bc5772",
   "metadata": {},
   "outputs": [],
   "source": [
    "user_id_dict = {\n",
    "    'TTSH-CHISELRGgLPwL3Lk6JTgBaVP4bjg==':'Test_01',\n",
    "    'TTSH-CHISEL2gpumVcbJE267TKKceWbOA==':'NULL', \n",
    "    'TTSH-CHISEL0Pa/Gtc3DUqoPVREp+I/qg==':'001', \n",
    "    'TTSH-CHISEL9GsWU5zb50CfPyoLNy7qvg==':'002',\n",
    "    'TTSH-CHISELamITRYYb9UymNH+3xzylgg==':'003', \n",
    "    'TTSH-CHISEL6IRO4pIMDUCpIRFbGnO26w==':'004',\n",
    "    'TTSH-CHISELZSJj4EGZh0iiozqhx3Gf4g==':'005',\n",
    "    'TTSH-CHISELCn5PqGNyMkKoyFYaOryw5g==':'006'\n",
    "}; \n"
   ]
  },
  {
   "cell_type": "markdown",
   "id": "82d86a27",
   "metadata": {},
   "source": [
    "*replace PatientID from user_id_dict*"
   ]
  },
  {
   "cell_type": "code",
   "execution_count": 14,
   "id": "c23c9dc1",
   "metadata": {},
   "outputs": [],
   "source": [
    "# df['PatientID'].unique()"
   ]
  },
  {
   "cell_type": "markdown",
   "id": "024f4aff",
   "metadata": {},
   "source": [
    "for eg, if 'onlyP001' ie., only one patient is queried, then there should only be one unique value."
   ]
  },
  {
   "cell_type": "code",
   "execution_count": 15,
   "id": "c86a33ae",
   "metadata": {},
   "outputs": [],
   "source": [
    "# replace PatientID with username\n",
    "df.replace({'PatientID':user_id_dict},inplace=True)"
   ]
  },
  {
   "cell_type": "code",
   "execution_count": 16,
   "id": "167f2483",
   "metadata": {},
   "outputs": [],
   "source": [
    "# check PatientID replace\n",
    "# df['PatientID'].unique()"
   ]
  },
  {
   "cell_type": "markdown",
   "id": "ecb28231",
   "metadata": {},
   "source": [
    "**convert datetime**"
   ]
  },
  {
   "cell_type": "code",
   "execution_count": 17,
   "id": "673ea956",
   "metadata": {},
   "outputs": [],
   "source": [
    "df['date_time'] = pd.to_datetime(df['TimeStampDate'], format='%Y-%m-%d %H:%M:%S')\n"
   ]
  },
  {
   "cell_type": "markdown",
   "id": "572a9ae4",
   "metadata": {},
   "source": [
    "**check df for duplicates**"
   ]
  },
  {
   "cell_type": "code",
   "execution_count": 19,
   "id": "f785db2b",
   "metadata": {},
   "outputs": [],
   "source": [
    "# df['TimeStampMS'].duplicated().value_counts()[True]"
   ]
  },
  {
   "cell_type": "markdown",
   "id": "4c1b00eb",
   "metadata": {},
   "source": [
    "some 'SessionID' are missing, nothing we can do about it, though possible to impute from neighbouring rows."
   ]
  },
  {
   "cell_type": "code",
   "execution_count": 23,
   "id": "24ed0818",
   "metadata": {},
   "outputs": [],
   "source": [
    "# remove SessionID when null\n",
    "df = df[df['SessionID'].notna()]"
   ]
  },
  {
   "cell_type": "markdown",
   "id": "caaa2516",
   "metadata": {},
   "source": [
    "**format VisualTargetCoord and TargetCoord**"
   ]
  },
  {
   "cell_type": "code",
   "execution_count": 24,
   "id": "0c79de5f",
   "metadata": {},
   "outputs": [],
   "source": [
    "df['VisualTargetXCoord'] = df['VisualTargetXCoord']/1000\n",
    "df['VisualTargetYCoord'] = df['VisualTargetYCoord']/1000\n",
    "df['TargetXCoord'] = df['TargetXCoord']/1000\n",
    "df['TargetYCoord'] = df['TargetYCoord']/1000"
   ]
  },
  {
   "cell_type": "markdown",
   "id": "20aa38dc",
   "metadata": {},
   "source": [
    "*GameID*"
   ]
  },
  {
   "cell_type": "code",
   "execution_count": 25,
   "id": "498b7a8d",
   "metadata": {},
   "outputs": [],
   "source": [
    "game_id_dict = {\n",
    "    0 : 'Explore the World',\n",
    "    1 : 'Fishing Game',\n",
    "    2 : 'Drone Game'\n",
    "}"
   ]
  },
  {
   "cell_type": "code",
   "execution_count": 26,
   "id": "4e10cd4c",
   "metadata": {},
   "outputs": [
    {
     "data": {
      "text/plain": [
       "array([0, 1, 2], dtype=int64)"
      ]
     },
     "execution_count": 26,
     "metadata": {},
     "output_type": "execute_result"
    }
   ],
   "source": [
    "# check types of games played\n",
    "df['GameID'].unique()"
   ]
  },
  {
   "cell_type": "markdown",
   "id": "3c150090",
   "metadata": {},
   "source": [
    "### Segregating dataset by session and game"
   ]
  },
  {
   "cell_type": "code",
   "execution_count": 27,
   "id": "87ec49ca",
   "metadata": {},
   "outputs": [],
   "source": [
    "# make copy of original df\n",
    "df1 = df.reset_index()"
   ]
  },
  {
   "cell_type": "code",
   "execution_count": 29,
   "id": "f3374fa9",
   "metadata": {},
   "outputs": [],
   "source": [
    "# recalculate diff in timestamp, as freq of data capture is inconsistent\n",
    "df1['TimeStampMS_diff'] = df1[['TimeStampMS']].diff()"
   ]
  },
  {
   "cell_type": "code",
   "execution_count": 30,
   "id": "5d49b158",
   "metadata": {},
   "outputs": [],
   "source": [
    "list_sessions = df1[df1['SessionID'].notna()]['SessionID'].unique()"
   ]
  },
  {
   "cell_type": "markdown",
   "id": "00530de9",
   "metadata": {},
   "source": [
    "**checking for new starts within each session**\n",
    "<br> correcting for indirect labelling of sessionID"
   ]
  },
  {
   "cell_type": "code",
   "execution_count": 31,
   "id": "bf1517dc",
   "metadata": {},
   "outputs": [],
   "source": [
    "# create new session names\n",
    "new_session_name = []\n",
    "def iter_all_strings():\n",
    "    for size in itertools.count(1):\n",
    "        for s in itertools.product(ascii_lowercase, repeat=size):\n",
    "            yield ''.join(s)\n",
    "\n",
    "# max 300 new session names based on alphabet-combinations\n",
    "for s in itertools.islice(iter_all_strings(), 300):\n",
    "    new_session_name.append(s)"
   ]
  },
  {
   "cell_type": "markdown",
   "id": "adc61a43",
   "metadata": {},
   "source": [
    "*splitting sessionID based on 'TimeStampMS_diff'<0*"
   ]
  },
  {
   "cell_type": "code",
   "execution_count": 32,
   "id": "0b9ea839",
   "metadata": {},
   "outputs": [
    {
     "name": "stdout",
     "output_type": "stream",
     "text": [
      "2 TTSH-CHISELnakxyOdKt0evGYsc/lsoKA== 0 a\n",
      "1 TTSH-CHISELCi7P/FD6Bkevuxtj9hChdw== 0 b\n",
      "1 TTSH-CHISELCi7P/FD6Bkevuxtj9hChdw== 1 c\n",
      "1 TTSH-CHISELCi7P/FD6Bkevuxtj9hChdw== 2 d\n",
      "1 TTSH-CHISEL6VyFaP+VakaD5ivX4JqYZg== 0 e\n",
      "1 TTSH-CHISEL6VyFaP+VakaD5ivX4JqYZg== 1 f\n",
      "1 TTSH-CHISEL6VyFaP+VakaD5ivX4JqYZg== 2 g\n"
     ]
    }
   ],
   "source": [
    "# check for negative timestamp\n",
    "new = 0\n",
    "for session in list_sessions:\n",
    "    session_temp = df1[df1['SessionID']==session].reset_index().drop(columns=['level_0'])\n",
    "    \n",
    "    # drop all last index, to make life easier\n",
    "    last_index=session_temp['index'].iloc[-1]\n",
    "    session_temp.drop(session_temp[(session_temp['index'] == last_index)].index,axis=0,inplace=True)\n",
    "    df1.drop(df1[(df1['index'] == last_index)].index,axis=0,inplace=True)\n",
    "    \n",
    "    for game in range(0,3):\n",
    "        if game in session_temp['GameID'].unique():\n",
    "            temp3 = session_temp[session_temp['GameID']==game]\n",
    "            temp3['TimeStampMS_diff'] = temp3[['TimeStampMS']].diff()\n",
    "\n",
    "            # should not include last index already removed\n",
    "            idx = temp3[temp3['TimeStampMS_diff']<0]['index'].values\n",
    "\n",
    "            if len(idx) >= 1:\n",
    "                first_index=temp3['index'].iloc[0]\n",
    "                # new last_index iloc[-2]\n",
    "                last_index=temp3['index'].iloc[-1]\n",
    "\n",
    "                if len(idx)==1:\n",
    "                    # check first index\n",
    "                    if idx[0] == first_index:\n",
    "                        pass\n",
    "                    # double check last index\n",
    "                    # nothing should happen here\n",
    "                    elif idx[-1] == last_index:\n",
    "                        # drop last value of sessionid\n",
    "                        df1.drop(df1[(df1['index'] == last_index)].index,axis=0,inplace=True)\n",
    "        #                 idx = idx[:-1]\n",
    "                    # index is middle\n",
    "                    else: #(idx[0]!=first_index) or (idx[0]!=last_index):\n",
    "                        df1.loc[(df1['index'] >= idx[0]) & (df1['index'] <= last_index), 'SessionID'] = new_session_name[new]\n",
    "                        print(1,session,game,new_session_name[new])\n",
    "                        new += 1\n",
    "\n",
    "                else:                \n",
    "                    for nr in range(len(idx)-1):\n",
    "                        df1.loc[(df1['index'] >= idx[nr]) & (df1['index'] <= idx[nr+1]), 'SessionID'] = new_session_name[new]\n",
    "                        print(2,session,game,new_session_name[new])\n",
    "                        new += 1\n"
   ]
  },
  {
   "cell_type": "markdown",
   "id": "3317672e",
   "metadata": {},
   "source": [
    "*splitting sessionID once more for 'TimeStampMS_diff' > 120s*"
   ]
  },
  {
   "cell_type": "code",
   "execution_count": 33,
   "id": "b658de79",
   "metadata": {},
   "outputs": [],
   "source": [
    "# updated list_sessions\n",
    "list_sessions = df1[df1['SessionID'].notna()]['SessionID'].unique()"
   ]
  },
  {
   "cell_type": "code",
   "execution_count": 34,
   "id": "36511857",
   "metadata": {},
   "outputs": [
    {
     "name": "stdout",
     "output_type": "stream",
     "text": [
      "1 TTSH-CHISELnakxyOdKt0evGYsc/lsoKA== 0 h\n"
     ]
    }
   ],
   "source": [
    "# double check\n",
    "# check for negative timestamp\n",
    "for session in list_sessions:\n",
    "    session_temp = df1[df1['SessionID']==session].reset_index().drop(columns=['level_0'])\n",
    "    \n",
    "    for game in range(0,3):\n",
    "        if game in session_temp['GameID'].unique():\n",
    "            temp3 = session_temp[session_temp['GameID']==game]\n",
    "            temp3['TimeStampMS_diff'] = temp3[['TimeStampMS']].diff()\n",
    "\n",
    "            # should not include last index already removed\n",
    "            idx = temp3[temp3['TimeStampMS_diff']<0]['index'].values\n",
    "\n",
    "            if len(idx) >= 1:\n",
    "                first_index=temp3['index'].iloc[0]\n",
    "                # new last_index iloc[-2]\n",
    "                last_index=temp3['index'].iloc[-1]\n",
    "\n",
    "                if len(idx)==1:\n",
    "                    # check first index\n",
    "                    if idx[0] == first_index:\n",
    "                        pass\n",
    "                    # double check last index\n",
    "                    # nothing should happen here\n",
    "                    elif idx[-1] == last_index:\n",
    "                        # drop last value of sessionid\n",
    "                        df1.drop(df1[(df1['index'] == last_index)].index,axis=0,inplace=True)\n",
    "        #                 idx = idx[:-1]\n",
    "                    # index is middle\n",
    "                    else: #(idx[0]!=first_index) or (idx[0]!=last_index):\n",
    "                        df1.loc[(df1['index'] >= idx[0]) & (df1['index'] <= last_index), 'SessionID'] = new_session_name[new]\n",
    "                        print(1,session,game,new_session_name[new])\n",
    "                        new += 1\n",
    "\n",
    "                else:                \n",
    "                    for nr in range(len(idx)-1):\n",
    "                        df1.loc[(df1['index'] >= idx[nr]) & (df1['index'] <= idx[nr+1]), 'SessionID'] = new_session_name[new]\n",
    "                        print(2,session,game,new_session_name[new])\n",
    "                        new += 1\n"
   ]
  },
  {
   "cell_type": "code",
   "execution_count": 35,
   "id": "891bb522",
   "metadata": {},
   "outputs": [],
   "source": [
    "# updated list_sessions\n",
    "list_sessions = df1[df1['SessionID'].notna()]['SessionID'].unique()"
   ]
  },
  {
   "cell_type": "code",
   "execution_count": 36,
   "id": "c181dae3",
   "metadata": {},
   "outputs": [],
   "source": [
    "# check for large time gaps between sessions\n",
    "# use 'new' from previous run of splitting sessionID\n",
    "for session in list_sessions:\n",
    "    session_temp = df1[df1['SessionID']==session].reset_index().drop(columns=['level_0'])\n",
    "    for game in range(0,3):\n",
    "        if game in session_temp['GameID'].unique():\n",
    "            temp3 = session_temp[session_temp['GameID']==game]\n",
    "            temp3['TimeStampMS_diff'] = temp3[['TimeStampMS']].diff()\n",
    "            \n",
    "            idx2 = temp3[temp3['TimeStampMS_diff']>=100000]['index'].values\n",
    "            \n",
    "            if len(idx2) >= 1:\n",
    "                first_index=temp3['index'].iloc[0]\n",
    "                last_index=temp3['index'].iloc[-1]\n",
    "\n",
    "                if len(idx2)==1:\n",
    "                    # check first index\n",
    "                    if idx2[0] == first_index:\n",
    "                        pass          \n",
    "                    # check last index\n",
    "                    elif (idx2[-1] == last_index):\n",
    "                        # drop last value of idx \n",
    "                        df1.drop(df1[(df1['index'] == last_index)].index,axis=0,inplace=True)\n",
    "                    # index is middle\n",
    "                    else: #(idx2[0]!=first_index) or (idx2[0]!=last_index):\n",
    "                        df1.loc[(df1['index'] >= idx2[0]) & (df1['index'] <= last_index), 'SessionID'] = new_session_name[new]\n",
    "#                         print(1,session,game,new_session_name[new])\n",
    "                        new += 1\n",
    "\n",
    "                else:                   \n",
    "                    for nr in range(len(idx2)-1):\n",
    "                        df1.loc[(df1['index'] >= idx2[nr]) & (df1['index'] <= idx2[nr+1]), 'SessionID'] = new_session_name[new]\n",
    "#                         print(2,session,game,new_session_name[new])\n",
    "                        new += 1\n"
   ]
  },
  {
   "cell_type": "code",
   "execution_count": 37,
   "id": "cad108c3",
   "metadata": {},
   "outputs": [],
   "source": [
    "# updated list_sessions\n",
    "list_sessions = df1[df1['SessionID'].notna()]['SessionID'].unique()"
   ]
  },
  {
   "cell_type": "code",
   "execution_count": 38,
   "id": "fb4de604",
   "metadata": {},
   "outputs": [],
   "source": [
    "# quad run\n",
    "# double check for large time gaps between sessions\n",
    "for session in list_sessions:\n",
    "    session_temp = df1[df1['SessionID']==session].reset_index().drop(columns=['level_0'])\n",
    "    for game in range(0,3):\n",
    "        if game in session_temp['GameID'].unique():\n",
    "            temp3 = session_temp[session_temp['GameID']==game]\n",
    "            temp3['TimeStampMS_diff'] = temp3[['TimeStampMS']].diff()\n",
    "            \n",
    "            idx2 = temp3[temp3['TimeStampMS_diff']>=100000]['index'].values\n",
    "            \n",
    "            if len(idx2) >= 1:\n",
    "                first_index=temp3['index'].iloc[0]\n",
    "                last_index=temp3['index'].iloc[-1]\n",
    "\n",
    "                if len(idx2)==1:\n",
    "                    # check first index\n",
    "                    if idx2[0] == first_index:\n",
    "                        pass          \n",
    "                    # check last index\n",
    "                    elif (idx2[-1] == last_index):\n",
    "                        # drop last value of idx \n",
    "                        df1.drop(df1[(df1['index'] == last_index)].index,axis=0,inplace=True)\n",
    "                    # index is middle\n",
    "                    else: #(idx2[0]!=first_index) or (idx2[0]!=last_index):\n",
    "                        df1.loc[(df1['index'] >= idx2[0]) & (df1['index'] <= last_index), 'SessionID'] = new_session_name[new]\n",
    "#                         print(1,session,game,new_session_name[new])\n",
    "                        new += 1\n",
    "\n",
    "                else:                   \n",
    "                    for nr in range(len(idx2)-1):\n",
    "                        df1.loc[(df1['index'] >= idx2[nr]) & (df1['index'] <= idx2[nr+1]), 'SessionID'] = new_session_name[new]\n",
    "#                         print(2,session,game,new_session_name[new])\n",
    "                        new += 1\n"
   ]
  },
  {
   "cell_type": "code",
   "execution_count": 39,
   "id": "0d8082ce",
   "metadata": {},
   "outputs": [],
   "source": [
    "# updated list_sessions\n",
    "list_sessions = df1[df1['SessionID'].notna()]['SessionID'].unique()"
   ]
  },
  {
   "cell_type": "markdown",
   "id": "ef247833",
   "metadata": {},
   "source": [
    "#### remove invalid gameplays"
   ]
  },
  {
   "cell_type": "code",
   "execution_count": 40,
   "id": "ed8d29dd",
   "metadata": {},
   "outputs": [],
   "source": [
    "# time duration\n",
    "for session in list_sessions:\n",
    "    session_temp = df1[df1['SessionID']==session].reset_index().drop(columns=['level_0'])\n",
    "    for game in range(0,3):\n",
    "        if game in session_temp['GameID'].unique():\n",
    "            temp3 = session_temp[session_temp['GameID']==game]\n",
    "            temp3['tsec'] = temp3[['TimeStampMS']].diff().cumsum(axis=0)/1000\n",
    "            \n",
    "            first_index=temp3['index'].iloc[0]\n",
    "            last_index=temp3['index'].iloc[-1]\n",
    "            \n",
    "            # drop if session < 120s or smaller than size 5000 (should have at least 10000 rows for 120s worth of data)\n",
    "            if len(temp3['tsec'])>=2500:\n",
    "#             print(session, game, temp3['tsec'].iloc[-2])\n",
    "                if temp3['tsec'].iloc[-2] <= 120:\n",
    "                    df1.drop(df1[(df1['index'] >= first_index) & (df1['index'] <= last_index)].index,axis=0,inplace=True)\n",
    "            else:\n",
    "                df1.drop(df1[(df1['index'] >= first_index) & (df1['index'] <= last_index)].index,axis=0,inplace=True)"
   ]
  },
  {
   "cell_type": "markdown",
   "id": "9e4de66b",
   "metadata": {},
   "source": [
    "#### check timestampms duplicates"
   ]
  },
  {
   "cell_type": "code",
   "execution_count": 41,
   "id": "52156bff",
   "metadata": {},
   "outputs": [],
   "source": [
    "# for session in list_sessions:\n",
    "#     session_temp = df1[df1['SessionID']==session].reset_index().drop(columns=['level_0'])\n",
    "#     for game in range(0,session_temp['GameID'].nunique()):\n",
    "#         if game in session_temp['GameID'].unique():\n",
    "#             temp4 = session_temp[session_temp['GameID']==game]\n",
    "#             temp4['TimeStampMS_diff'] = temp4[['TimeStampMS']].diff()\n",
    "#             temp4['tsec'] = temp4[['TimeStampMS']].diff().cumsum(axis=0)/1000\n",
    "                "
   ]
  },
  {
   "cell_type": "markdown",
   "id": "7df1b4fc",
   "metadata": {},
   "source": [
    "#### keep final sessions in df within a list"
   ]
  },
  {
   "cell_type": "code",
   "execution_count": null,
   "id": "e4651212",
   "metadata": {},
   "outputs": [],
   "source": [
    "# # updated list_sessions\n",
    "list_sessions = df1[df1['SessionID'].notna()]['SessionID'].unique()\n",
    "\n",
    "df_session = []\n",
    "for session in list_sessions:\n",
    "    temp = df1[df1['SessionID']==session]  \n",
    "    df_session.append(temp)"
   ]
  },
  {
   "cell_type": "markdown",
   "id": "30a6b6eb",
   "metadata": {},
   "source": [
    "### Export time_session to csv"
   ]
  },
  {
   "cell_type": "markdown",
   "id": "ebb2dbde",
   "metadata": {},
   "source": [
    "**declare path for saving fig**\n",
    "<br> path/folder will change later, and declared again later"
   ]
  },
  {
   "cell_type": "code",
   "execution_count": null,
   "id": "fc455f67",
   "metadata": {},
   "outputs": [],
   "source": [
    "# export df_session to csv\n",
    "patientid = df['PatientID'].unique()[0]\n",
    "pd.concat(df_session).to_csv('./data/P' + patientid + '_df_session.csv')\n",
    "\n",
    "# export df_session to h5\n",
    "pd.concat(df_session).to_hdf('./data/P' + patientid + '_df_session.h5', key='df', mode='w')"
   ]
  },
  {
   "cell_type": "markdown",
   "id": "c6fe5fe4",
   "metadata": {},
   "source": [
    "*create dataframe*"
   ]
  },
  {
   "cell_type": "code",
   "execution_count": null,
   "id": "dc410e7c",
   "metadata": {},
   "outputs": [],
   "source": [
    "# sessions have increased, since new session are created when new starts to gameplay were detected\n",
    "len(df_session)"
   ]
  },
  {
   "cell_type": "code",
   "execution_count": null,
   "id": "89584dbe",
   "metadata": {},
   "outputs": [],
   "source": [
    "# number of games played\n",
    "df1['GameID'].unique()"
   ]
  },
  {
   "cell_type": "code",
   "execution_count": null,
   "id": "9b1d198a",
   "metadata": {},
   "outputs": [],
   "source": [
    "session_nr = []\n",
    "game_nr = []\n",
    "start = []\n",
    "end = []\n",
    "diff = []\n",
    "for session, df_list in enumerate(df_session):\n",
    "    for game in range(0,3):\n",
    "        if game in df_list['GameID'].unique():\n",
    "            session_nr.append(session)\n",
    "            game_nr.append(game)\n",
    "            temp = df_list[df_list['GameID']==game]\n",
    "            \n",
    "            start.append(temp[['date_time']].iloc[0][0])\n",
    "            end.append(temp[['date_time']].iloc[-1][0])\n",
    "            time_diff = (temp[['date_time']].iloc[-1][0]) - (temp[['date_time']].iloc[0][0])\n",
    "            diff.append(time_diff/ np.timedelta64(1,'m'))    # in minutes\n",
    "        "
   ]
  },
  {
   "cell_type": "code",
   "execution_count": null,
   "id": "2ad145b6",
   "metadata": {},
   "outputs": [],
   "source": [
    "# put in df\n",
    "time_session = []\n",
    "for row in range(0,len(session_nr)):\n",
    "    time_session.append(row)\n",
    "time_session = pd.DataFrame(time_session,columns=['session_nr'])   \n",
    "time_session['session_nr'] = session_nr\n",
    "time_session['game_nr'] = game_nr\n",
    "time_session['start'] = start\n",
    "time_session['end'] = end\n",
    "time_session['diff'] = diff  # in minutes\n",
    "time_session['just_date'] = time_session['start'].dt.date"
   ]
  },
  {
   "cell_type": "code",
   "execution_count": null,
   "id": "b6ecfdd3",
   "metadata": {},
   "outputs": [],
   "source": [
    "# time_session of which patient\n",
    "print(patientid)"
   ]
  },
  {
   "cell_type": "code",
   "execution_count": null,
   "id": "74423dac",
   "metadata": {},
   "outputs": [],
   "source": [
    "time_session"
   ]
  },
  {
   "cell_type": "code",
   "execution_count": null,
   "id": "71fc09df",
   "metadata": {},
   "outputs": [],
   "source": [
    "# dfi.export(time_session,\"time_session.png\")\n",
    "# dfi.export(time_session[time_session['game_nr']==0],\"time_explore.png\")\n",
    "# dfi.export(time_session[time_session['game_nr']==1],\"time_fish.png\")\n",
    "# dfi.export(time_session[time_session['game_nr']==2],\"time_drone.png\")"
   ]
  },
  {
   "cell_type": "code",
   "execution_count": null,
   "id": "aa967fe1",
   "metadata": {},
   "outputs": [],
   "source": [
    "print(f'total run time = {datetime.now()-start_codes}')"
   ]
  }
 ],
 "metadata": {
  "kernelspec": {
   "display_name": "Python 3",
   "language": "python",
   "name": "python3"
  },
  "language_info": {
   "codemirror_mode": {
    "name": "ipython",
    "version": 3
   },
   "file_extension": ".py",
   "mimetype": "text/x-python",
   "name": "python",
   "nbconvert_exporter": "python",
   "pygments_lexer": "ipython3",
   "version": "3.8.8"
  },
  "toc": {
   "base_numbering": 1,
   "nav_menu": {},
   "number_sections": true,
   "sideBar": true,
   "skip_h1_title": false,
   "title_cell": "Table of Contents",
   "title_sidebar": "Contents",
   "toc_cell": false,
   "toc_position": {
    "height": "839.7px",
    "left": "59px",
    "top": "111.433px",
    "width": "334px"
   },
   "toc_section_display": true,
   "toc_window_display": true
  }
 },
 "nbformat": 4,
 "nbformat_minor": 5
}
