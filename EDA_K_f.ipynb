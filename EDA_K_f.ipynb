{
 "cells": [
  {
   "cell_type": "markdown",
   "id": "a29a47c1",
   "metadata": {},
   "source": [
    "### Analysing K_f"
   ]
  },
  {
   "cell_type": "markdown",
   "id": "26e3d06a",
   "metadata": {},
   "source": [
    "*import libraries*"
   ]
  },
  {
   "cell_type": "code",
   "execution_count": 1,
   "id": "a5677ef3",
   "metadata": {},
   "outputs": [],
   "source": [
    "import os\n",
    "import sys\n",
    "import glob\n",
    "import sqlite3 as sl\n",
    "\n",
    "import pandas as pd\n",
    "import numpy as np\n",
    "from datetime import datetime\n",
    "import seaborn as sns\n",
    "import matplotlib.pyplot as plt\n",
    "import matplotlib.ticker as mticker\n",
    "%matplotlib inline\n",
    "\n",
    "import math\n",
    "import statistics\n",
    "import scipy.stats\n"
   ]
  },
  {
   "cell_type": "markdown",
   "id": "4ea7dc35",
   "metadata": {},
   "source": [
    "**import data**"
   ]
  },
  {
   "cell_type": "code",
   "execution_count": 2,
   "id": "7f30434a",
   "metadata": {},
   "outputs": [],
   "source": [
    "path = './data/P00' "
   ]
  },
  {
   "cell_type": "code",
   "execution_count": 3,
   "id": "a6915d8f",
   "metadata": {},
   "outputs": [],
   "source": [
    "# loop dfs from *.csv\n",
    "list_of_kagers = []\n",
    "list_of_kagers = [pd.read_csv(filename) for filename in glob.glob(path + '*_K_f.csv')]"
   ]
  },
  {
   "cell_type": "code",
   "execution_count": 4,
   "id": "64b29cca",
   "metadata": {},
   "outputs": [],
   "source": [
    "list_of_kf_median = []\n",
    "list_of_kf_median = [pd.read_csv(filename) for filename in glob.glob(path + '*_K_f_median.csv')]"
   ]
  },
  {
   "cell_type": "code",
   "execution_count": 5,
   "id": "b8cec85b",
   "metadata": {},
   "outputs": [],
   "source": [
    "list_of_kf_MAD = []\n",
    "list_of_kf_MAD = [pd.read_csv(filename) for filename in glob.glob(path + '*_K_f_MAD.csv')]"
   ]
  },
  {
   "cell_type": "code",
   "execution_count": 6,
   "id": "bc72f548",
   "metadata": {},
   "outputs": [],
   "source": [
    "# xlsx = pd.ExcelFile('./data/Clinical_001_003.xlsx')\n",
    "clinical = pd.read_excel('./data/Clinical_001_006.xlsx',header=1)"
   ]
  },
  {
   "cell_type": "code",
   "execution_count": 7,
   "id": "467022f0",
   "metadata": {},
   "outputs": [
    {
     "data": {
      "text/html": [
       "<div>\n",
       "<style scoped>\n",
       "    .dataframe tbody tr th:only-of-type {\n",
       "        vertical-align: middle;\n",
       "    }\n",
       "\n",
       "    .dataframe tbody tr th {\n",
       "        vertical-align: top;\n",
       "    }\n",
       "\n",
       "    .dataframe thead th {\n",
       "        text-align: right;\n",
       "    }\n",
       "</style>\n",
       "<table border=\"1\" class=\"dataframe\">\n",
       "  <thead>\n",
       "    <tr style=\"text-align: right;\">\n",
       "      <th></th>\n",
       "      <th>Unnamed: 0</th>\n",
       "      <th>age (years)</th>\n",
       "      <th>gender</th>\n",
       "      <th>handedness</th>\n",
       "      <th>date of event</th>\n",
       "      <th>nature of stroke</th>\n",
       "      <th>side of stroke</th>\n",
       "      <th>involved UL</th>\n",
       "      <th>first/recurrent stroke</th>\n",
       "      <th>Oxford scale</th>\n",
       "      <th>...</th>\n",
       "      <th>UL fugl meyer.1</th>\n",
       "      <th>SWMFT- time (seconds).1</th>\n",
       "      <th>SWMFT- FAS.1</th>\n",
       "      <th>ARAT .1</th>\n",
       "      <th>grip- affected (kg/f).1</th>\n",
       "      <th>grip- unaffected (kg/f).1</th>\n",
       "      <th>MAS- shoulder.1</th>\n",
       "      <th>MAS- elbow.1</th>\n",
       "      <th>MAS- wrist.1</th>\n",
       "      <th>MAS- fingers.1</th>\n",
       "    </tr>\n",
       "  </thead>\n",
       "  <tbody>\n",
       "    <tr>\n",
       "      <th>0</th>\n",
       "      <td>CHI_001</td>\n",
       "      <td>75.0</td>\n",
       "      <td>M</td>\n",
       "      <td>R</td>\n",
       "      <td>2020-05-01</td>\n",
       "      <td>infarct</td>\n",
       "      <td>L</td>\n",
       "      <td>R</td>\n",
       "      <td>first</td>\n",
       "      <td>Lacunar</td>\n",
       "      <td>...</td>\n",
       "      <td>17/66</td>\n",
       "      <td>76.010</td>\n",
       "      <td>1.630</td>\n",
       "      <td>4/57</td>\n",
       "      <td>5.57</td>\n",
       "      <td>30.57</td>\n",
       "      <td>0</td>\n",
       "      <td>1</td>\n",
       "      <td>1+</td>\n",
       "      <td>1+</td>\n",
       "    </tr>\n",
       "    <tr>\n",
       "      <th>1</th>\n",
       "      <td>CHI_002</td>\n",
       "      <td>52.0</td>\n",
       "      <td>M</td>\n",
       "      <td>R</td>\n",
       "      <td>2012-07-01</td>\n",
       "      <td>haemorrhage</td>\n",
       "      <td>L</td>\n",
       "      <td>R</td>\n",
       "      <td>first</td>\n",
       "      <td>BG</td>\n",
       "      <td>...</td>\n",
       "      <td>33/66</td>\n",
       "      <td>61.610</td>\n",
       "      <td>2.130</td>\n",
       "      <td>12/57</td>\n",
       "      <td>7.63</td>\n",
       "      <td>26.87</td>\n",
       "      <td>1</td>\n",
       "      <td>1+</td>\n",
       "      <td>1+</td>\n",
       "      <td>1</td>\n",
       "    </tr>\n",
       "    <tr>\n",
       "      <th>2</th>\n",
       "      <td>CHI_003</td>\n",
       "      <td>54.0</td>\n",
       "      <td>M</td>\n",
       "      <td>R</td>\n",
       "      <td>2021-03-01</td>\n",
       "      <td>infarct</td>\n",
       "      <td>L</td>\n",
       "      <td>R</td>\n",
       "      <td>first</td>\n",
       "      <td>lacunar</td>\n",
       "      <td>...</td>\n",
       "      <td>43/66</td>\n",
       "      <td>34.770</td>\n",
       "      <td>2.500</td>\n",
       "      <td>21/57</td>\n",
       "      <td>9.77</td>\n",
       "      <td>24.07</td>\n",
       "      <td>1</td>\n",
       "      <td>1+</td>\n",
       "      <td>1+</td>\n",
       "      <td>1+</td>\n",
       "    </tr>\n",
       "    <tr>\n",
       "      <th>3</th>\n",
       "      <td>CHI_004</td>\n",
       "      <td>NaN</td>\n",
       "      <td>NaN</td>\n",
       "      <td>NaN</td>\n",
       "      <td>NaT</td>\n",
       "      <td>NaN</td>\n",
       "      <td>R</td>\n",
       "      <td>NaN</td>\n",
       "      <td>NaN</td>\n",
       "      <td>NaN</td>\n",
       "      <td>...</td>\n",
       "      <td>38/66</td>\n",
       "      <td>61.570</td>\n",
       "      <td>1.875</td>\n",
       "      <td>6/57</td>\n",
       "      <td>5.53</td>\n",
       "      <td>23.87</td>\n",
       "      <td>0</td>\n",
       "      <td>1</td>\n",
       "      <td>1</td>\n",
       "      <td>2</td>\n",
       "    </tr>\n",
       "    <tr>\n",
       "      <th>4</th>\n",
       "      <td>CHI_006</td>\n",
       "      <td>NaN</td>\n",
       "      <td>NaN</td>\n",
       "      <td>NaN</td>\n",
       "      <td>NaT</td>\n",
       "      <td>NaN</td>\n",
       "      <td>L</td>\n",
       "      <td>NaN</td>\n",
       "      <td>NaN</td>\n",
       "      <td>NaN</td>\n",
       "      <td>...</td>\n",
       "      <td>50/66</td>\n",
       "      <td>3.135</td>\n",
       "      <td>3.250</td>\n",
       "      <td>34/57</td>\n",
       "      <td>9.50</td>\n",
       "      <td>27.27</td>\n",
       "      <td>0</td>\n",
       "      <td>1</td>\n",
       "      <td>0</td>\n",
       "      <td>0</td>\n",
       "    </tr>\n",
       "  </tbody>\n",
       "</table>\n",
       "<p>5 rows × 30 columns</p>\n",
       "</div>"
      ],
      "text/plain": [
       "  Unnamed: 0  age (years) gender handedness date of event nature of stroke  \\\n",
       "0    CHI_001         75.0      M          R    2020-05-01          infarct   \n",
       "1    CHI_002         52.0      M          R    2012-07-01      haemorrhage   \n",
       "2    CHI_003         54.0      M          R    2021-03-01          infarct   \n",
       "3    CHI_004          NaN    NaN        NaN           NaT              NaN   \n",
       "4    CHI_006          NaN    NaN        NaN           NaT              NaN   \n",
       "\n",
       "  side of stroke involved UL first/recurrent stroke Oxford scale  ...  \\\n",
       "0              L           R                  first      Lacunar  ...   \n",
       "1              L           R                  first           BG  ...   \n",
       "2              L           R                  first      lacunar  ...   \n",
       "3              R         NaN                    NaN          NaN  ...   \n",
       "4              L         NaN                    NaN          NaN  ...   \n",
       "\n",
       "  UL fugl meyer.1  SWMFT- time (seconds).1  SWMFT- FAS.1 ARAT .1  \\\n",
       "0           17/66                   76.010         1.630    4/57   \n",
       "1           33/66                   61.610         2.130   12/57   \n",
       "2           43/66                   34.770         2.500   21/57   \n",
       "3           38/66                   61.570         1.875    6/57   \n",
       "4           50/66                    3.135         3.250   34/57   \n",
       "\n",
       "   grip- affected (kg/f).1  grip- unaffected (kg/f).1  MAS- shoulder.1  \\\n",
       "0                     5.57                      30.57                0   \n",
       "1                     7.63                      26.87                1   \n",
       "2                     9.77                      24.07                1   \n",
       "3                     5.53                      23.87                0   \n",
       "4                     9.50                      27.27                0   \n",
       "\n",
       "  MAS- elbow.1  MAS- wrist.1 MAS- fingers.1  \n",
       "0            1            1+             1+  \n",
       "1           1+            1+              1  \n",
       "2           1+            1+             1+  \n",
       "3            1             1              2  \n",
       "4            1             0              0  \n",
       "\n",
       "[5 rows x 30 columns]"
      ]
     },
     "execution_count": 7,
     "metadata": {},
     "output_type": "execute_result"
    }
   ],
   "source": [
    "clinical"
   ]
  },
  {
   "cell_type": "code",
   "execution_count": 8,
   "id": "4eecf38e",
   "metadata": {},
   "outputs": [
    {
     "name": "stdout",
     "output_type": "stream",
     "text": [
      "<class 'pandas.core.frame.DataFrame'>\n",
      "RangeIndex: 5 entries, 0 to 4\n",
      "Data columns (total 30 columns):\n",
      " #   Column                     Non-Null Count  Dtype         \n",
      "---  ------                     --------------  -----         \n",
      " 0   Unnamed: 0                 5 non-null      object        \n",
      " 1   age (years)                3 non-null      float64       \n",
      " 2   gender                     3 non-null      object        \n",
      " 3   handedness                 3 non-null      object        \n",
      " 4   date of event              3 non-null      datetime64[ns]\n",
      " 5   nature of stroke           3 non-null      object        \n",
      " 6   side of stroke             5 non-null      object        \n",
      " 7   involved UL                3 non-null      object        \n",
      " 8   first/recurrent stroke     3 non-null      object        \n",
      " 9   Oxford scale               3 non-null      object        \n",
      " 10  UL fugl meyer              5 non-null      object        \n",
      " 11  SWMFT- time (seconds)      5 non-null      float64       \n",
      " 12  SWMFT- FAS                 5 non-null      float64       \n",
      " 13  ARAT                       5 non-null      object        \n",
      " 14  grip- affected (kg/f)      5 non-null      float64       \n",
      " 15  grip- unaffected (kg/f)    5 non-null      float64       \n",
      " 16  MAS- shoulder              5 non-null      int64         \n",
      " 17  MAS- elbow                 5 non-null      object        \n",
      " 18  MAS- wrist                 5 non-null      int64         \n",
      " 19  MAS- fingers               5 non-null      object        \n",
      " 20  UL fugl meyer.1            5 non-null      object        \n",
      " 21  SWMFT- time (seconds).1    5 non-null      float64       \n",
      " 22  SWMFT- FAS.1               5 non-null      float64       \n",
      " 23  ARAT .1                    5 non-null      object        \n",
      " 24  grip- affected (kg/f).1    5 non-null      float64       \n",
      " 25  grip- unaffected (kg/f).1  5 non-null      float64       \n",
      " 26  MAS- shoulder.1            5 non-null      int64         \n",
      " 27  MAS- elbow.1               5 non-null      object        \n",
      " 28  MAS- wrist.1               5 non-null      object        \n",
      " 29  MAS- fingers.1             5 non-null      object        \n",
      "dtypes: datetime64[ns](1), float64(9), int64(3), object(17)\n",
      "memory usage: 1.3+ KB\n"
     ]
    }
   ],
   "source": [
    "clinical.info()"
   ]
  },
  {
   "cell_type": "markdown",
   "id": "271eac28",
   "metadata": {},
   "source": [
    "**cleaning clinical df**"
   ]
  },
  {
   "cell_type": "code",
   "execution_count": 9,
   "id": "793aa303",
   "metadata": {},
   "outputs": [
    {
     "name": "stderr",
     "output_type": "stream",
     "text": [
      "<ipython-input-9-91a83dbea998>:2: FutureWarning: The default value of regex will change from True to False in a future version.\n",
      "  clinical.columns = clinical.columns.str.replace(r'\\(.*\\) ?','')\n"
     ]
    }
   ],
   "source": [
    "clinical.columns = clinical.columns.str.replace(' ','')\n",
    "clinical.columns = clinical.columns.str.replace(r'\\(.*\\) ?','')\n",
    "clinical['ULfuglmeyer'] = clinical['ULfuglmeyer'].str.replace('/',' ').str[:2].astype(int)\n",
    "clinical['ULfuglmeyer.1'] = clinical['ULfuglmeyer.1'].str.replace('/',' ').str[:2].astype(int)\n",
    "clinical['ARAT'] = clinical['ARAT'].str.replace('/',' ').str[:2].astype(int)\n",
    "clinical['ARAT.1'] = clinical['ARAT.1'].str.replace('/',' ').str[:2].astype(int) "
   ]
  },
  {
   "cell_type": "markdown",
   "id": "1543bb32",
   "metadata": {},
   "source": [
    "#### K_f"
   ]
  },
  {
   "cell_type": "code",
   "execution_count": 10,
   "id": "08e23e4f",
   "metadata": {},
   "outputs": [],
   "source": [
    "player_nr = []\n",
    "initial_K_f = []\n",
    "change_K_f = []\n",
    "for nr, kager in enumerate(list_of_kagers):\n",
    "    kager.rename(columns = {'0' : 'K_f',\n",
    "                           'Unnamed: 0' : 'session_nr'}, inplace=True)\n",
    "    K_f_diff = kager['K_f'].iloc[-1] - kager['K_f'].iloc[1]\n",
    "    player_nr.append(nr+1)\n",
    "    initial_K_f.append(kager['K_f'].iloc[1])\n",
    "    change_K_f.append(K_f_diff)\n"
   ]
  },
  {
   "cell_type": "code",
   "execution_count": 11,
   "id": "062ae074",
   "metadata": {},
   "outputs": [
    {
     "data": {
      "text/html": [
       "<div>\n",
       "<style scoped>\n",
       "    .dataframe tbody tr th:only-of-type {\n",
       "        vertical-align: middle;\n",
       "    }\n",
       "\n",
       "    .dataframe tbody tr th {\n",
       "        vertical-align: top;\n",
       "    }\n",
       "\n",
       "    .dataframe thead th {\n",
       "        text-align: right;\n",
       "    }\n",
       "</style>\n",
       "<table border=\"1\" class=\"dataframe\">\n",
       "  <thead>\n",
       "    <tr style=\"text-align: right;\">\n",
       "      <th></th>\n",
       "      <th>player_nr</th>\n",
       "      <th>initial_K_f</th>\n",
       "      <th>change_K_f</th>\n",
       "    </tr>\n",
       "  </thead>\n",
       "  <tbody>\n",
       "    <tr>\n",
       "      <th>0</th>\n",
       "      <td>1</td>\n",
       "      <td>786.087373</td>\n",
       "      <td>-309.379401</td>\n",
       "    </tr>\n",
       "    <tr>\n",
       "      <th>1</th>\n",
       "      <td>2</td>\n",
       "      <td>411.861892</td>\n",
       "      <td>-417.190364</td>\n",
       "    </tr>\n",
       "    <tr>\n",
       "      <th>2</th>\n",
       "      <td>3</td>\n",
       "      <td>612.149016</td>\n",
       "      <td>-651.605513</td>\n",
       "    </tr>\n",
       "    <tr>\n",
       "      <th>3</th>\n",
       "      <td>4</td>\n",
       "      <td>160.280250</td>\n",
       "      <td>-174.480320</td>\n",
       "    </tr>\n",
       "    <tr>\n",
       "      <th>4</th>\n",
       "      <td>5</td>\n",
       "      <td>-1200.506883</td>\n",
       "      <td>1426.947495</td>\n",
       "    </tr>\n",
       "    <tr>\n",
       "      <th>5</th>\n",
       "      <td>6</td>\n",
       "      <td>136.548250</td>\n",
       "      <td>-240.534686</td>\n",
       "    </tr>\n",
       "  </tbody>\n",
       "</table>\n",
       "</div>"
      ],
      "text/plain": [
       "   player_nr  initial_K_f   change_K_f\n",
       "0          1   786.087373  -309.379401\n",
       "1          2   411.861892  -417.190364\n",
       "2          3   612.149016  -651.605513\n",
       "3          4   160.280250  -174.480320\n",
       "4          5 -1200.506883  1426.947495\n",
       "5          6   136.548250  -240.534686"
      ]
     },
     "execution_count": 11,
     "metadata": {},
     "output_type": "execute_result"
    }
   ],
   "source": [
    "K_f = {'player_nr' : player_nr,\n",
    "      'initial_K_f' : initial_K_f,\n",
    "      'change_K_f' : change_K_f}\n",
    "K_f = pd.DataFrame(K_f) \n",
    "K_f"
   ]
  },
  {
   "cell_type": "markdown",
   "id": "a01f249f",
   "metadata": {},
   "source": [
    "#### initial K_f vs change in K_f\n"
   ]
  },
  {
   "cell_type": "code",
   "execution_count": 12,
   "id": "44d7acb9",
   "metadata": {},
   "outputs": [
    {
     "data": {
      "text/plain": [
       "(-0.7714285714285715, 0.07239650145772594)"
      ]
     },
     "execution_count": 12,
     "metadata": {},
     "output_type": "execute_result"
    }
   ],
   "source": [
    "rho, p = scipy.stats.spearmanr(K_f['initial_K_f'],K_f['change_K_f'])\n",
    "rho, p"
   ]
  },
  {
   "cell_type": "code",
   "execution_count": 13,
   "id": "56d58e50",
   "metadata": {},
   "outputs": [
    {
     "data": {
      "image/png": "[encoded data removed]",
      "text/plain": [
       "<Figure size 432x288 with 1 Axes>"
      ]
     },
     "metadata": {
      "needs_background": "light"
     },
     "output_type": "display_data"
    }
   ],
   "source": [
    "plt.scatter(K_f['initial_K_f'],K_f['change_K_f'],marker='o')\n",
    "\n",
    "# plot trendline (linear fitting)\n",
    "z = np.polyfit(K_f['initial_K_f'],K_f['change_K_f'], 1)\n",
    "p = np.poly1d(z)\n",
    "plt.plot(K_f['initial_K_f'],p(K_f['initial_K_f']),'r-')\n",
    "\n",
    "plt.xlabel('initial K_f')\n",
    "plt.ylabel('change in K_f')\n",
    "plt.title('initial K_f vs change in K_f (last vs first session)',fontsize=12)\n",
    "plt.show();"
   ]
  },
  {
   "cell_type": "markdown",
   "id": "0ee45e64",
   "metadata": {},
   "source": [
    "**percentage of K_f ended in negative**"
   ]
  },
  {
   "cell_type": "code",
   "execution_count": 14,
   "id": "3427d429",
   "metadata": {},
   "outputs": [],
   "source": [
    "player_nr = []\n",
    "pct_Kf_neg = []\n",
    "for nr in range(0,len(list_of_kagers)):\n",
    "    player_nr.append(nr+1)\n",
    "    pct_Kf_neg.append(len(list_of_kagers[nr][list_of_kagers[nr]['K_f']<0])/len(list_of_kagers[nr]))"
   ]
  },
  {
   "cell_type": "code",
   "execution_count": 15,
   "id": "d37e1812",
   "metadata": {},
   "outputs": [
    {
     "data": {
      "text/html": [
       "<div>\n",
       "<style scoped>\n",
       "    .dataframe tbody tr th:only-of-type {\n",
       "        vertical-align: middle;\n",
       "    }\n",
       "\n",
       "    .dataframe tbody tr th {\n",
       "        vertical-align: top;\n",
       "    }\n",
       "\n",
       "    .dataframe thead th {\n",
       "        text-align: right;\n",
       "    }\n",
       "</style>\n",
       "<table border=\"1\" class=\"dataframe\">\n",
       "  <thead>\n",
       "    <tr style=\"text-align: right;\">\n",
       "      <th></th>\n",
       "      <th>player_nr</th>\n",
       "      <th>pct_Kf_neg</th>\n",
       "    </tr>\n",
       "  </thead>\n",
       "  <tbody>\n",
       "    <tr>\n",
       "      <th>0</th>\n",
       "      <td>1</td>\n",
       "      <td>0.00</td>\n",
       "    </tr>\n",
       "    <tr>\n",
       "      <th>1</th>\n",
       "      <td>2</td>\n",
       "      <td>35.71</td>\n",
       "    </tr>\n",
       "    <tr>\n",
       "      <th>2</th>\n",
       "      <td>3</td>\n",
       "      <td>34.07</td>\n",
       "    </tr>\n",
       "    <tr>\n",
       "      <th>3</th>\n",
       "      <td>4</td>\n",
       "      <td>60.34</td>\n",
       "    </tr>\n",
       "    <tr>\n",
       "      <th>4</th>\n",
       "      <td>5</td>\n",
       "      <td>10.64</td>\n",
       "    </tr>\n",
       "    <tr>\n",
       "      <th>5</th>\n",
       "      <td>6</td>\n",
       "      <td>90.00</td>\n",
       "    </tr>\n",
       "  </tbody>\n",
       "</table>\n",
       "</div>"
      ],
      "text/plain": [
       "   player_nr  pct_Kf_neg\n",
       "0          1        0.00\n",
       "1          2       35.71\n",
       "2          3       34.07\n",
       "3          4       60.34\n",
       "4          5       10.64\n",
       "5          6       90.00"
      ]
     },
     "execution_count": 15,
     "metadata": {},
     "output_type": "execute_result"
    }
   ],
   "source": [
    "K_f_final = {'player_nr' : player_nr,\n",
    "      'pct_Kf_neg' : np.around(pct_Kf_neg,4)*100}\n",
    "K_f_final = pd.DataFrame(K_f_final) \n",
    "K_f_final"
   ]
  },
  {
   "cell_type": "markdown",
   "id": "cacbe197",
   "metadata": {},
   "source": [
    "**correlation to time spent**"
   ]
  },
  {
   "cell_type": "code",
   "execution_count": 16,
   "id": "0e094cdc",
   "metadata": {},
   "outputs": [],
   "source": [
    "timedict = {\n",
    "  1: 5,\n",
    "  2: 39,\n",
    "  3: 22,\n",
    "  4: 41,\n",
    "  5: 45,\n",
    "  6: 22,\n",
    "}"
   ]
  },
  {
   "cell_type": "code",
   "execution_count": 17,
   "id": "90d57539",
   "metadata": {},
   "outputs": [
    {
     "data": {
      "text/html": [
       "<div>\n",
       "<style scoped>\n",
       "    .dataframe tbody tr th:only-of-type {\n",
       "        vertical-align: middle;\n",
       "    }\n",
       "\n",
       "    .dataframe tbody tr th {\n",
       "        vertical-align: top;\n",
       "    }\n",
       "\n",
       "    .dataframe thead th {\n",
       "        text-align: right;\n",
       "    }\n",
       "</style>\n",
       "<table border=\"1\" class=\"dataframe\">\n",
       "  <thead>\n",
       "    <tr style=\"text-align: right;\">\n",
       "      <th></th>\n",
       "      <th>player_nr</th>\n",
       "      <th>pct_Kf_neg</th>\n",
       "      <th>timespent</th>\n",
       "    </tr>\n",
       "  </thead>\n",
       "  <tbody>\n",
       "    <tr>\n",
       "      <th>0</th>\n",
       "      <td>1</td>\n",
       "      <td>0.00</td>\n",
       "      <td>5</td>\n",
       "    </tr>\n",
       "    <tr>\n",
       "      <th>1</th>\n",
       "      <td>2</td>\n",
       "      <td>35.71</td>\n",
       "      <td>39</td>\n",
       "    </tr>\n",
       "    <tr>\n",
       "      <th>2</th>\n",
       "      <td>3</td>\n",
       "      <td>34.07</td>\n",
       "      <td>22</td>\n",
       "    </tr>\n",
       "    <tr>\n",
       "      <th>3</th>\n",
       "      <td>4</td>\n",
       "      <td>60.34</td>\n",
       "      <td>41</td>\n",
       "    </tr>\n",
       "    <tr>\n",
       "      <th>4</th>\n",
       "      <td>5</td>\n",
       "      <td>10.64</td>\n",
       "      <td>45</td>\n",
       "    </tr>\n",
       "    <tr>\n",
       "      <th>5</th>\n",
       "      <td>6</td>\n",
       "      <td>90.00</td>\n",
       "      <td>22</td>\n",
       "    </tr>\n",
       "  </tbody>\n",
       "</table>\n",
       "</div>"
      ],
      "text/plain": [
       "   player_nr  pct_Kf_neg  timespent\n",
       "0          1        0.00          5\n",
       "1          2       35.71         39\n",
       "2          3       34.07         22\n",
       "3          4       60.34         41\n",
       "4          5       10.64         45\n",
       "5          6       90.00         22"
      ]
     },
     "execution_count": 17,
     "metadata": {},
     "output_type": "execute_result"
    }
   ],
   "source": [
    "K_f_final['timespent'] = K_f_final['player_nr'].map(timedict)\n",
    "K_f_final"
   ]
  },
  {
   "cell_type": "code",
   "execution_count": 18,
   "id": "cf048a7a",
   "metadata": {},
   "outputs": [
    {
     "data": {
      "text/plain": [
       "(0.17393131069573453, 0.7417339277316277)"
      ]
     },
     "execution_count": 18,
     "metadata": {},
     "output_type": "execute_result"
    }
   ],
   "source": [
    "rho, p = scipy.stats.spearmanr(K_f_final['timespent'],K_f_final['pct_Kf_neg'])\n",
    "rho, p"
   ]
  },
  {
   "cell_type": "code",
   "execution_count": 19,
   "id": "22a01f61",
   "metadata": {},
   "outputs": [
    {
     "data": {
      "image/png": "[encoded data removed]",
      "text/plain": [
       "<Figure size 432x288 with 1 Axes>"
      ]
     },
     "metadata": {
      "needs_background": "light"
     },
     "output_type": "display_data"
    }
   ],
   "source": [
    "# coorelation between neg K-f and time spent\n",
    "plt.scatter(K_f_final['timespent'],K_f_final['pct_Kf_neg'],marker='o')\n",
    "\n",
    "# plot trendline (linear fitting)\n",
    "z = np.polyfit(K_f_final['timespent'],K_f_final['pct_Kf_neg'], 1)\n",
    "p = np.poly1d(z)\n",
    "plt.plot(K_f_final['timespent'],p(K_f_final['timespent']),'r-')\n",
    "plt.xlim(left=0)\n",
    "plt.ylim(top=100)\n",
    "plt.xlabel('time spent (hrs)')\n",
    "plt.ylabel('% sessions in neg K_f')\n",
    "plt.title('percentage of sessions ending in perturbed mode vs total time spent training',fontsize=12)\n",
    "plt.show();"
   ]
  },
  {
   "cell_type": "markdown",
   "id": "b9334709",
   "metadata": {},
   "source": [
    "**average time on training day**"
   ]
  },
  {
   "cell_type": "code",
   "execution_count": 20,
   "id": "3b32b21e",
   "metadata": {},
   "outputs": [],
   "source": [
    "avetimedict = {\n",
    "  1: 32,\n",
    "  2: 69,\n",
    "  3: 54,\n",
    "  4: 82,\n",
    "  5: 92,\n",
    "  6: 74,\n",
    "}"
   ]
  },
  {
   "cell_type": "code",
   "execution_count": 21,
   "id": "be3900be",
   "metadata": {},
   "outputs": [
    {
     "data": {
      "text/html": [
       "<div>\n",
       "<style scoped>\n",
       "    .dataframe tbody tr th:only-of-type {\n",
       "        vertical-align: middle;\n",
       "    }\n",
       "\n",
       "    .dataframe tbody tr th {\n",
       "        vertical-align: top;\n",
       "    }\n",
       "\n",
       "    .dataframe thead th {\n",
       "        text-align: right;\n",
       "    }\n",
       "</style>\n",
       "<table border=\"1\" class=\"dataframe\">\n",
       "  <thead>\n",
       "    <tr style=\"text-align: right;\">\n",
       "      <th></th>\n",
       "      <th>player_nr</th>\n",
       "      <th>pct_Kf_neg</th>\n",
       "      <th>timespent</th>\n",
       "      <th>avetimespent</th>\n",
       "    </tr>\n",
       "  </thead>\n",
       "  <tbody>\n",
       "    <tr>\n",
       "      <th>0</th>\n",
       "      <td>1</td>\n",
       "      <td>0.00</td>\n",
       "      <td>5</td>\n",
       "      <td>32</td>\n",
       "    </tr>\n",
       "    <tr>\n",
       "      <th>1</th>\n",
       "      <td>2</td>\n",
       "      <td>35.71</td>\n",
       "      <td>39</td>\n",
       "      <td>69</td>\n",
       "    </tr>\n",
       "    <tr>\n",
       "      <th>2</th>\n",
       "      <td>3</td>\n",
       "      <td>34.07</td>\n",
       "      <td>22</td>\n",
       "      <td>54</td>\n",
       "    </tr>\n",
       "    <tr>\n",
       "      <th>3</th>\n",
       "      <td>4</td>\n",
       "      <td>60.34</td>\n",
       "      <td>41</td>\n",
       "      <td>82</td>\n",
       "    </tr>\n",
       "    <tr>\n",
       "      <th>4</th>\n",
       "      <td>5</td>\n",
       "      <td>10.64</td>\n",
       "      <td>45</td>\n",
       "      <td>92</td>\n",
       "    </tr>\n",
       "    <tr>\n",
       "      <th>5</th>\n",
       "      <td>6</td>\n",
       "      <td>90.00</td>\n",
       "      <td>22</td>\n",
       "      <td>74</td>\n",
       "    </tr>\n",
       "  </tbody>\n",
       "</table>\n",
       "</div>"
      ],
      "text/plain": [
       "   player_nr  pct_Kf_neg  timespent  avetimespent\n",
       "0          1        0.00          5            32\n",
       "1          2       35.71         39            69\n",
       "2          3       34.07         22            54\n",
       "3          4       60.34         41            82\n",
       "4          5       10.64         45            92\n",
       "5          6       90.00         22            74"
      ]
     },
     "execution_count": 21,
     "metadata": {},
     "output_type": "execute_result"
    }
   ],
   "source": [
    "K_f_final['avetimespent'] = K_f_final['player_nr'].map(avetimedict)\n",
    "K_f_final"
   ]
  },
  {
   "cell_type": "code",
   "execution_count": 22,
   "id": "b3825fab",
   "metadata": {},
   "outputs": [
    {
     "data": {
      "text/plain": [
       "(0.3714285714285715, 0.46847813411078715)"
      ]
     },
     "execution_count": 22,
     "metadata": {},
     "output_type": "execute_result"
    }
   ],
   "source": [
    "rho, p = scipy.stats.spearmanr(K_f_final['avetimespent'],K_f_final['pct_Kf_neg'])\n",
    "rho, p"
   ]
  },
  {
   "cell_type": "code",
   "execution_count": 23,
   "id": "4d32a20b",
   "metadata": {},
   "outputs": [
    {
     "data": {
      "image/png": "[encoded data removed]",
      "text/plain": [
       "<Figure size 432x288 with 1 Axes>"
      ]
     },
     "metadata": {
      "needs_background": "light"
     },
     "output_type": "display_data"
    }
   ],
   "source": [
    "# coorelation between neg K-f and ave time spent\n",
    "plt.scatter(K_f_final['avetimespent'],K_f_final['pct_Kf_neg'],marker='o')\n",
    "\n",
    "# plot trendline (linear fitting)\n",
    "z = np.polyfit(K_f_final['avetimespent'],K_f_final['pct_Kf_neg'], 1)\n",
    "p = np.poly1d(z)\n",
    "plt.plot(K_f_final['avetimespent'],p(K_f_final['avetimespent']),'r-')\n",
    "plt.xlim(left=0)\n",
    "plt.ylim(top=100)\n",
    "plt.xlabel('ave time spent (mins)')\n",
    "plt.ylabel('% sessions in neg K_f')\n",
    "plt.title('percentage of sessions ending in perturbed mode vs ave time spent for training',fontsize=12)\n",
    "plt.show();"
   ]
  },
  {
   "cell_type": "markdown",
   "id": "f28d4abb",
   "metadata": {},
   "source": [
    "**average time lapse between sessions**"
   ]
  },
  {
   "cell_type": "code",
   "execution_count": 24,
   "id": "aa37626d",
   "metadata": {},
   "outputs": [],
   "source": [
    "timelapsedict = {\n",
    "  1: 681,\n",
    "  2: 251,\n",
    "  3: 356,\n",
    "  4: 402,\n",
    "  5: 321,\n",
    "  6: 261,\n",
    "}"
   ]
  },
  {
   "cell_type": "code",
   "execution_count": 25,
   "id": "113d25c8",
   "metadata": {},
   "outputs": [
    {
     "data": {
      "text/html": [
       "<div>\n",
       "<style scoped>\n",
       "    .dataframe tbody tr th:only-of-type {\n",
       "        vertical-align: middle;\n",
       "    }\n",
       "\n",
       "    .dataframe tbody tr th {\n",
       "        vertical-align: top;\n",
       "    }\n",
       "\n",
       "    .dataframe thead th {\n",
       "        text-align: right;\n",
       "    }\n",
       "</style>\n",
       "<table border=\"1\" class=\"dataframe\">\n",
       "  <thead>\n",
       "    <tr style=\"text-align: right;\">\n",
       "      <th></th>\n",
       "      <th>player_nr</th>\n",
       "      <th>pct_Kf_neg</th>\n",
       "      <th>timespent</th>\n",
       "      <th>avetimespent</th>\n",
       "      <th>timelapse</th>\n",
       "    </tr>\n",
       "  </thead>\n",
       "  <tbody>\n",
       "    <tr>\n",
       "      <th>0</th>\n",
       "      <td>1</td>\n",
       "      <td>0.00</td>\n",
       "      <td>5</td>\n",
       "      <td>32</td>\n",
       "      <td>681</td>\n",
       "    </tr>\n",
       "    <tr>\n",
       "      <th>1</th>\n",
       "      <td>2</td>\n",
       "      <td>35.71</td>\n",
       "      <td>39</td>\n",
       "      <td>69</td>\n",
       "      <td>251</td>\n",
       "    </tr>\n",
       "    <tr>\n",
       "      <th>2</th>\n",
       "      <td>3</td>\n",
       "      <td>34.07</td>\n",
       "      <td>22</td>\n",
       "      <td>54</td>\n",
       "      <td>356</td>\n",
       "    </tr>\n",
       "    <tr>\n",
       "      <th>3</th>\n",
       "      <td>4</td>\n",
       "      <td>60.34</td>\n",
       "      <td>41</td>\n",
       "      <td>82</td>\n",
       "      <td>402</td>\n",
       "    </tr>\n",
       "    <tr>\n",
       "      <th>4</th>\n",
       "      <td>5</td>\n",
       "      <td>10.64</td>\n",
       "      <td>45</td>\n",
       "      <td>92</td>\n",
       "      <td>321</td>\n",
       "    </tr>\n",
       "    <tr>\n",
       "      <th>5</th>\n",
       "      <td>6</td>\n",
       "      <td>90.00</td>\n",
       "      <td>22</td>\n",
       "      <td>74</td>\n",
       "      <td>261</td>\n",
       "    </tr>\n",
       "  </tbody>\n",
       "</table>\n",
       "</div>"
      ],
      "text/plain": [
       "   player_nr  pct_Kf_neg  timespent  avetimespent  timelapse\n",
       "0          1        0.00          5            32        681\n",
       "1          2       35.71         39            69        251\n",
       "2          3       34.07         22            54        356\n",
       "3          4       60.34         41            82        402\n",
       "4          5       10.64         45            92        321\n",
       "5          6       90.00         22            74        261"
      ]
     },
     "execution_count": 25,
     "metadata": {},
     "output_type": "execute_result"
    }
   ],
   "source": [
    "K_f_final['timelapse'] = K_f_final['player_nr'].map(timelapsedict)\n",
    "K_f_final"
   ]
  },
  {
   "cell_type": "code",
   "execution_count": 26,
   "id": "fda30d9d",
   "metadata": {},
   "outputs": [
    {
     "data": {
      "text/plain": [
       "(-0.48571428571428577, 0.3287230320699709)"
      ]
     },
     "execution_count": 26,
     "metadata": {},
     "output_type": "execute_result"
    }
   ],
   "source": [
    "rho, p = scipy.stats.spearmanr(K_f_final['timelapse'],K_f_final['pct_Kf_neg'])\n",
    "rho, p"
   ]
  },
  {
   "cell_type": "code",
   "execution_count": 27,
   "id": "bf339a49",
   "metadata": {},
   "outputs": [
    {
     "data": {
      "image/png": "[encoded data removed]",
      "text/plain": [
       "<Figure size 432x288 with 1 Axes>"
      ]
     },
     "metadata": {
      "needs_background": "light"
     },
     "output_type": "display_data"
    }
   ],
   "source": [
    "# coorelation between neg K-f and time lapse between sessions\n",
    "plt.scatter(K_f_final['timelapse'],K_f_final['pct_Kf_neg'],marker='o')\n",
    "\n",
    "# plot trendline (linear fitting)\n",
    "z = np.polyfit(K_f_final['timelapse'],K_f_final['pct_Kf_neg'], 1)\n",
    "p = np.poly1d(z)\n",
    "plt.plot(K_f_final['timelapse'],p(K_f_final['timelapse']),'r-')\n",
    "plt.xlim(left=0)\n",
    "plt.ylim(top=100)\n",
    "plt.xlabel('timelapse (mins)')\n",
    "plt.ylabel('% sessions in neg K_f')\n",
    "plt.title('percentage of sessions ending in perturbed mode vs time lapse between sessions',fontsize=12)\n",
    "plt.show();"
   ]
  },
  {
   "cell_type": "markdown",
   "id": "808a0ff4",
   "metadata": {},
   "source": [
    "#### K_f_MAD"
   ]
  },
  {
   "cell_type": "code",
   "execution_count": 28,
   "id": "91366d98",
   "metadata": {},
   "outputs": [],
   "source": [
    "pct_Kf_MAD_neg = []\n",
    "for nr, kager in enumerate(list_of_kf_MAD):\n",
    "    kager.rename(columns = {'0' : 'K_f_MAD',\n",
    "                           'Unnamed: 0' : 'session_nr'}, inplace=True)\n",
    "    pct_Kf_MAD_neg.append(len(list_of_kf_MAD[nr][list_of_kf_MAD[nr]['K_f_MAD']<0])/len(list_of_kf_MAD[nr]))"
   ]
  },
  {
   "cell_type": "code",
   "execution_count": 29,
   "id": "60f8d61f",
   "metadata": {},
   "outputs": [
    {
     "data": {
      "text/html": [
       "<div>\n",
       "<style scoped>\n",
       "    .dataframe tbody tr th:only-of-type {\n",
       "        vertical-align: middle;\n",
       "    }\n",
       "\n",
       "    .dataframe tbody tr th {\n",
       "        vertical-align: top;\n",
       "    }\n",
       "\n",
       "    .dataframe thead th {\n",
       "        text-align: right;\n",
       "    }\n",
       "</style>\n",
       "<table border=\"1\" class=\"dataframe\">\n",
       "  <thead>\n",
       "    <tr style=\"text-align: right;\">\n",
       "      <th></th>\n",
       "      <th>player_nr</th>\n",
       "      <th>pct_Kf_neg</th>\n",
       "      <th>timespent</th>\n",
       "      <th>avetimespent</th>\n",
       "      <th>timelapse</th>\n",
       "      <th>pct_Kf_MAD_neg</th>\n",
       "    </tr>\n",
       "  </thead>\n",
       "  <tbody>\n",
       "    <tr>\n",
       "      <th>0</th>\n",
       "      <td>1</td>\n",
       "      <td>0.00</td>\n",
       "      <td>5</td>\n",
       "      <td>32</td>\n",
       "      <td>681</td>\n",
       "      <td>82.35</td>\n",
       "    </tr>\n",
       "    <tr>\n",
       "      <th>1</th>\n",
       "      <td>2</td>\n",
       "      <td>35.71</td>\n",
       "      <td>39</td>\n",
       "      <td>69</td>\n",
       "      <td>251</td>\n",
       "      <td>50.00</td>\n",
       "    </tr>\n",
       "    <tr>\n",
       "      <th>2</th>\n",
       "      <td>3</td>\n",
       "      <td>34.07</td>\n",
       "      <td>22</td>\n",
       "      <td>54</td>\n",
       "      <td>356</td>\n",
       "      <td>58.24</td>\n",
       "    </tr>\n",
       "    <tr>\n",
       "      <th>3</th>\n",
       "      <td>4</td>\n",
       "      <td>60.34</td>\n",
       "      <td>41</td>\n",
       "      <td>82</td>\n",
       "      <td>402</td>\n",
       "      <td>56.90</td>\n",
       "    </tr>\n",
       "    <tr>\n",
       "      <th>4</th>\n",
       "      <td>5</td>\n",
       "      <td>10.64</td>\n",
       "      <td>45</td>\n",
       "      <td>92</td>\n",
       "      <td>321</td>\n",
       "      <td>44.68</td>\n",
       "    </tr>\n",
       "    <tr>\n",
       "      <th>5</th>\n",
       "      <td>6</td>\n",
       "      <td>90.00</td>\n",
       "      <td>22</td>\n",
       "      <td>74</td>\n",
       "      <td>261</td>\n",
       "      <td>56.67</td>\n",
       "    </tr>\n",
       "  </tbody>\n",
       "</table>\n",
       "</div>"
      ],
      "text/plain": [
       "   player_nr  pct_Kf_neg  timespent  avetimespent  timelapse  pct_Kf_MAD_neg\n",
       "0          1        0.00          5            32        681           82.35\n",
       "1          2       35.71         39            69        251           50.00\n",
       "2          3       34.07         22            54        356           58.24\n",
       "3          4       60.34         41            82        402           56.90\n",
       "4          5       10.64         45            92        321           44.68\n",
       "5          6       90.00         22            74        261           56.67"
      ]
     },
     "execution_count": 29,
     "metadata": {},
     "output_type": "execute_result"
    }
   ],
   "source": [
    "K_f_final['pct_Kf_MAD_neg'] = np.around(pct_Kf_MAD_neg,4)*100\n",
    "K_f_final"
   ]
  },
  {
   "cell_type": "markdown",
   "id": "62d74c2b",
   "metadata": {},
   "source": [
    "**correlation to time spent**"
   ]
  },
  {
   "cell_type": "code",
   "execution_count": 30,
   "id": "1eb26799",
   "metadata": {},
   "outputs": [
    {
     "data": {
      "text/plain": [
       "(-0.7826908981308054, 0.06570384807158906)"
      ]
     },
     "execution_count": 30,
     "metadata": {},
     "output_type": "execute_result"
    }
   ],
   "source": [
    "rho, p = scipy.stats.spearmanr(K_f_final['timespent'],K_f_final['pct_Kf_MAD_neg'])\n",
    "rho, p"
   ]
  },
  {
   "cell_type": "code",
   "execution_count": 31,
   "id": "b4bb0f50",
   "metadata": {},
   "outputs": [
    {
     "data": {
      "image/png": "[encoded data removed]",
      "text/plain": [
       "<Figure size 432x288 with 1 Axes>"
      ]
     },
     "metadata": {
      "needs_background": "light"
     },
     "output_type": "display_data"
    }
   ],
   "source": [
    "# coorelation between MAD and time spent\n",
    "plt.scatter(K_f_final['timespent'],K_f_final['pct_Kf_MAD_neg'],marker='o')\n",
    "\n",
    "# plot trendline (linear fitting)\n",
    "z = np.polyfit(K_f_final['timespent'],K_f_final['pct_Kf_MAD_neg'], 1)\n",
    "p = np.poly1d(z)\n",
    "plt.plot(K_f_final['timespent'],p(K_f_final['timespent']),'r-')\n",
    "plt.xlim(left=0)\n",
    "plt.ylim(top=100)\n",
    "plt.xlabel('time spent (hrs)')\n",
    "plt.ylabel('% sessions in neg MAD')\n",
    "plt.title('percentage of improved (neg MAD) sessions vs total time spent training',fontsize=12)\n",
    "plt.show();"
   ]
  },
  {
   "cell_type": "markdown",
   "id": "969f904c",
   "metadata": {},
   "source": [
    "**average time on training day**"
   ]
  },
  {
   "cell_type": "code",
   "execution_count": 32,
   "id": "c472a4c4",
   "metadata": {},
   "outputs": [
    {
     "data": {
      "text/plain": [
       "(-0.7714285714285715, 0.07239650145772594)"
      ]
     },
     "execution_count": 32,
     "metadata": {},
     "output_type": "execute_result"
    }
   ],
   "source": [
    "rho, p = scipy.stats.spearmanr(K_f_final['avetimespent'],K_f_final['pct_Kf_MAD_neg'])\n",
    "rho, p"
   ]
  },
  {
   "cell_type": "code",
   "execution_count": 33,
   "id": "2922596f",
   "metadata": {},
   "outputs": [
    {
     "data": {
      "image/png": "[encoded data removed]",
      "text/plain": [
       "<Figure size 432x288 with 1 Axes>"
      ]
     },
     "metadata": {
      "needs_background": "light"
     },
     "output_type": "display_data"
    }
   ],
   "source": [
    "# coorelation between neg MAD and ave time spent\n",
    "plt.scatter(K_f_final['avetimespent'],K_f_final['pct_Kf_MAD_neg'],marker='o')\n",
    "\n",
    "# plot trendline (linear fitting)\n",
    "z = np.polyfit(K_f_final['avetimespent'],K_f_final['pct_Kf_MAD_neg'], 1)\n",
    "p = np.poly1d(z)\n",
    "plt.plot(K_f_final['avetimespent'],p(K_f_final['avetimespent']),'r-')\n",
    "plt.xlim(left=0)\n",
    "plt.ylim(top=100)\n",
    "plt.xlabel('ave time spent (mins)')\n",
    "plt.ylabel('% sessions in neg K_f')\n",
    "plt.title('percentage of improved (neg MAD) sessions vs ave time spent for training',fontsize=12)\n",
    "plt.show();"
   ]
  },
  {
   "cell_type": "markdown",
   "id": "a02fb485",
   "metadata": {},
   "source": [
    "**average time lapse between sessions**"
   ]
  },
  {
   "cell_type": "code",
   "execution_count": 34,
   "id": "8a065b88",
   "metadata": {},
   "outputs": [
    {
     "data": {
      "text/plain": [
       "(0.7714285714285715, 0.07239650145772594)"
      ]
     },
     "execution_count": 34,
     "metadata": {},
     "output_type": "execute_result"
    }
   ],
   "source": [
    "rho, p = scipy.stats.spearmanr(K_f_final['timelapse'],K_f_final['pct_Kf_MAD_neg'])\n",
    "rho, p"
   ]
  },
  {
   "cell_type": "code",
   "execution_count": 35,
   "id": "711c9247",
   "metadata": {},
   "outputs": [
    {
     "data": {
      "image/png": "[encoded data removed]",
      "text/plain": [
       "<Figure size 432x288 with 1 Axes>"
      ]
     },
     "metadata": {
      "needs_background": "light"
     },
     "output_type": "display_data"
    }
   ],
   "source": [
    "# coorelation between neg MAD and time lapse between sessions\n",
    "plt.scatter(K_f_final['timelapse'],K_f_final['pct_Kf_MAD_neg'],marker='o')\n",
    "\n",
    "# plot trendline (linear fitting)\n",
    "z = np.polyfit(K_f_final['timelapse'],K_f_final['pct_Kf_MAD_neg'], 1)\n",
    "p = np.poly1d(z)\n",
    "plt.plot(K_f_final['timelapse'],p(K_f_final['timelapse']),'r-')\n",
    "plt.xlim(left=0)\n",
    "plt.ylim(top=100)\n",
    "plt.xlabel('timelapse (mins)')\n",
    "plt.ylabel('% sessions in neg K_f')\n",
    "plt.title('percentage of improved (neg MAD) sessions vs time lapse between sessions',fontsize=12)\n",
    "plt.show();"
   ]
  },
  {
   "cell_type": "markdown",
   "id": "495046d0",
   "metadata": {},
   "source": [
    "#### correlation K_f vs clinical assessment"
   ]
  },
  {
   "cell_type": "code",
   "execution_count": 36,
   "id": "20da5ccb",
   "metadata": {},
   "outputs": [
    {
     "name": "stdout",
     "output_type": "stream",
     "text": [
      "<class 'pandas.core.frame.DataFrame'>\n",
      "RangeIndex: 5 entries, 0 to 4\n",
      "Data columns (total 30 columns):\n",
      " #   Column                 Non-Null Count  Dtype         \n",
      "---  ------                 --------------  -----         \n",
      " 0   Unnamed:0              5 non-null      object        \n",
      " 1   age                    3 non-null      float64       \n",
      " 2   gender                 3 non-null      object        \n",
      " 3   handedness             3 non-null      object        \n",
      " 4   dateofevent            3 non-null      datetime64[ns]\n",
      " 5   natureofstroke         3 non-null      object        \n",
      " 6   sideofstroke           5 non-null      object        \n",
      " 7   involvedUL             3 non-null      object        \n",
      " 8   first/recurrentstroke  3 non-null      object        \n",
      " 9   Oxfordscale            3 non-null      object        \n",
      " 10  ULfuglmeyer            5 non-null      int32         \n",
      " 11  SWMFT-time             5 non-null      float64       \n",
      " 12  SWMFT-FAS              5 non-null      float64       \n",
      " 13  ARAT                   5 non-null      int32         \n",
      " 14  grip-affected          5 non-null      float64       \n",
      " 15  grip-unaffected        5 non-null      float64       \n",
      " 16  MAS-shoulder           5 non-null      int64         \n",
      " 17  MAS-elbow              5 non-null      object        \n",
      " 18  MAS-wrist              5 non-null      int64         \n",
      " 19  MAS-fingers            5 non-null      object        \n",
      " 20  ULfuglmeyer.1          5 non-null      int32         \n",
      " 21  SWMFT-time.1           5 non-null      float64       \n",
      " 22  SWMFT-FAS.1            5 non-null      float64       \n",
      " 23  ARAT.1                 5 non-null      int32         \n",
      " 24  grip-affected.1        5 non-null      float64       \n",
      " 25  grip-unaffected.1      5 non-null      float64       \n",
      " 26  MAS-shoulder.1         5 non-null      int64         \n",
      " 27  MAS-elbow.1            5 non-null      object        \n",
      " 28  MAS-wrist.1            5 non-null      object        \n",
      " 29  MAS-fingers.1          5 non-null      object        \n",
      "dtypes: datetime64[ns](1), float64(9), int32(4), int64(3), object(13)\n",
      "memory usage: 1.2+ KB\n"
     ]
    }
   ],
   "source": [
    "clinical.info() "
   ]
  },
  {
   "cell_type": "code",
   "execution_count": 37,
   "id": "76ffafcf",
   "metadata": {},
   "outputs": [],
   "source": [
    "clinical['diff_fuglmeyer'] = clinical['ULfuglmeyer.1'] - clinical['ULfuglmeyer']\n",
    "clinical['diff_SWMFT-time'] = clinical['SWMFT-time.1'] - clinical['SWMFT-time']\n",
    "clinical['diff_SWMFT-FAS'] = clinical['SWMFT-FAS.1'] - clinical['SWMFT-FAS']\n",
    "clinical['diff_ARAT'] = clinical['ARAT.1'] - clinical['ARAT']\n",
    "clinical['diff_grip-affected'] = clinical['grip-affected.1'] - clinical['grip-affected']\n",
    "clinical['diff_grip-unaffected'] = clinical['grip-unaffected.1'] - clinical['grip-unaffected']\n"
   ]
  },
  {
   "cell_type": "code",
   "execution_count": 38,
   "id": "db6e97b9",
   "metadata": {},
   "outputs": [],
   "source": [
    "def connectpoints(x,y,p1,p2):\n",
    "    x1, x2 = x[p1], x[p2]\n",
    "    y1, y2 = y[p1], y[p2]\n",
    "    plt.plot([x1,x2],[y1,y2],'r-')\n"
   ]
  },
  {
   "cell_type": "markdown",
   "id": "256c1925",
   "metadata": {},
   "source": [
    "##### Upper Extremity Fugh Meyer "
   ]
  },
  {
   "cell_type": "code",
   "execution_count": 39,
   "id": "ab18c3ca",
   "metadata": {},
   "outputs": [],
   "source": [
    "# new_row = {'Unnamed:0':'mean', \n",
    "#             'ULfuglmeyer':clinical['ULfuglmeyer'].mean(), \n",
    "#             'ULfuglmeyer.1':clinical['ULfuglmeyer.1'].mean()}\n",
    "# #append row to the dataframe\n",
    "# clinical = clinical.append(new_row, ignore_index=True)"
   ]
  },
  {
   "cell_type": "code",
   "execution_count": 40,
   "id": "208e19e1",
   "metadata": {},
   "outputs": [
    {
     "data": {
      "image/png": "[encoded data removed]",
      "text/plain": [
       "<Figure size 432x288 with 1 Axes>"
      ]
     },
     "metadata": {
      "needs_background": "light"
     },
     "output_type": "display_data"
    }
   ],
   "source": [
    "x = ['week0','week5']\n",
    "y = [clinical['ULfuglmeyer'],clinical['ULfuglmeyer.1']]\n",
    "# plot UE Fugh Meyer \n",
    "for xe, ye in zip(x, y):\n",
    "    plt.scatter([xe] * len(ye), ye)\n",
    "\n",
    "y1 = [(clinical['ULfuglmeyer'].median()),(clinical['ULfuglmeyer.1'].median())]\n",
    "plt.plot(x, y1,'--', color='r', linewidth=3.0, label='median')\n",
    "lineObjects = plt.plot(x, y)\n",
    "plt.legend(['median','P01', 'P02', 'P03', 'P04', 'P06'])\n",
    "# plt.legend(iter(lineObjects), ('P01', 'P02', 'P03', 'P04', 'P06'))\n",
    "\n",
    "plt.title('UE Fugl Meyer test')\n",
    "plt.xlabel('week')\n",
    "plt.ylabel('score')\n",
    "plt.show();"
   ]
  },
  {
   "cell_type": "code",
   "execution_count": 41,
   "id": "8325c8cb",
   "metadata": {},
   "outputs": [
    {
     "name": "stdout",
     "output_type": "stream",
     "text": [
      "p=0.41: no significant differences found in Fugh Meyer test\n"
     ]
    },
    {
     "name": "stderr",
     "output_type": "stream",
     "text": [
      "C:\\Users\\USER\\anaconda3\\envs\\dsi24\\lib\\site-packages\\scipy\\stats\\morestats.py:2967: UserWarning: Exact p-value calculation does not work if there are ties. Switching to normal approximation.\n",
      "  warnings.warn(\"Exact p-value calculation does not work if there are \"\n",
      "C:\\Users\\USER\\anaconda3\\envs\\dsi24\\lib\\site-packages\\scipy\\stats\\morestats.py:2981: UserWarning: Sample size too small for normal approximation.\n",
      "  warnings.warn(\"Sample size too small for normal approximation.\")\n"
     ]
    }
   ],
   "source": [
    "w, p = scipy.stats.wilcoxon(clinical['ULfuglmeyer'], clinical['ULfuglmeyer.1'], zero_method = 'pratt')\n",
    "if p<0.05:\n",
    "    print(f'p={p:.2f}: significant differences were found in Fugh Meyer test')\n",
    "else:\n",
    "    print(f'p={p:.2f}: no significant differences found in Fugh Meyer test')"
   ]
  },
  {
   "cell_type": "markdown",
   "id": "5e8b3352",
   "metadata": {},
   "source": [
    "##### streamlined Wolf Motor Function Test - performance time"
   ]
  },
  {
   "cell_type": "code",
   "execution_count": 42,
   "id": "755275f0",
   "metadata": {},
   "outputs": [
    {
     "data": {
      "image/png": "[encoded data removed]",
      "text/plain": [
       "<Figure size 432x288 with 1 Axes>"
      ]
     },
     "metadata": {
      "needs_background": "light"
     },
     "output_type": "display_data"
    }
   ],
   "source": [
    "y = [clinical['SWMFT-time'],clinical['SWMFT-time.1']]\n",
    "# plot SWMFT-time \n",
    "for xe, ye in zip(x, y):\n",
    "    plt.scatter([xe] * len(ye), ye)\n",
    "    \n",
    "y1 = [(clinical['SWMFT-time'].median()),(clinical['SWMFT-time.1'].median())]\n",
    "plt.plot(x, y1,'--', color='r', linewidth=3.0, label='median')    \n",
    "lineObjects = plt.plot(x, y)\n",
    "plt.legend(['median','P01', 'P02', 'P03', 'P04', 'P06'])\n",
    "# plt.legend(iter(lineObjects), ('P01', 'P02', 'P03', 'P04', 'P06'))\n",
    "\n",
    "plt.title('streamlined Wolf Motor Function Test - performance time')\n",
    "plt.xlabel('week')\n",
    "plt.ylabel('time/s')\n",
    "plt.show();"
   ]
  },
  {
   "cell_type": "code",
   "execution_count": 43,
   "id": "43277f65",
   "metadata": {},
   "outputs": [
    {
     "name": "stdout",
     "output_type": "stream",
     "text": [
      "p=0.62: no significant differences found in timed streamlined Wolf Motor Function Test\n"
     ]
    }
   ],
   "source": [
    "w, p = scipy.stats.wilcoxon(clinical['SWMFT-time'], clinical['SWMFT-time.1'])\n",
    "if p<0.05:\n",
    "    print(f'p={p:.2f}: significant differences were found in timed streamlined Wolf Motor Function Test')\n",
    "else:\n",
    "    print(f'p={p:.2f}: no significant differences found in timed streamlined Wolf Motor Function Test')"
   ]
  },
  {
   "cell_type": "markdown",
   "id": "12f7b905",
   "metadata": {},
   "source": [
    "##### streamlined Wolf Motor Function Test - Functional Ability Scale"
   ]
  },
  {
   "cell_type": "code",
   "execution_count": 44,
   "id": "6885d65a",
   "metadata": {},
   "outputs": [
    {
     "data": {
      "text/plain": [
       "1.875"
      ]
     },
     "execution_count": 44,
     "metadata": {},
     "output_type": "execute_result"
    }
   ],
   "source": [
    "(clinical['SWMFT-FAS'].median())"
   ]
  },
  {
   "cell_type": "code",
   "execution_count": 45,
   "id": "9b944024",
   "metadata": {},
   "outputs": [
    {
     "data": {
      "image/png": "[encoded data removed]",
      "text/plain": [
       "<Figure size 432x288 with 1 Axes>"
      ]
     },
     "metadata": {
      "needs_background": "light"
     },
     "output_type": "display_data"
    }
   ],
   "source": [
    "y = [clinical['SWMFT-FAS'],clinical['SWMFT-FAS.1']]\n",
    "# plot WMFT–Functional Ability Scale \n",
    "for xe, ye in zip(x, y):\n",
    "    plt.scatter([xe] * len(ye), ye)\n",
    "\n",
    "y1 = [(clinical['SWMFT-FAS'].median()),(clinical['SWMFT-FAS.1'].median())]\n",
    "plt.plot(x, y1,'--', color='r', linewidth=3.0, label='median')    \n",
    "lineObjects = plt.plot(x, y)\n",
    "plt.legend(['median','P01', 'P02', 'P03', 'P04', 'P06'])\n",
    "# plt.legend(iter(lineObjects), ('P01', 'P02', 'P03', 'P04', 'P06'))\n",
    "\n",
    "plt.title('streamlined Wolf Motor Function Test - Functional Ability Scale')\n",
    "plt.xlabel('week')\n",
    "plt.ylabel('score')\n",
    "plt.show();"
   ]
  },
  {
   "cell_type": "code",
   "execution_count": 46,
   "id": "92d789e7",
   "metadata": {},
   "outputs": [
    {
     "name": "stdout",
     "output_type": "stream",
     "text": [
      "p=0.44: no significant differences found in functional ability of the streamlined Wolf Motor Function Test\n"
     ]
    }
   ],
   "source": [
    "w, p = scipy.stats.wilcoxon(clinical['SWMFT-FAS'], clinical['SWMFT-FAS.1'])\n",
    "if p<0.05:\n",
    "    print(f'p={p:.2f}: significant differences were found in functional ability of the streamlined Wolf Motor Function Test')\n",
    "else:\n",
    "    print(f'p={p:.2f}: no significant differences found in functional ability of the streamlined Wolf Motor Function Test')"
   ]
  },
  {
   "cell_type": "markdown",
   "id": "7b8e7628",
   "metadata": {},
   "source": [
    "##### Grip strength \n",
    "**affected side**"
   ]
  },
  {
   "cell_type": "code",
   "execution_count": 47,
   "id": "d41832ef",
   "metadata": {},
   "outputs": [
    {
     "data": {
      "image/png": "[encoded data removed]",
      "text/plain": [
       "<Figure size 432x288 with 1 Axes>"
      ]
     },
     "metadata": {
      "needs_background": "light"
     },
     "output_type": "display_data"
    }
   ],
   "source": [
    "x = ['week0','week5']\n",
    "y = [clinical['grip-affected'],clinical['grip-affected.1']]\n",
    "# plot grip-affected\n",
    "for xe, ye in zip(x, y):\n",
    "    plt.scatter([xe] * len(ye), ye)\n",
    "\n",
    "y1 = [(clinical['grip-affected'].median()),(clinical['grip-affected.1'].median())]\n",
    "plt.plot(x, y1,'--', color='r', linewidth=3.0, label='median')     \n",
    "lineObjects = plt.plot(x, y)\n",
    "plt.legend(['median','P01', 'P02', 'P03', 'P04', 'P06'])\n",
    "# plt.legend(iter(lineObjects), ('P01', 'P02', 'P03', 'P04', 'P06'))\n",
    "\n",
    "plt.title('Grip strength on affected side')\n",
    "plt.xlabel('week')\n",
    "plt.ylabel('Grip strength (kg/f)')\n",
    "plt.show();"
   ]
  },
  {
   "cell_type": "code",
   "execution_count": 48,
   "id": "e313a467",
   "metadata": {},
   "outputs": [
    {
     "name": "stdout",
     "output_type": "stream",
     "text": [
      "p=1.00: no significant differences found in grip strength of the affected side\n"
     ]
    }
   ],
   "source": [
    "w, p = scipy.stats.wilcoxon(clinical['grip-affected'], clinical['grip-affected.1'])\n",
    "if p<0.05:\n",
    "    print(f'p={p:.2f}: significant differences were found in grip strength of the affected side')\n",
    "else:\n",
    "    print(f'p={p:.2f}: no significant differences found in grip strength of the affected side')\n"
   ]
  },
  {
   "cell_type": "markdown",
   "id": "4f5ef66c",
   "metadata": {},
   "source": [
    "**unaffected side**"
   ]
  },
  {
   "cell_type": "code",
   "execution_count": 49,
   "id": "c1362781",
   "metadata": {},
   "outputs": [
    {
     "data": {
      "image/png": "[encoded data removed]",
      "text/plain": [
       "<Figure size 432x288 with 1 Axes>"
      ]
     },
     "metadata": {
      "needs_background": "light"
     },
     "output_type": "display_data"
    }
   ],
   "source": [
    "x = ['week0','week5']\n",
    "y = [clinical['grip-unaffected'],clinical['grip-unaffected.1']]\n",
    "# plot grip-affected\n",
    "for xe, ye in zip(x, y):\n",
    "    plt.scatter([xe] * len(ye), ye)\n",
    "\n",
    "y1 = [(clinical['grip-unaffected'].median()),(clinical['grip-unaffected.1'].median())]\n",
    "plt.plot(x, y1,'--', color='r', linewidth=3.0, label='median')  \n",
    "lineObjects = plt.plot(x, y)\n",
    "plt.legend(['median','P01', 'P02', 'P03', 'P04', 'P06'])\n",
    "# plt.legend(iter(lineObjects), ('P01', 'P02', 'P03', 'P04', 'P06'))\n",
    "\n",
    "plt.title('Grip strength on unaffected side')\n",
    "plt.xlabel('week')\n",
    "plt.ylabel('Grip strength (kg/f)')\n",
    "plt.show();"
   ]
  },
  {
   "cell_type": "code",
   "execution_count": 50,
   "id": "35fd2cf6",
   "metadata": {},
   "outputs": [
    {
     "name": "stdout",
     "output_type": "stream",
     "text": [
      "p=0.19: no significant differences found in grip strength of the unaffected side\n"
     ]
    }
   ],
   "source": [
    "w, p = scipy.stats.wilcoxon(clinical['grip-unaffected'], clinical['grip-unaffected.1'])\n",
    "if p<0.05:\n",
    "    print(f'p={p:.2f}: significant differences were found in grip strength of the unaffected side')\n",
    "else:\n",
    "    print(f'p={p:.2f}: no significant differences found in grip strength of the unaffected side')"
   ]
  },
  {
   "cell_type": "markdown",
   "id": "3c6aa1cc",
   "metadata": {},
   "source": [
    "##### Action Research Arm Test\n",
    "<br> ARAT score range, 0-57; Low ability=scores 0-19; Moderate ability=scores 20-38; High ability=scores 39-57;"
   ]
  },
  {
   "cell_type": "code",
   "execution_count": 51,
   "id": "8f276a9d",
   "metadata": {},
   "outputs": [
    {
     "data": {
      "image/png": "[encoded data removed]",
      "text/plain": [
       "<Figure size 432x288 with 1 Axes>"
      ]
     },
     "metadata": {
      "needs_background": "light"
     },
     "output_type": "display_data"
    }
   ],
   "source": [
    "y = [clinical['ARAT'],clinical['ARAT.1']]\n",
    "# plot Action Research Arm Test\n",
    "for xe, ye in zip(x, y):\n",
    "    plt.scatter([xe] * len(ye), ye)\n",
    "    \n",
    "y1 = [(clinical['ARAT'].median()),(clinical['ARAT.1'].median())]\n",
    "plt.plot(x, y1,'--', color='r', linewidth=3.0, label='median') \n",
    "lineObjects = plt.plot(x, y)\n",
    "plt.legend(['median','P01', 'P02', 'P03', 'P04', 'P06'])\n",
    "# plt.legend(iter(lineObjects), ('P01', 'P02', 'P03', 'P04', 'P06'))\n",
    "\n",
    "plt.title('Action Research Arm Test')\n",
    "plt.xlabel('week')\n",
    "plt.ylabel('score')\n",
    "plt.show();"
   ]
  },
  {
   "cell_type": "code",
   "execution_count": 52,
   "id": "6723c412",
   "metadata": {},
   "outputs": [
    {
     "name": "stdout",
     "output_type": "stream",
     "text": [
      "p=0.59: no significant differences found in Action Research Arm Test\n"
     ]
    }
   ],
   "source": [
    "w, p = scipy.stats.wilcoxon(clinical['ARAT'], clinical['ARAT.1'])\n",
    "if p<0.05:\n",
    "    print(f'p={p:.2f}: significant differences were found in Action Research Arm Test')\n",
    "else:\n",
    "    print(f'p={p:.2f}: no significant differences found in Action Research Arm Test')"
   ]
  },
  {
   "cell_type": "markdown",
   "id": "a62fbc9b",
   "metadata": {},
   "source": [
    "##### Motor Assessment Scale (MAS)\n",
    "<br> modified-modified Ashworth scale (m-MAS)\n",
    "<br> **shoulder**\n",
    "<br> score 0 signifies normal muscle tone, score 1 a slight increase in muscle tone with a slight catch when the limb is moved in flexion and extension, score 1+ a slight increase in muscle tone with minimal resistance at the end of movement, score 2 a more marked increase in muscle tone through the entire "
   ]
  },
  {
   "cell_type": "code",
   "execution_count": 53,
   "id": "515519dc",
   "metadata": {},
   "outputs": [],
   "source": [
    "MAS = ['shoulder','elbow','wrist','fingers']\n",
    "MAS_col = ['MAS-' + name for name in MAS] + ['MAS-' + name + '.1' for name in MAS]"
   ]
  },
  {
   "cell_type": "code",
   "execution_count": 54,
   "id": "e9ccf798",
   "metadata": {},
   "outputs": [],
   "source": [
    "# convert MAS->m-MAS\n",
    "# 0 -> 0\n",
    "# 1 -> 1\n",
    "# 1+ -> 2\n",
    "# 2 -> 3\n",
    "# 3 -> 4\n",
    "# 4 -> 5\n",
    "def convert_MAS(row):\n",
    "    for name in MAS_col:\n",
    "        if row[name] == '1+':\n",
    "            row[name] = '2'\n",
    "        elif row[name] == '2':\n",
    "            row[name] = '3'\n",
    "        elif row[name] == '3':\n",
    "            row[name] = '4'\n",
    "        elif row[name] == '4':\n",
    "            row[name] = '5'\n",
    "        row[name] = pd.to_numeric(row[name])\n",
    "    return row"
   ]
  },
  {
   "cell_type": "code",
   "execution_count": 55,
   "id": "88279764",
   "metadata": {},
   "outputs": [],
   "source": [
    "clinical = clinical.apply(convert_MAS, axis=1)"
   ]
  },
  {
   "cell_type": "markdown",
   "id": "aa5fb6c1",
   "metadata": {},
   "source": [
    "**shoulder**"
   ]
  },
  {
   "cell_type": "code",
   "execution_count": 56,
   "id": "11341d5d",
   "metadata": {},
   "outputs": [
    {
     "data": {
      "image/png": "[encoded data removed]",
      "text/plain": [
       "<Figure size 432x288 with 1 Axes>"
      ]
     },
     "metadata": {
      "needs_background": "light"
     },
     "output_type": "display_data"
    }
   ],
   "source": [
    "x = ['week0','week5']\n",
    "y = [clinical['MAS-shoulder'],clinical['MAS-shoulder.1']]\n",
    "# plot MAS-shoulder\n",
    "for xe, ye in zip(x, y):\n",
    "    plt.scatter([xe] * len(ye), ye)\n",
    "\n",
    "y1 = [clinical['MAS-shoulder'].median(),clinical['MAS-shoulder.1'].median()]\n",
    "plt.plot(x, y1,'--', color='r', linewidth=3.0, label='median')\n",
    "lineObjects = plt.plot(x, y)\n",
    "plt.legend(['median','P01', 'P02', 'P03', 'P04', 'P06'])\n",
    "# plt.legend(iter(lineObjects), ('P01', 'P02', 'P03', 'P04', 'P06'))\n",
    "\n",
    "plt.gca().yaxis.set_major_locator(mticker.MultipleLocator(1))\n",
    "plt.title('m-MAS of shoulder')\n",
    "plt.ylim(top=2)\n",
    "plt.xlabel('week')\n",
    "plt.ylabel('score')\n",
    "plt.show();"
   ]
  },
  {
   "cell_type": "code",
   "execution_count": 57,
   "id": "634657d3",
   "metadata": {},
   "outputs": [
    {
     "name": "stdout",
     "output_type": "stream",
     "text": [
      "p=0.48: no significant differences found in modified Ashworth Scale of the shoulder\n"
     ]
    }
   ],
   "source": [
    "w, p = scipy.stats.wilcoxon(clinical['MAS-shoulder'], clinical['MAS-shoulder.1'], zero_method = 'zsplit')\n",
    "if p<0.05:\n",
    "    print(f'p={p:.2f}: significant differences were found in modified Ashworth Scale of the shoulder')\n",
    "else:\n",
    "    print(f'p={p:.2f}: no significant differences found in modified Ashworth Scale of the shoulder')"
   ]
  },
  {
   "cell_type": "markdown",
   "id": "6fdb5032",
   "metadata": {},
   "source": [
    "**elbow**"
   ]
  },
  {
   "cell_type": "code",
   "execution_count": 58,
   "id": "9dc71f65",
   "metadata": {},
   "outputs": [
    {
     "data": {
      "image/png": "[encoded data removed]",
      "text/plain": [
       "<Figure size 432x288 with 1 Axes>"
      ]
     },
     "metadata": {
      "needs_background": "light"
     },
     "output_type": "display_data"
    }
   ],
   "source": [
    "x = ['week0','week5']\n",
    "y = [clinical['MAS-elbow'],clinical['MAS-elbow.1']]\n",
    "# plot MAS-elbow\n",
    "for xe, ye in zip(x, y):\n",
    "    plt.scatter([xe] * len(ye), ye)\n",
    "\n",
    "y1 = [clinical['MAS-elbow'].median(),clinical['MAS-elbow.1'].median()]\n",
    "plt.plot(x, y1,'--', color='r', linewidth=3.0, label='median')\n",
    "lineObjects = plt.plot(x, y)\n",
    "plt.legend(['median','P01', 'P02', 'P03', 'P04', 'P06'])\n",
    "\n",
    "plt.gca().yaxis.set_major_locator(mticker.MultipleLocator(1))\n",
    "plt.title('m-MAS of elbow')\n",
    "plt.xlabel('week')\n",
    "plt.ylabel('score')\n",
    "plt.show();"
   ]
  },
  {
   "cell_type": "code",
   "execution_count": 59,
   "id": "9536ce3e",
   "metadata": {},
   "outputs": [
    {
     "name": "stdout",
     "output_type": "stream",
     "text": [
      "p=1.00: no significant differences found in modified Ashworth Scale of the elbow\n"
     ]
    }
   ],
   "source": [
    "w, p = scipy.stats.wilcoxon(clinical['MAS-elbow'], clinical['MAS-elbow.1'], zero_method = 'zsplit')\n",
    "if p<0.05:\n",
    "    print(f'p={p:.2f}: significant differences were found in modified Ashworth Scale of the elbow')\n",
    "else:\n",
    "    print(f'p={p:.2f}: no significant differences found in modified Ashworth Scale of the elbow')"
   ]
  },
  {
   "cell_type": "markdown",
   "id": "3cd8b396",
   "metadata": {},
   "source": [
    "**wrist**"
   ]
  },
  {
   "cell_type": "code",
   "execution_count": 60,
   "id": "6205c297",
   "metadata": {},
   "outputs": [
    {
     "data": {
      "image/png": "[encoded data removed]",
      "text/plain": [
       "<Figure size 432x288 with 1 Axes>"
      ]
     },
     "metadata": {
      "needs_background": "light"
     },
     "output_type": "display_data"
    }
   ],
   "source": [
    "x = ['week0','week5']\n",
    "y = [clinical['MAS-wrist'],clinical['MAS-wrist.1']]\n",
    "# plot MAS-wrist\n",
    "for xe, ye in zip(x, y):\n",
    "    plt.scatter([xe] * len(ye), ye)\n",
    "\n",
    "y1 = [clinical['MAS-wrist'].median(),clinical['MAS-wrist.1'].median()]\n",
    "plt.plot(x, y1,'--', color='r', linewidth=3.0, label='median')\n",
    "lineObjects = plt.plot(x, y)\n",
    "plt.legend(['median','P01', 'P02', 'P03', 'P04', 'P06'])\n",
    "\n",
    "plt.gca().yaxis.set_major_locator(mticker.MultipleLocator(1))\n",
    "plt.title('m-MAS of wrist')\n",
    "plt.xlabel('week')\n",
    "plt.ylabel('score')\n",
    "plt.show();"
   ]
  },
  {
   "cell_type": "code",
   "execution_count": 61,
   "id": "826929ac",
   "metadata": {},
   "outputs": [
    {
     "name": "stdout",
     "output_type": "stream",
     "text": [
      "p=1.00: no significant differences found in modified Ashworth Scale of the wrist\n"
     ]
    }
   ],
   "source": [
    "w, p = scipy.stats.wilcoxon(clinical['MAS-wrist'], clinical['MAS-wrist.1'], zero_method = 'zsplit')\n",
    "if p<0.05:\n",
    "    print(f'p={p:.2f}: significant differences were found in modified Ashworth Scale of the wrist')\n",
    "else:\n",
    "    print(f'p={p:.2f}: no significant differences found in modified Ashworth Scale of the wrist')"
   ]
  },
  {
   "cell_type": "markdown",
   "id": "66e79817",
   "metadata": {},
   "source": [
    "**fingers**"
   ]
  },
  {
   "cell_type": "code",
   "execution_count": 62,
   "id": "eca03471",
   "metadata": {},
   "outputs": [
    {
     "data": {
      "image/png": "[encoded data removed]",
      "text/plain": [
       "<Figure size 432x288 with 1 Axes>"
      ]
     },
     "metadata": {
      "needs_background": "light"
     },
     "output_type": "display_data"
    }
   ],
   "source": [
    "x = ['week0','week5']\n",
    "y = [clinical['MAS-fingers'],clinical['MAS-fingers.1']]\n",
    "# plot MAS-fingers\n",
    "for xe, ye in zip(x, y):\n",
    "    plt.scatter([xe] * len(ye), ye)\n",
    "\n",
    "y1 = [clinical['MAS-fingers'].median(),clinical['MAS-fingers.1'].median()]\n",
    "plt.plot(x, y1,'--', color='r', linewidth=3.0, label='median')\n",
    "lineObjects = plt.plot(x, y)\n",
    "plt.legend(['median','P01', 'P02', 'P03', 'P04', 'P06'])\n",
    "\n",
    "plt.gca().yaxis.set_major_locator(mticker.MultipleLocator(1))\n",
    "plt.title('m-MAS of fingers')\n",
    "plt.xlabel('week')\n",
    "plt.ylabel('score')\n",
    "plt.show();"
   ]
  },
  {
   "cell_type": "code",
   "execution_count": 63,
   "id": "881c4e43",
   "metadata": {},
   "outputs": [
    {
     "name": "stdout",
     "output_type": "stream",
     "text": [
      "p=0.21: no significant differences found in modified Ashworth Scale in the fingers\n"
     ]
    }
   ],
   "source": [
    "w, p = scipy.stats.wilcoxon(clinical['MAS-fingers'], clinical['MAS-fingers.1'], zero_method = 'zsplit')\n",
    "if p<0.05:\n",
    "    print(f'p={p:.2f}: significant differences were found in modified Ashworth Scale in the fingers')\n",
    "else:\n",
    "    print(f'p={p:.2f}: no significant differences found in modified Ashworth Scale in the fingers')"
   ]
  },
  {
   "cell_type": "code",
   "execution_count": 64,
   "id": "051374f7",
   "metadata": {},
   "outputs": [],
   "source": [
    "clinical['diff_MAS-shoulder'] = clinical['MAS-shoulder.1'] - clinical['MAS-shoulder']\n",
    "clinical['diff_MAS-elbow'] = clinical['MAS-elbow.1'] - clinical['MAS-elbow']\n",
    "clinical['diff_MAS-wrist'] = clinical['MAS-wrist.1'] - clinical['MAS-wrist']\n",
    "clinical['diff_MAS-fingers'] = clinical['MAS-fingers.1'] - clinical['MAS-fingers']"
   ]
  },
  {
   "cell_type": "code",
   "execution_count": 65,
   "id": "f23b54fd",
   "metadata": {},
   "outputs": [
    {
     "data": {
      "text/html": [
       "<div>\n",
       "<style scoped>\n",
       "    .dataframe tbody tr th:only-of-type {\n",
       "        vertical-align: middle;\n",
       "    }\n",
       "\n",
       "    .dataframe tbody tr th {\n",
       "        vertical-align: top;\n",
       "    }\n",
       "\n",
       "    .dataframe thead th {\n",
       "        text-align: right;\n",
       "    }\n",
       "</style>\n",
       "<table border=\"1\" class=\"dataframe\">\n",
       "  <thead>\n",
       "    <tr style=\"text-align: right;\">\n",
       "      <th></th>\n",
       "      <th>diff_fuglmeyer</th>\n",
       "      <th>diff_SWMFT-time</th>\n",
       "      <th>diff_SWMFT-FAS</th>\n",
       "      <th>diff_ARAT</th>\n",
       "      <th>diff_grip-affected</th>\n",
       "      <th>diff_grip-unaffected</th>\n",
       "      <th>diff_MAS-shoulder</th>\n",
       "      <th>diff_MAS-elbow</th>\n",
       "      <th>diff_MAS-wrist</th>\n",
       "      <th>diff_MAS-fingers</th>\n",
       "    </tr>\n",
       "  </thead>\n",
       "  <tbody>\n",
       "    <tr>\n",
       "      <th>0</th>\n",
       "      <td>2</td>\n",
       "      <td>-15.660</td>\n",
       "      <td>0.255</td>\n",
       "      <td>1</td>\n",
       "      <td>-0.63</td>\n",
       "      <td>-3.30</td>\n",
       "      <td>-1</td>\n",
       "      <td>0</td>\n",
       "      <td>0</td>\n",
       "      <td>0</td>\n",
       "    </tr>\n",
       "    <tr>\n",
       "      <th>1</th>\n",
       "      <td>0</td>\n",
       "      <td>0.300</td>\n",
       "      <td>0.255</td>\n",
       "      <td>0</td>\n",
       "      <td>1.46</td>\n",
       "      <td>-3.23</td>\n",
       "      <td>0</td>\n",
       "      <td>0</td>\n",
       "      <td>0</td>\n",
       "      <td>-1</td>\n",
       "    </tr>\n",
       "    <tr>\n",
       "      <th>2</th>\n",
       "      <td>-3</td>\n",
       "      <td>15.170</td>\n",
       "      <td>-0.500</td>\n",
       "      <td>-3</td>\n",
       "      <td>-3.66</td>\n",
       "      <td>-0.60</td>\n",
       "      <td>0</td>\n",
       "      <td>0</td>\n",
       "      <td>1</td>\n",
       "      <td>0</td>\n",
       "    </tr>\n",
       "    <tr>\n",
       "      <th>3</th>\n",
       "      <td>2</td>\n",
       "      <td>-14.100</td>\n",
       "      <td>0.125</td>\n",
       "      <td>0</td>\n",
       "      <td>-0.34</td>\n",
       "      <td>2.70</td>\n",
       "      <td>0</td>\n",
       "      <td>0</td>\n",
       "      <td>0</td>\n",
       "      <td>0</td>\n",
       "    </tr>\n",
       "    <tr>\n",
       "      <th>4</th>\n",
       "      <td>4</td>\n",
       "      <td>-3.049</td>\n",
       "      <td>0.500</td>\n",
       "      <td>12</td>\n",
       "      <td>1.00</td>\n",
       "      <td>-5.53</td>\n",
       "      <td>0</td>\n",
       "      <td>0</td>\n",
       "      <td>-1</td>\n",
       "      <td>-1</td>\n",
       "    </tr>\n",
       "  </tbody>\n",
       "</table>\n",
       "</div>"
      ],
      "text/plain": [
       "   diff_fuglmeyer  diff_SWMFT-time  diff_SWMFT-FAS  diff_ARAT  \\\n",
       "0               2          -15.660           0.255          1   \n",
       "1               0            0.300           0.255          0   \n",
       "2              -3           15.170          -0.500         -3   \n",
       "3               2          -14.100           0.125          0   \n",
       "4               4           -3.049           0.500         12   \n",
       "\n",
       "   diff_grip-affected  diff_grip-unaffected  diff_MAS-shoulder  \\\n",
       "0               -0.63                 -3.30                 -1   \n",
       "1                1.46                 -3.23                  0   \n",
       "2               -3.66                 -0.60                  0   \n",
       "3               -0.34                  2.70                  0   \n",
       "4                1.00                 -5.53                  0   \n",
       "\n",
       "   diff_MAS-elbow  diff_MAS-wrist  diff_MAS-fingers  \n",
       "0               0               0                 0  \n",
       "1               0               0                -1  \n",
       "2               0               1                 0  \n",
       "3               0               0                 0  \n",
       "4               0              -1                -1  "
      ]
     },
     "execution_count": 65,
     "metadata": {},
     "output_type": "execute_result"
    }
   ],
   "source": [
    "clinical.filter(regex='diff')"
   ]
  },
  {
   "cell_type": "code",
   "execution_count": null,
   "id": "5e659bf1",
   "metadata": {},
   "outputs": [],
   "source": []
  }
 ],
 "metadata": {
  "kernelspec": {
   "display_name": "Python 3",
   "language": "python",
   "name": "python3"
  },
  "language_info": {
   "codemirror_mode": {
    "name": "ipython",
    "version": 3
   },
   "file_extension": ".py",
   "mimetype": "text/x-python",
   "name": "python",
   "nbconvert_exporter": "python",
   "pygments_lexer": "ipython3",
   "version": "3.8.8"
  },
  "toc": {
   "base_numbering": 1,
   "nav_menu": {},
   "number_sections": true,
   "sideBar": true,
   "skip_h1_title": false,
   "title_cell": "Table of Contents",
   "title_sidebar": "Contents",
   "toc_cell": false,
   "toc_position": {
    "height": "calc(100% - 180px)",
    "left": "10px",
    "top": "150px",
    "width": "190.667px"
   },
   "toc_section_display": true,
   "toc_window_display": true
  }
 },
 "nbformat": 4,
 "nbformat_minor": 5
}
