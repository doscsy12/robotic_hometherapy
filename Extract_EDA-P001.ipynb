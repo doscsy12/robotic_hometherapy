{
 "cells": [
  {
   "cell_type": "markdown",
   "id": "d0e47c89",
   "metadata": {},
   "source": [
    "### Analyse home use of robotic device\n"
   ]
  },
  {
   "cell_type": "markdown",
   "id": "c6a1dbba",
   "metadata": {},
   "source": [
    "*import libraries*"
   ]
  },
  {
   "cell_type": "code",
   "execution_count": 1,
   "id": "07dad02a",
   "metadata": {},
   "outputs": [],
   "source": [
    "import os\n",
    "import sys\n",
    "import pandas as pd\n",
    "import numpy as np\n",
    "from datetime import datetime\n",
    "import seaborn as sns\n",
    "import matplotlib.pyplot as plt\n",
    "import matplotlib.ticker as mticker\n",
    "%matplotlib inline\n",
    "import math\n",
    "import statistics\n",
    "import sqlite3 as sl\n",
    "from functools import reduce\n",
    "import dataframe_image as dfi"
   ]
  },
  {
   "cell_type": "code",
   "execution_count": 2,
   "id": "9e801555",
   "metadata": {},
   "outputs": [],
   "source": [
    "import warnings\n",
    "warnings.filterwarnings(\"ignore\")"
   ]
  },
  {
   "cell_type": "code",
   "execution_count": 3,
   "id": "e483beee",
   "metadata": {},
   "outputs": [],
   "source": [
    "pd.options.display.max_rows = 500"
   ]
  },
  {
   "cell_type": "code",
   "execution_count": 4,
   "id": "0c65af97",
   "metadata": {},
   "outputs": [
    {
     "data": {
      "text/plain": [
       "'C:\\\\Users\\\\USER\\\\Documents\\\\Articares\\\\CHISEL'"
      ]
     },
     "execution_count": 4,
     "metadata": {},
     "output_type": "execute_result"
    }
   ],
   "source": [
    "os.getcwd()"
   ]
  },
  {
   "cell_type": "code",
   "execution_count": 5,
   "id": "720123f9",
   "metadata": {},
   "outputs": [],
   "source": [
    "start_codes=datetime.now()"
   ]
  },
  {
   "cell_type": "markdown",
   "id": "e6cdcdbe",
   "metadata": {},
   "source": [
    "**connect/query from database**"
   ]
  },
  {
   "cell_type": "code",
   "execution_count": 6,
   "id": "4fc16a77",
   "metadata": {},
   "outputs": [],
   "source": [
    "# con = sl.connect('D:/Articares/CARE_platform/OneDrive_1_4-11-2022/articaresLite_v2_CHISEL_HOME_P001.db')"
   ]
  },
  {
   "cell_type": "code",
   "execution_count": 7,
   "id": "b07bfbe4",
   "metadata": {},
   "outputs": [],
   "source": [
    "# # query only from P001\n",
    "# df = pd.read_sql(\"SELECT PatientID, SessionID, GameID, TimeStampDate, TimeStampMS, VisualTargetXCoord, VisualTargetYCoord, TargetXCoord, TargetYCoord, XCoordinate, YCoordinate, KxGain, KyGain, KxyGain, TotalForce, VelocityX, VelocityY, CurrentSenseLeft, CurrentSenseRight, Sparc FROM TargetFeedbackDataModel WHERE PatientID='TTSH-CHISEL0Pa/Gtc3DUqoPVREp+I/qg==' \",con)"
   ]
  },
  {
   "cell_type": "code",
   "execution_count": 8,
   "id": "cd43a798",
   "metadata": {},
   "outputs": [],
   "source": [
    "# df.head()"
   ]
  },
  {
   "cell_type": "markdown",
   "id": "96e747aa",
   "metadata": {},
   "source": [
    "*save queried results*"
   ]
  },
  {
   "cell_type": "code",
   "execution_count": 9,
   "id": "d6274403",
   "metadata": {},
   "outputs": [],
   "source": [
    "# df.to_csv('./data/sql_result_P001.dat')"
   ]
  },
  {
   "cell_type": "markdown",
   "id": "2bc974c5",
   "metadata": {},
   "source": [
    "**import df from previously saved query**"
   ]
  },
  {
   "cell_type": "code",
   "execution_count": 10,
   "id": "fbce9118",
   "metadata": {},
   "outputs": [],
   "source": [
    "# # read .dat file if df is saved\n",
    "# df = pd.read_csv('./data/sql_result_P001.dat', header=[0])\n",
    "# df.drop(columns=['Unnamed: 0'],inplace=True)\n",
    "\n",
    "df = pd.read_csv('./data/sql_result_onlyP001.txt')"
   ]
  },
  {
   "cell_type": "code",
   "execution_count": 11,
   "id": "7cf256a0",
   "metadata": {},
   "outputs": [
    {
     "data": {
      "text/html": [
       "<div>\n",
       "<style scoped>\n",
       "    .dataframe tbody tr th:only-of-type {\n",
       "        vertical-align: middle;\n",
       "    }\n",
       "\n",
       "    .dataframe tbody tr th {\n",
       "        vertical-align: top;\n",
       "    }\n",
       "\n",
       "    .dataframe thead th {\n",
       "        text-align: right;\n",
       "    }\n",
       "</style>\n",
       "<table border=\"1\" class=\"dataframe\">\n",
       "  <thead>\n",
       "    <tr style=\"text-align: right;\">\n",
       "      <th></th>\n",
       "      <th>PatientID</th>\n",
       "      <th>SessionID</th>\n",
       "      <th>GameID</th>\n",
       "      <th>TimeStampDate</th>\n",
       "      <th>TimeStampMS</th>\n",
       "      <th>VisualTargetXCoord</th>\n",
       "      <th>VisualTargetYCoord</th>\n",
       "      <th>TargetXCoord</th>\n",
       "      <th>TargetYCoord</th>\n",
       "      <th>XCoordinate</th>\n",
       "      <th>YCoordinate</th>\n",
       "      <th>KxGain</th>\n",
       "      <th>KyGain</th>\n",
       "      <th>KxyGain</th>\n",
       "      <th>TotalForce</th>\n",
       "      <th>VelocityX</th>\n",
       "      <th>VelocityY</th>\n",
       "      <th>CurrentSenseLeft</th>\n",
       "      <th>CurrentSenseRight</th>\n",
       "      <th>Sparc</th>\n",
       "    </tr>\n",
       "  </thead>\n",
       "  <tbody>\n",
       "    <tr>\n",
       "      <th>0</th>\n",
       "      <td>TTSH-CHISEL0Pa/Gtc3DUqoPVREp+I/qg==</td>\n",
       "      <td>TTSH-CHISELPuYYoWmBD0SZ54Yz+19suA==</td>\n",
       "      <td>1</td>\n",
       "      <td>2022-03-10 11:13:37</td>\n",
       "      <td>5675311</td>\n",
       "      <td>171.0</td>\n",
       "      <td>50.0</td>\n",
       "      <td>0.0</td>\n",
       "      <td>0.0</td>\n",
       "      <td>0.170526</td>\n",
       "      <td>0.089900</td>\n",
       "      <td>0.0</td>\n",
       "      <td>0.0</td>\n",
       "      <td>0.0</td>\n",
       "      <td>0.0</td>\n",
       "      <td>0.040212</td>\n",
       "      <td>0.331752</td>\n",
       "      <td>-0.0144</td>\n",
       "      <td>-0.0176</td>\n",
       "      <td>0.0</td>\n",
       "    </tr>\n",
       "    <tr>\n",
       "      <th>1</th>\n",
       "      <td>TTSH-CHISEL0Pa/Gtc3DUqoPVREp+I/qg==</td>\n",
       "      <td>TTSH-CHISELPuYYoWmBD0SZ54Yz+19suA==</td>\n",
       "      <td>1</td>\n",
       "      <td>2022-03-10 11:13:37</td>\n",
       "      <td>5675316</td>\n",
       "      <td>171.0</td>\n",
       "      <td>50.0</td>\n",
       "      <td>0.0</td>\n",
       "      <td>0.0</td>\n",
       "      <td>0.170777</td>\n",
       "      <td>0.091659</td>\n",
       "      <td>0.0</td>\n",
       "      <td>0.0</td>\n",
       "      <td>0.0</td>\n",
       "      <td>0.0</td>\n",
       "      <td>0.043982</td>\n",
       "      <td>0.340549</td>\n",
       "      <td>-0.0144</td>\n",
       "      <td>-0.0176</td>\n",
       "      <td>0.0</td>\n",
       "    </tr>\n",
       "    <tr>\n",
       "      <th>2</th>\n",
       "      <td>TTSH-CHISEL0Pa/Gtc3DUqoPVREp+I/qg==</td>\n",
       "      <td>TTSH-CHISELPuYYoWmBD0SZ54Yz+19suA==</td>\n",
       "      <td>1</td>\n",
       "      <td>2022-03-10 11:13:37</td>\n",
       "      <td>5675316</td>\n",
       "      <td>171.0</td>\n",
       "      <td>50.0</td>\n",
       "      <td>0.0</td>\n",
       "      <td>0.0</td>\n",
       "      <td>0.170777</td>\n",
       "      <td>0.091659</td>\n",
       "      <td>0.0</td>\n",
       "      <td>0.0</td>\n",
       "      <td>0.0</td>\n",
       "      <td>0.0</td>\n",
       "      <td>0.043982</td>\n",
       "      <td>0.340549</td>\n",
       "      <td>-0.0144</td>\n",
       "      <td>-0.0176</td>\n",
       "      <td>0.0</td>\n",
       "    </tr>\n",
       "    <tr>\n",
       "      <th>3</th>\n",
       "      <td>TTSH-CHISEL0Pa/Gtc3DUqoPVREp+I/qg==</td>\n",
       "      <td>TTSH-CHISELPuYYoWmBD0SZ54Yz+19suA==</td>\n",
       "      <td>1</td>\n",
       "      <td>2022-03-10 11:13:37</td>\n",
       "      <td>5675326</td>\n",
       "      <td>171.0</td>\n",
       "      <td>50.0</td>\n",
       "      <td>0.0</td>\n",
       "      <td>0.0</td>\n",
       "      <td>0.171229</td>\n",
       "      <td>0.095278</td>\n",
       "      <td>0.0</td>\n",
       "      <td>0.0</td>\n",
       "      <td>0.0</td>\n",
       "      <td>0.0</td>\n",
       "      <td>0.046496</td>\n",
       "      <td>0.353115</td>\n",
       "      <td>0.0016</td>\n",
       "      <td>-0.0336</td>\n",
       "      <td>0.0</td>\n",
       "    </tr>\n",
       "    <tr>\n",
       "      <th>4</th>\n",
       "      <td>TTSH-CHISEL0Pa/Gtc3DUqoPVREp+I/qg==</td>\n",
       "      <td>TTSH-CHISELPuYYoWmBD0SZ54Yz+19suA==</td>\n",
       "      <td>1</td>\n",
       "      <td>2022-03-10 11:13:37</td>\n",
       "      <td>5675351</td>\n",
       "      <td>171.0</td>\n",
       "      <td>50.0</td>\n",
       "      <td>0.0</td>\n",
       "      <td>0.0</td>\n",
       "      <td>0.172536</td>\n",
       "      <td>0.104728</td>\n",
       "      <td>0.0</td>\n",
       "      <td>0.0</td>\n",
       "      <td>0.0</td>\n",
       "      <td>0.0</td>\n",
       "      <td>0.052779</td>\n",
       "      <td>0.379504</td>\n",
       "      <td>0.0016</td>\n",
       "      <td>-0.0336</td>\n",
       "      <td>0.0</td>\n",
       "    </tr>\n",
       "  </tbody>\n",
       "</table>\n",
       "</div>"
      ],
      "text/plain": [
       "                             PatientID                            SessionID  \\\n",
       "0  TTSH-CHISEL0Pa/Gtc3DUqoPVREp+I/qg==  TTSH-CHISELPuYYoWmBD0SZ54Yz+19suA==   \n",
       "1  TTSH-CHISEL0Pa/Gtc3DUqoPVREp+I/qg==  TTSH-CHISELPuYYoWmBD0SZ54Yz+19suA==   \n",
       "2  TTSH-CHISEL0Pa/Gtc3DUqoPVREp+I/qg==  TTSH-CHISELPuYYoWmBD0SZ54Yz+19suA==   \n",
       "3  TTSH-CHISEL0Pa/Gtc3DUqoPVREp+I/qg==  TTSH-CHISELPuYYoWmBD0SZ54Yz+19suA==   \n",
       "4  TTSH-CHISEL0Pa/Gtc3DUqoPVREp+I/qg==  TTSH-CHISELPuYYoWmBD0SZ54Yz+19suA==   \n",
       "\n",
       "   GameID        TimeStampDate  TimeStampMS  VisualTargetXCoord  \\\n",
       "0       1  2022-03-10 11:13:37      5675311               171.0   \n",
       "1       1  2022-03-10 11:13:37      5675316               171.0   \n",
       "2       1  2022-03-10 11:13:37      5675316               171.0   \n",
       "3       1  2022-03-10 11:13:37      5675326               171.0   \n",
       "4       1  2022-03-10 11:13:37      5675351               171.0   \n",
       "\n",
       "   VisualTargetYCoord  TargetXCoord  TargetYCoord  XCoordinate  YCoordinate  \\\n",
       "0                50.0           0.0           0.0     0.170526     0.089900   \n",
       "1                50.0           0.0           0.0     0.170777     0.091659   \n",
       "2                50.0           0.0           0.0     0.170777     0.091659   \n",
       "3                50.0           0.0           0.0     0.171229     0.095278   \n",
       "4                50.0           0.0           0.0     0.172536     0.104728   \n",
       "\n",
       "   KxGain  KyGain  KxyGain  TotalForce  VelocityX  VelocityY  \\\n",
       "0     0.0     0.0      0.0         0.0   0.040212   0.331752   \n",
       "1     0.0     0.0      0.0         0.0   0.043982   0.340549   \n",
       "2     0.0     0.0      0.0         0.0   0.043982   0.340549   \n",
       "3     0.0     0.0      0.0         0.0   0.046496   0.353115   \n",
       "4     0.0     0.0      0.0         0.0   0.052779   0.379504   \n",
       "\n",
       "   CurrentSenseLeft  CurrentSenseRight  Sparc  \n",
       "0           -0.0144            -0.0176    0.0  \n",
       "1           -0.0144            -0.0176    0.0  \n",
       "2           -0.0144            -0.0176    0.0  \n",
       "3            0.0016            -0.0336    0.0  \n",
       "4            0.0016            -0.0336    0.0  "
      ]
     },
     "execution_count": 11,
     "metadata": {},
     "output_type": "execute_result"
    }
   ],
   "source": [
    "df.head()"
   ]
  },
  {
   "cell_type": "code",
   "execution_count": 12,
   "id": "e6555bf3",
   "metadata": {
    "scrolled": true
   },
   "outputs": [
    {
     "name": "stdout",
     "output_type": "stream",
     "text": [
      "<class 'pandas.core.frame.DataFrame'>\n",
      "RangeIndex: 1457826 entries, 0 to 1457825\n",
      "Data columns (total 20 columns):\n",
      " #   Column              Non-Null Count    Dtype  \n",
      "---  ------              --------------    -----  \n",
      " 0   PatientID           1457826 non-null  object \n",
      " 1   SessionID           1457823 non-null  object \n",
      " 2   GameID              1457826 non-null  int64  \n",
      " 3   TimeStampDate       1457826 non-null  object \n",
      " 4   TimeStampMS         1457826 non-null  int64  \n",
      " 5   VisualTargetXCoord  1457826 non-null  float64\n",
      " 6   VisualTargetYCoord  1457826 non-null  float64\n",
      " 7   TargetXCoord        1457826 non-null  float64\n",
      " 8   TargetYCoord        1457826 non-null  float64\n",
      " 9   XCoordinate         1457826 non-null  float64\n",
      " 10  YCoordinate         1457826 non-null  float64\n",
      " 11  KxGain              1457826 non-null  float64\n",
      " 12  KyGain              1457826 non-null  float64\n",
      " 13  KxyGain             1457826 non-null  float64\n",
      " 14  TotalForce          1457826 non-null  float64\n",
      " 15  VelocityX           1457826 non-null  float64\n",
      " 16  VelocityY           1457826 non-null  float64\n",
      " 17  CurrentSenseLeft    1457826 non-null  float64\n",
      " 18  CurrentSenseRight   1457826 non-null  float64\n",
      " 19  Sparc               1457826 non-null  float64\n",
      "dtypes: float64(15), int64(2), object(3)\n",
      "memory usage: 222.4+ MB\n"
     ]
    }
   ],
   "source": [
    "df.info()"
   ]
  },
  {
   "cell_type": "markdown",
   "id": "f4208eac",
   "metadata": {},
   "source": [
    "**patient dictionary**"
   ]
  },
  {
   "cell_type": "code",
   "execution_count": 13,
   "id": "07bc5772",
   "metadata": {},
   "outputs": [],
   "source": [
    "user_id_dict = {\n",
    "    'TTSH-CHISELRGgLPwL3Lk6JTgBaVP4bjg==':'Test_01',\n",
    "    'TTSH-CHISEL2gpumVcbJE267TKKceWbOA==':'NULL', \n",
    "    'TTSH-CHISEL0Pa/Gtc3DUqoPVREp+I/qg==':'001', \n",
    "    'TTSH-CHISELamITRYYb9UymNH+3xzylgg==':'003', \n",
    "    'TTSH-CHISEL9GsWU5zb50CfPyoLNy7qvg==':'002',\n",
    "}; \n"
   ]
  },
  {
   "cell_type": "markdown",
   "id": "82d86a27",
   "metadata": {},
   "source": [
    "*replace PatientID from user_id_dict*"
   ]
  },
  {
   "cell_type": "code",
   "execution_count": 14,
   "id": "c23c9dc1",
   "metadata": {},
   "outputs": [],
   "source": [
    "# df['PatientID'].unique()"
   ]
  },
  {
   "cell_type": "markdown",
   "id": "024f4aff",
   "metadata": {},
   "source": [
    "for eg, if 'onlyP001' ie., only one patient is queried, then there should only be one unique value."
   ]
  },
  {
   "cell_type": "code",
   "execution_count": 15,
   "id": "c86a33ae",
   "metadata": {},
   "outputs": [],
   "source": [
    "# replace PatientID with username\n",
    "df.replace({'PatientID':user_id_dict},inplace=True)"
   ]
  },
  {
   "cell_type": "code",
   "execution_count": 16,
   "id": "167f2483",
   "metadata": {},
   "outputs": [],
   "source": [
    "# check PatientID replace\n",
    "# df['PatientID'].unique()"
   ]
  },
  {
   "cell_type": "markdown",
   "id": "ecb28231",
   "metadata": {},
   "source": [
    "**convert datetime**"
   ]
  },
  {
   "cell_type": "code",
   "execution_count": 17,
   "id": "673ea956",
   "metadata": {},
   "outputs": [],
   "source": [
    "df['date_time'] = pd.to_datetime(df['TimeStampDate'], format='%Y-%m-%d %H:%M:%S')\n",
    "# df['date_time']"
   ]
  },
  {
   "cell_type": "code",
   "execution_count": 18,
   "id": "e752aeb1",
   "metadata": {},
   "outputs": [],
   "source": [
    "# check date_time column\n",
    "# df['date_time'].dtypes"
   ]
  },
  {
   "cell_type": "markdown",
   "id": "572a9ae4",
   "metadata": {},
   "source": [
    "**check df for duplicates**\n",
    "<br> TimeStampMS\n",
    "<br> SessionID"
   ]
  },
  {
   "cell_type": "code",
   "execution_count": 19,
   "id": "f785db2b",
   "metadata": {},
   "outputs": [],
   "source": [
    "# df['TimeStampMS'].duplicated().value_counts()[True]"
   ]
  },
  {
   "cell_type": "markdown",
   "id": "6b9ab5b4",
   "metadata": {},
   "source": [
    "too many duplicates of TimeStampMS, since it is time (in ms) from datetime run time."
   ]
  },
  {
   "cell_type": "code",
   "execution_count": 20,
   "id": "39ad869d",
   "metadata": {},
   "outputs": [],
   "source": [
    "# df['SessionID'].unique()"
   ]
  },
  {
   "cell_type": "code",
   "execution_count": 21,
   "id": "8f76d35f",
   "metadata": {},
   "outputs": [
    {
     "data": {
      "text/plain": [
       "3"
      ]
     },
     "execution_count": 21,
     "metadata": {},
     "output_type": "execute_result"
    }
   ],
   "source": [
    "# there is 'null' in 'SessionID'\n",
    "df['SessionID'].isnull().sum()"
   ]
  },
  {
   "cell_type": "code",
   "execution_count": 22,
   "id": "0067b424",
   "metadata": {},
   "outputs": [],
   "source": [
    "# where is the 'SessionID' missing\n",
    "# df[df['SessionID'].isnull()]"
   ]
  },
  {
   "cell_type": "markdown",
   "id": "4c1b00eb",
   "metadata": {},
   "source": [
    "some 'SessionID' are missing, nothing we can do about it, though possible to impute from neighbouring rows."
   ]
  },
  {
   "cell_type": "code",
   "execution_count": 23,
   "id": "24ed0818",
   "metadata": {},
   "outputs": [],
   "source": [
    "# remove SessionID when null\n",
    "df = df[df['SessionID'].notna()]"
   ]
  },
  {
   "cell_type": "markdown",
   "id": "caaa2516",
   "metadata": {},
   "source": [
    "**format VisualTargetCoord and TargetCoord**"
   ]
  },
  {
   "cell_type": "code",
   "execution_count": 24,
   "id": "0c79de5f",
   "metadata": {},
   "outputs": [],
   "source": [
    "df['VisualTargetXCoord'] = df['VisualTargetXCoord']/1000\n",
    "df['VisualTargetYCoord'] = df['VisualTargetYCoord']/1000\n",
    "df['TargetXCoord'] = df['TargetXCoord']/1000\n",
    "df['TargetYCoord'] = df['TargetYCoord']/1000"
   ]
  },
  {
   "cell_type": "markdown",
   "id": "6bcc1c9d",
   "metadata": {},
   "source": [
    "**if no issues with data loggin in database, multi index df belows works even faster**"
   ]
  },
  {
   "cell_type": "markdown",
   "id": "7cf35598",
   "metadata": {},
   "source": [
    "count/count are arbitrarily chosen from highest count.\n",
    "<br> only numeral items are taken into account\n",
    "<br> top: most common value\n",
    "<br> freq: most common value's freq\n",
    "<br> timestamps: first and last items"
   ]
  },
  {
   "cell_type": "code",
   "execution_count": 25,
   "id": "7731c3e0",
   "metadata": {},
   "outputs": [],
   "source": [
    "# # creating multi index df\n",
    "# main = df[['PatientID','SessionID','GameID','date_time']].groupby(by=['PatientID','SessionID','GameID']).describe().sort_values([('date_time','first')])\n",
    "# main"
   ]
  },
  {
   "cell_type": "code",
   "execution_count": 26,
   "id": "73f32715",
   "metadata": {},
   "outputs": [],
   "source": [
    "# main.index.names"
   ]
  },
  {
   "cell_type": "code",
   "execution_count": 27,
   "id": "0fab8522",
   "metadata": {},
   "outputs": [],
   "source": [
    "# main.index.values"
   ]
  },
  {
   "cell_type": "markdown",
   "id": "4438da1f",
   "metadata": {},
   "source": [
    "Unfortunately, due to incorrect 'SessionID' identifiers, it is NOT that easy to use above df to identify start/end times of each gameplay. So use index as replacement for order of gameplay."
   ]
  },
  {
   "cell_type": "markdown",
   "id": "20aa38dc",
   "metadata": {},
   "source": [
    "*GameID*"
   ]
  },
  {
   "cell_type": "code",
   "execution_count": 28,
   "id": "498b7a8d",
   "metadata": {},
   "outputs": [],
   "source": [
    "game_id_dict = {\n",
    "    0 : 'Explore the World',\n",
    "    1 : 'Fishing Game',\n",
    "    2 : 'Drone Game'\n",
    "}"
   ]
  },
  {
   "cell_type": "code",
   "execution_count": 29,
   "id": "4e10cd4c",
   "metadata": {},
   "outputs": [
    {
     "data": {
      "text/plain": [
       "array([1, 0, 2], dtype=int64)"
      ]
     },
     "execution_count": 29,
     "metadata": {},
     "output_type": "execute_result"
    }
   ],
   "source": [
    "# check types of games played\n",
    "df['GameID'].unique()"
   ]
  },
  {
   "cell_type": "markdown",
   "id": "3c150090",
   "metadata": {},
   "source": [
    "### Segregating dataset by session and game"
   ]
  },
  {
   "cell_type": "code",
   "execution_count": 30,
   "id": "87ec49ca",
   "metadata": {},
   "outputs": [],
   "source": [
    "# make copy of original df\n",
    "df1 = df.reset_index()"
   ]
  },
  {
   "cell_type": "code",
   "execution_count": 31,
   "id": "d86e7176",
   "metadata": {},
   "outputs": [],
   "source": [
    "# # keep only patient of interest (if P001), drop everything else\n",
    "# # does not matter if early queries only on one patient\n",
    "# searchfor = ['Test_','NULL','003','002']\n",
    "# df1 = df1[df1['PatientID'].str.contains('Test_|NULL')==False].reset_index()\n",
    "# df1"
   ]
  },
  {
   "cell_type": "code",
   "execution_count": 32,
   "id": "f3374fa9",
   "metadata": {},
   "outputs": [],
   "source": [
    "df1['TimeStampMS_diff'] = df1[['TimeStampMS']].diff()"
   ]
  },
  {
   "cell_type": "code",
   "execution_count": 33,
   "id": "84f0b646",
   "metadata": {},
   "outputs": [],
   "source": [
    "# checking when 'TimeStampMS_diff' < 0, indicating new session/game start, even when device is left on overnight\n",
    "temp1 = df1.loc[df1['TimeStampMS_diff'] < 0]\n",
    "# temp1"
   ]
  },
  {
   "cell_type": "code",
   "execution_count": 34,
   "id": "5d49b158",
   "metadata": {},
   "outputs": [],
   "source": [
    "list_sessions = df1[df1['SessionID'].notna()]['SessionID'].unique()"
   ]
  },
  {
   "cell_type": "markdown",
   "id": "00530de9",
   "metadata": {},
   "source": [
    "**checking for new starts within one session**"
   ]
  },
  {
   "cell_type": "code",
   "execution_count": 35,
   "id": "fb534d4d",
   "metadata": {},
   "outputs": [],
   "source": [
    "for session in list_sessions:\n",
    "    if len(temp1[temp1['SessionID']==session]) == 0:\n",
    "        pass\n",
    "        \n",
    "    elif len(temp1[temp1['SessionID']==session]) == 1:\n",
    "        '''this is important to check where the start is'''\n",
    "        '''if in the begininning, no big deal'''\n",
    "        temp2 = df1[df1['SessionID']==session].reset_index()\n",
    "        # first index\n",
    "        if temp2[['TimeStampMS_diff']].iloc[0].values[0] < 0:\n",
    "            pass\n",
    "        # last index\n",
    "        elif temp2[['TimeStampMS_diff']].iloc[-1].values[0] < 0:\n",
    "            idx=temp2[['index']].iloc[-1].values[0]\n",
    "            df1.drop(df1[(df1['index'] == idx)].index,axis=0,inplace=True)\n",
    "        # middle index    \n",
    "        else:\n",
    "            idx_start=temp2.loc[temp2['TimeStampMS_diff'] < 0]['index'].values[0]\n",
    "            idx_end=temp2[['index']].iloc[-1].values[0]\n",
    "            df1.loc[(df1['index'] >= idx_start) & (df1['index'] <= idx_end), 'SessionID'] = 'newsession'\n",
    "            \n",
    "    elif len(temp1[temp1['SessionID']==session]) == 2:\n",
    "        '''this needs to check whether it is beginning or end'''\n",
    "        '''if in the middle, sessionid is split'''\n",
    "        temp2 = df1[df1['SessionID']==session].reset_index()\n",
    "        # first index\n",
    "        if temp2[['TimeStampMS_diff']].iloc[0].values[0] < 0:\n",
    "            pass\n",
    "        # last index\n",
    "        if temp2[['TimeStampMS_diff']].iloc[-1].values[0] < 0:\n",
    "            idx=temp2[['index']].iloc[-1].values[0]\n",
    "            df1.drop(df1[(df1['index'] == idx)].index,axis=0,inplace=True)\n",
    "        # middle index    \n",
    "        if (temp2[['TimeStampMS_diff']].iloc[-1].values[0] < 0) and (temp2[['TimeStampMS_diff']].iloc[-1].values[0] < 0):\n",
    "            pass\n",
    "        else:\n",
    "            idx_start=temp2.loc[temp2['TimeStampMS_diff'] < 0]['index'].values[1]\n",
    "            idx_end=temp2[['index']].iloc[-1].values[0]\n",
    "            df1.loc[(df1['index'] >= idx_start) & (df1['index'] <= idx_end), 'SessionID'] = 'anewsession'\n",
    "    \n",
    "    elif len(temp1[temp1['SessionID']==session]) == 3:\n",
    "        '''this assumes there THREE means a correct start, incorrect sessionid end, AND a start in the middle'''\n",
    "        temp2 = df1[df1['SessionID']==session].reset_index()\n",
    "        # first index\n",
    "        if temp2[['TimeStampMS_diff']].iloc[0].values[0] < 0:\n",
    "            pass\n",
    "        # last index\n",
    "        if temp2[['TimeStampMS_diff']].iloc[-1].values[0] < 0:\n",
    "            idx=temp2[['index']].iloc[-1].values[0]\n",
    "            df1.drop(df1[(df1['index'] == idx)].index,axis=0,inplace=True)\n",
    "        # middle index    \n",
    "        idx_start=temp2.loc[temp2['TimeStampMS_diff'] < 0]['index'].values[1]\n",
    "        idx_end=temp2[['index']].iloc[-1].values[0]\n",
    "        df1.loc[(df1['index'] >= idx_start) & (df1['index'] <= idx_end), 'SessionID'] = 'ohnewsession'\n",
    "    \n",
    "    elif len(temp1[temp1['SessionID']==session]) > 3:\n",
    "        '''trouble here'''\n",
    "        print('>3 new starts in session. Please manual check!')"
   ]
  },
  {
   "cell_type": "markdown",
   "id": "39c78061",
   "metadata": {},
   "source": [
    "*double checking session happens once for 'TimeStampMS_diff' < 0*"
   ]
  },
  {
   "cell_type": "code",
   "execution_count": 36,
   "id": "af2d9ca8",
   "metadata": {},
   "outputs": [],
   "source": [
    "# updated list_sessions\n",
    "list_sessions = df1[df1['SessionID'].notna()]['SessionID'].unique()\n",
    "\n",
    "for session in list_sessions:\n",
    "    if (len(df1.loc[(df1['TimeStampMS_diff'] < 0) & (df1['SessionID']==session)])) > 1:\n",
    "        print('!! >3 new starts in session. Please manual check !!')"
   ]
  },
  {
   "cell_type": "code",
   "execution_count": 37,
   "id": "d8a2018a",
   "metadata": {},
   "outputs": [],
   "source": [
    "# keep sessions in df within a list\n",
    "df_session = []\n",
    "for session in list_sessions:\n",
    "    temp = df1[df1['SessionID']==session]  \n",
    "    \n",
    "    # triple check for false starts\n",
    "    time_diff = temp[['TimeStampMS']].iloc[-1][0] - temp[['TimeStampMS']].iloc[-2][0]\n",
    "#     print(time_diff)\n",
    "    temp.drop(temp.index[[-1]],axis=0,inplace=True) \n",
    "    df_session.append(temp)"
   ]
  },
  {
   "cell_type": "markdown",
   "id": "30a6b6eb",
   "metadata": {},
   "source": [
    "### EDA"
   ]
  },
  {
   "cell_type": "markdown",
   "id": "a6bbe36c",
   "metadata": {},
   "source": [
    "#### time duration\n"
   ]
  },
  {
   "cell_type": "markdown",
   "id": "ebb2dbde",
   "metadata": {},
   "source": [
    "**declare path for saving fig**\n",
    "<br> path/folder will change later, and declared again later"
   ]
  },
  {
   "cell_type": "code",
   "execution_count": 38,
   "id": "164ab488",
   "metadata": {},
   "outputs": [],
   "source": [
    "patientid = df['PatientID'].unique()[0]\n",
    "results_path = os.path.join('data', 'results', patientid)\n",
    "if not os.path.exists(results_path):\n",
    "    os.makedirs(results_path)"
   ]
  },
  {
   "cell_type": "markdown",
   "id": "c6fe5fe4",
   "metadata": {},
   "source": [
    "*create dataframe*"
   ]
  },
  {
   "cell_type": "code",
   "execution_count": 39,
   "id": "dc410e7c",
   "metadata": {},
   "outputs": [
    {
     "data": {
      "text/plain": [
       "22"
      ]
     },
     "execution_count": 39,
     "metadata": {},
     "output_type": "execute_result"
    }
   ],
   "source": [
    "# sessions have increased, since new session are created when new starts to gameplay were detected\n",
    "len(df_session)"
   ]
  },
  {
   "cell_type": "code",
   "execution_count": 40,
   "id": "89584dbe",
   "metadata": {},
   "outputs": [
    {
     "data": {
      "text/plain": [
       "array([1, 0, 2], dtype=int64)"
      ]
     },
     "execution_count": 40,
     "metadata": {},
     "output_type": "execute_result"
    }
   ],
   "source": [
    "# number of games played\n",
    "df1['GameID'].unique()"
   ]
  },
  {
   "cell_type": "code",
   "execution_count": 41,
   "id": "9b1d198a",
   "metadata": {},
   "outputs": [],
   "source": [
    "session_nr = []\n",
    "game_nr = []\n",
    "start = []\n",
    "end = []\n",
    "diff = []\n",
    "for session, df in enumerate(df_session):\n",
    "    for game in range(0,df1['GameID'].nunique()):\n",
    "        if game in df['GameID'].unique():\n",
    "            session_nr.append(session)\n",
    "            game_nr.append(game)\n",
    "            temp = df[df['GameID']==game]\n",
    "            start.append(temp[['date_time']].iloc[0][0])\n",
    "            end.append(temp[['date_time']].iloc[-1][0])\n",
    "            time_diff = (temp[['date_time']].iloc[-1][0]) - (temp[['date_time']].iloc[0][0])\n",
    "            diff.append(time_diff/ np.timedelta64(1,'m'))    # in minutes\n",
    "        "
   ]
  },
  {
   "cell_type": "code",
   "execution_count": 42,
   "id": "2ad145b6",
   "metadata": {},
   "outputs": [],
   "source": [
    "# put in df\n",
    "time_session = []\n",
    "for row in range(0,len(session_nr)):\n",
    "    time_session.append(row)\n",
    "time_session = pd.DataFrame(time_session,columns=['session_nr'])   \n",
    "time_session['session_nr'] = session_nr\n",
    "time_session['game_nr'] = game_nr\n",
    "time_session['start'] = start\n",
    "time_session['end'] = end\n",
    "time_session['diff'] = diff  # in minutes\n",
    "time_session['just_date'] = time_session['start'].dt.date"
   ]
  },
  {
   "cell_type": "code",
   "execution_count": 43,
   "id": "74423dac",
   "metadata": {},
   "outputs": [],
   "source": [
    "# time_session"
   ]
  },
  {
   "cell_type": "code",
   "execution_count": 44,
   "id": "71fc09df",
   "metadata": {},
   "outputs": [],
   "source": [
    "# dfi.export(time_session,\"time_session.png\")\n",
    "# dfi.export(time_session[time_session['game_nr']==0],\"time_explore.png\")\n",
    "# dfi.export(time_session[time_session['game_nr']==1],\"time_fish.png\")\n",
    "# dfi.export(time_session[time_session['game_nr']==2],\"time_drone.png\")"
   ]
  },
  {
   "cell_type": "markdown",
   "id": "882a9450",
   "metadata": {},
   "source": [
    "##### time spend per session"
   ]
  },
  {
   "cell_type": "code",
   "execution_count": 45,
   "id": "e486e77e",
   "metadata": {},
   "outputs": [
    {
     "data": {
      "text/html": [
       "<div>\n",
       "<style scoped>\n",
       "    .dataframe tbody tr th:only-of-type {\n",
       "        vertical-align: middle;\n",
       "    }\n",
       "\n",
       "    .dataframe tbody tr th {\n",
       "        vertical-align: top;\n",
       "    }\n",
       "\n",
       "    .dataframe thead th {\n",
       "        text-align: right;\n",
       "    }\n",
       "</style>\n",
       "<table border=\"1\" class=\"dataframe\">\n",
       "  <thead>\n",
       "    <tr style=\"text-align: right;\">\n",
       "      <th></th>\n",
       "      <th>just_date</th>\n",
       "      <th>diff</th>\n",
       "    </tr>\n",
       "  </thead>\n",
       "  <tbody>\n",
       "    <tr>\n",
       "      <th>0</th>\n",
       "      <td>2022-03-10</td>\n",
       "      <td>12.383333</td>\n",
       "    </tr>\n",
       "    <tr>\n",
       "      <th>1</th>\n",
       "      <td>2022-03-11</td>\n",
       "      <td>32.066667</td>\n",
       "    </tr>\n",
       "    <tr>\n",
       "      <th>2</th>\n",
       "      <td>2022-03-12</td>\n",
       "      <td>61.066667</td>\n",
       "    </tr>\n",
       "    <tr>\n",
       "      <th>3</th>\n",
       "      <td>2022-03-15</td>\n",
       "      <td>31.700000</td>\n",
       "    </tr>\n",
       "    <tr>\n",
       "      <th>4</th>\n",
       "      <td>2022-03-16</td>\n",
       "      <td>10.033333</td>\n",
       "    </tr>\n",
       "    <tr>\n",
       "      <th>5</th>\n",
       "      <td>2022-03-17</td>\n",
       "      <td>37.716667</td>\n",
       "    </tr>\n",
       "    <tr>\n",
       "      <th>6</th>\n",
       "      <td>2022-03-21</td>\n",
       "      <td>50.600000</td>\n",
       "    </tr>\n",
       "    <tr>\n",
       "      <th>7</th>\n",
       "      <td>2022-03-22</td>\n",
       "      <td>31.866667</td>\n",
       "    </tr>\n",
       "    <tr>\n",
       "      <th>8</th>\n",
       "      <td>2022-03-23</td>\n",
       "      <td>31.083333</td>\n",
       "    </tr>\n",
       "    <tr>\n",
       "      <th>9</th>\n",
       "      <td>2022-03-24</td>\n",
       "      <td>22.083333</td>\n",
       "    </tr>\n",
       "    <tr>\n",
       "      <th>10</th>\n",
       "      <td>2022-03-29</td>\n",
       "      <td>32.783333</td>\n",
       "    </tr>\n",
       "  </tbody>\n",
       "</table>\n",
       "</div>"
      ],
      "text/plain": [
       "     just_date       diff\n",
       "0   2022-03-10  12.383333\n",
       "1   2022-03-11  32.066667\n",
       "2   2022-03-12  61.066667\n",
       "3   2022-03-15  31.700000\n",
       "4   2022-03-16  10.033333\n",
       "5   2022-03-17  37.716667\n",
       "6   2022-03-21  50.600000\n",
       "7   2022-03-22  31.866667\n",
       "8   2022-03-23  31.083333\n",
       "9   2022-03-24  22.083333\n",
       "10  2022-03-29  32.783333"
      ]
     },
     "execution_count": 45,
     "metadata": {},
     "output_type": "execute_result"
    }
   ],
   "source": [
    "time_groupsession = time_session.groupby(['just_date']).sum().reset_index()\n",
    "time_groupsession.drop(columns=['session_nr','game_nr'])"
   ]
  },
  {
   "cell_type": "markdown",
   "id": "9beebbcc",
   "metadata": {},
   "source": [
    "**number of active days playing**"
   ]
  },
  {
   "cell_type": "code",
   "execution_count": 46,
   "id": "f056c520",
   "metadata": {},
   "outputs": [
    {
     "name": "stdout",
     "output_type": "stream",
     "text": [
      "total number of days played = 11 days\n"
     ]
    }
   ],
   "source": [
    "active_days = time_groupsession['just_date'].count()\n",
    "print(f'total number of days played = {active_days} days')"
   ]
  },
  {
   "cell_type": "code",
   "execution_count": 47,
   "id": "9bb24f6a",
   "metadata": {},
   "outputs": [
    {
     "data": {
      "image/png": "[encoded data removed]",
      "text/plain": [
       "<Figure size 432x288 with 1 Axes>"
      ]
     },
     "metadata": {
      "needs_background": "light"
     },
     "output_type": "display_data"
    }
   ],
   "source": [
    "# plot number of games by session\n",
    "plt.bar(time_groupsession['just_date'],time_groupsession['diff']);\n",
    "plt.xlabel('session/ date')\n",
    "plt.xticks(rotation=45)\n",
    "# plt.yticks(range(0,20))\n",
    "# plt.gca().yaxis.set_major_locator(mticker.MultipleLocator(2))\n",
    "plt.ylabel('time (in mins)');\n",
    "plt.title('total time spent each session');\n",
    "\n",
    "plt.savefig(results_path + '\\\\total_time_session.png',bbox_inches = \"tight\")\n",
    "plt.show();"
   ]
  },
  {
   "cell_type": "markdown",
   "id": "51b14321",
   "metadata": {},
   "source": [
    "##### total time spent on play"
   ]
  },
  {
   "cell_type": "code",
   "execution_count": 48,
   "id": "5aa15db8",
   "metadata": {},
   "outputs": [
    {
     "name": "stdout",
     "output_type": "stream",
     "text": [
      "total time spent = 353.38 mins\n"
     ]
    }
   ],
   "source": [
    "total_time = time_session[['diff']].sum()\n",
    "print(f'total time spent = {total_time[0]:.2f} mins')"
   ]
  },
  {
   "cell_type": "code",
   "execution_count": 49,
   "id": "946c1dad",
   "metadata": {},
   "outputs": [
    {
     "name": "stdout",
     "output_type": "stream",
     "text": [
      "total time spent = 0 days, 5.00 hours, 53.38 mins\n"
     ]
    }
   ],
   "source": [
    "days = math.floor(total_time[0] / (24*60))\n",
    "leftover_minutes = total_time[0] % (24*60)\n",
    "\n",
    "hours = math.floor(leftover_minutes / 60)\n",
    "mins = total_time[0] - (days*1440) - (hours*60)\n",
    "\n",
    "print(f'total time spent = {days} days, {hours:.2f} hours, {mins:.2f} mins')"
   ]
  },
  {
   "cell_type": "markdown",
   "id": "5d5eb7ef",
   "metadata": {},
   "source": [
    "##### time spend by game"
   ]
  },
  {
   "cell_type": "code",
   "execution_count": 50,
   "id": "1f754deb",
   "metadata": {},
   "outputs": [
    {
     "data": {
      "text/html": [
       "<div>\n",
       "<style scoped>\n",
       "    .dataframe tbody tr th:only-of-type {\n",
       "        vertical-align: middle;\n",
       "    }\n",
       "\n",
       "    .dataframe tbody tr th {\n",
       "        vertical-align: top;\n",
       "    }\n",
       "\n",
       "    .dataframe thead th {\n",
       "        text-align: right;\n",
       "    }\n",
       "</style>\n",
       "<table border=\"1\" class=\"dataframe\">\n",
       "  <thead>\n",
       "    <tr style=\"text-align: right;\">\n",
       "      <th></th>\n",
       "      <th>game_nr</th>\n",
       "      <th>diff</th>\n",
       "    </tr>\n",
       "  </thead>\n",
       "  <tbody>\n",
       "    <tr>\n",
       "      <th>Explore the World</th>\n",
       "      <td>0</td>\n",
       "      <td>142.133333</td>\n",
       "    </tr>\n",
       "    <tr>\n",
       "      <th>Fishing Game</th>\n",
       "      <td>1</td>\n",
       "      <td>103.683333</td>\n",
       "    </tr>\n",
       "    <tr>\n",
       "      <th>Drone Game</th>\n",
       "      <td>2</td>\n",
       "      <td>107.566667</td>\n",
       "    </tr>\n",
       "  </tbody>\n",
       "</table>\n",
       "</div>"
      ],
      "text/plain": [
       "                   game_nr        diff\n",
       "Explore the World        0  142.133333\n",
       "Fishing Game             1  103.683333\n",
       "Drone Game               2  107.566667"
      ]
     },
     "execution_count": 50,
     "metadata": {},
     "output_type": "execute_result"
    }
   ],
   "source": [
    "time_gamesession = time_session.groupby(['game_nr']).sum().reset_index()\n",
    "time_gamesession.index = time_gamesession.index.map(game_id_dict)\n",
    "time_gamesession.drop(columns=['session_nr'])"
   ]
  },
  {
   "cell_type": "code",
   "execution_count": 51,
   "id": "ad0c1f9b",
   "metadata": {},
   "outputs": [
    {
     "data": {
      "image/png": "[encoded data removed]",
      "text/plain": [
       "<Figure size 432x288 with 1 Axes>"
      ]
     },
     "metadata": {
      "needs_background": "light"
     },
     "output_type": "display_data"
    }
   ],
   "source": [
    "# plot number of games by session\n",
    "plt.bar(time_gamesession.index,time_gamesession['diff']);\n",
    "plt.xlabel('game')\n",
    "plt.ylabel('time (in mins)');\n",
    "plt.title('total time spent each game');\n",
    "\n",
    "plt.savefig(results_path + '\\\\total_time_game.png',bbox_inches = \"tight\")\n",
    "plt.show();"
   ]
  },
  {
   "cell_type": "markdown",
   "id": "c1a130f2",
   "metadata": {},
   "source": [
    "##### session dates by game"
   ]
  },
  {
   "cell_type": "code",
   "execution_count": 52,
   "id": "2c918925",
   "metadata": {},
   "outputs": [
    {
     "data": {
      "text/html": [
       "<div>\n",
       "<style scoped>\n",
       "    .dataframe tbody tr th:only-of-type {\n",
       "        vertical-align: middle;\n",
       "    }\n",
       "\n",
       "    .dataframe tbody tr th {\n",
       "        vertical-align: top;\n",
       "    }\n",
       "\n",
       "    .dataframe thead th {\n",
       "        text-align: right;\n",
       "    }\n",
       "</style>\n",
       "<table border=\"1\" class=\"dataframe\">\n",
       "  <thead>\n",
       "    <tr style=\"text-align: right;\">\n",
       "      <th></th>\n",
       "      <th>just_date</th>\n",
       "      <th>diff</th>\n",
       "    </tr>\n",
       "  </thead>\n",
       "  <tbody>\n",
       "    <tr>\n",
       "      <th>0</th>\n",
       "      <td>2022-03-10</td>\n",
       "      <td>6.133333</td>\n",
       "    </tr>\n",
       "    <tr>\n",
       "      <th>1</th>\n",
       "      <td>2022-03-11</td>\n",
       "      <td>21.533333</td>\n",
       "    </tr>\n",
       "    <tr>\n",
       "      <th>2</th>\n",
       "      <td>2022-03-12</td>\n",
       "      <td>20.583333</td>\n",
       "    </tr>\n",
       "    <tr>\n",
       "      <th>3</th>\n",
       "      <td>2022-03-15</td>\n",
       "      <td>11.400000</td>\n",
       "    </tr>\n",
       "    <tr>\n",
       "      <th>4</th>\n",
       "      <td>2022-03-16</td>\n",
       "      <td>10.033333</td>\n",
       "    </tr>\n",
       "    <tr>\n",
       "      <th>5</th>\n",
       "      <td>2022-03-17</td>\n",
       "      <td>17.533333</td>\n",
       "    </tr>\n",
       "    <tr>\n",
       "      <th>6</th>\n",
       "      <td>2022-03-21</td>\n",
       "      <td>13.566667</td>\n",
       "    </tr>\n",
       "    <tr>\n",
       "      <th>7</th>\n",
       "      <td>2022-03-22</td>\n",
       "      <td>10.366667</td>\n",
       "    </tr>\n",
       "    <tr>\n",
       "      <th>8</th>\n",
       "      <td>2022-03-23</td>\n",
       "      <td>10.150000</td>\n",
       "    </tr>\n",
       "    <tr>\n",
       "      <th>9</th>\n",
       "      <td>2022-03-24</td>\n",
       "      <td>10.366667</td>\n",
       "    </tr>\n",
       "    <tr>\n",
       "      <th>10</th>\n",
       "      <td>2022-03-29</td>\n",
       "      <td>10.466667</td>\n",
       "    </tr>\n",
       "  </tbody>\n",
       "</table>\n",
       "</div>"
      ],
      "text/plain": [
       "     just_date       diff\n",
       "0   2022-03-10   6.133333\n",
       "1   2022-03-11  21.533333\n",
       "2   2022-03-12  20.583333\n",
       "3   2022-03-15  11.400000\n",
       "4   2022-03-16  10.033333\n",
       "5   2022-03-17  17.533333\n",
       "6   2022-03-21  13.566667\n",
       "7   2022-03-22  10.366667\n",
       "8   2022-03-23  10.150000\n",
       "9   2022-03-24  10.366667\n",
       "10  2022-03-29  10.466667"
      ]
     },
     "execution_count": 52,
     "metadata": {},
     "output_type": "execute_result"
    }
   ],
   "source": [
    "date_game0 = time_session[time_session['game_nr']==0].groupby(['just_date']).sum().reset_index()\n",
    "date_game0.drop(columns=['session_nr','game_nr'])"
   ]
  },
  {
   "cell_type": "code",
   "execution_count": 53,
   "id": "35caa7c2",
   "metadata": {},
   "outputs": [
    {
     "data": {
      "image/png": "[encoded data removed]",
      "text/plain": [
       "<Figure size 432x288 with 1 Axes>"
      ]
     },
     "metadata": {
      "needs_background": "light"
     },
     "output_type": "display_data"
    }
   ],
   "source": [
    "# plot explore game play by session\n",
    "plt.bar(date_game0['just_date'],date_game0['diff']);\n",
    "plt.xlabel('session/ date')\n",
    "plt.xticks(rotation=45)\n",
    "plt.ylabel('time (in mins)');\n",
    "plt.title('total time spent on explore game each session');\n",
    "\n",
    "plt.savefig(results_path + '\\\\total_time_explore.png',bbox_inches = \"tight\")\n",
    "plt.show();"
   ]
  },
  {
   "cell_type": "code",
   "execution_count": 54,
   "id": "1f9f184d",
   "metadata": {},
   "outputs": [
    {
     "data": {
      "text/html": [
       "<div>\n",
       "<style scoped>\n",
       "    .dataframe tbody tr th:only-of-type {\n",
       "        vertical-align: middle;\n",
       "    }\n",
       "\n",
       "    .dataframe tbody tr th {\n",
       "        vertical-align: top;\n",
       "    }\n",
       "\n",
       "    .dataframe thead th {\n",
       "        text-align: right;\n",
       "    }\n",
       "</style>\n",
       "<table border=\"1\" class=\"dataframe\">\n",
       "  <thead>\n",
       "    <tr style=\"text-align: right;\">\n",
       "      <th></th>\n",
       "      <th>just_date</th>\n",
       "      <th>diff</th>\n",
       "    </tr>\n",
       "  </thead>\n",
       "  <tbody>\n",
       "    <tr>\n",
       "      <th>0</th>\n",
       "      <td>2022-03-10</td>\n",
       "      <td>0.133333</td>\n",
       "    </tr>\n",
       "    <tr>\n",
       "      <th>1</th>\n",
       "      <td>2022-03-11</td>\n",
       "      <td>5.350000</td>\n",
       "    </tr>\n",
       "    <tr>\n",
       "      <th>2</th>\n",
       "      <td>2022-03-12</td>\n",
       "      <td>20.216667</td>\n",
       "    </tr>\n",
       "    <tr>\n",
       "      <th>3</th>\n",
       "      <td>2022-03-15</td>\n",
       "      <td>10.050000</td>\n",
       "    </tr>\n",
       "    <tr>\n",
       "      <th>4</th>\n",
       "      <td>2022-03-17</td>\n",
       "      <td>10.116667</td>\n",
       "    </tr>\n",
       "    <tr>\n",
       "      <th>5</th>\n",
       "      <td>2022-03-21</td>\n",
       "      <td>17.433333</td>\n",
       "    </tr>\n",
       "    <tr>\n",
       "      <th>6</th>\n",
       "      <td>2022-03-22</td>\n",
       "      <td>11.316667</td>\n",
       "    </tr>\n",
       "    <tr>\n",
       "      <th>7</th>\n",
       "      <td>2022-03-23</td>\n",
       "      <td>10.366667</td>\n",
       "    </tr>\n",
       "    <tr>\n",
       "      <th>8</th>\n",
       "      <td>2022-03-24</td>\n",
       "      <td>6.583333</td>\n",
       "    </tr>\n",
       "    <tr>\n",
       "      <th>9</th>\n",
       "      <td>2022-03-29</td>\n",
       "      <td>12.116667</td>\n",
       "    </tr>\n",
       "  </tbody>\n",
       "</table>\n",
       "</div>"
      ],
      "text/plain": [
       "    just_date       diff\n",
       "0  2022-03-10   0.133333\n",
       "1  2022-03-11   5.350000\n",
       "2  2022-03-12  20.216667\n",
       "3  2022-03-15  10.050000\n",
       "4  2022-03-17  10.116667\n",
       "5  2022-03-21  17.433333\n",
       "6  2022-03-22  11.316667\n",
       "7  2022-03-23  10.366667\n",
       "8  2022-03-24   6.583333\n",
       "9  2022-03-29  12.116667"
      ]
     },
     "execution_count": 54,
     "metadata": {},
     "output_type": "execute_result"
    }
   ],
   "source": [
    "date_game1 = time_session[time_session['game_nr']==1].groupby(['just_date']).sum().reset_index()\n",
    "date_game1.drop(columns=['session_nr','game_nr'])"
   ]
  },
  {
   "cell_type": "code",
   "execution_count": 55,
   "id": "28dec181",
   "metadata": {},
   "outputs": [
    {
     "data": {
      "image/png": "[encoded data removed]",
      "text/plain": [
       "<Figure size 432x288 with 1 Axes>"
      ]
     },
     "metadata": {
      "needs_background": "light"
     },
     "output_type": "display_data"
    }
   ],
   "source": [
    "# plot explore game play by session\n",
    "plt.bar(date_game1['just_date'],date_game1['diff']);\n",
    "plt.xlabel('session/ date')\n",
    "plt.xticks(rotation=45)\n",
    "plt.ylabel('time (in mins)');\n",
    "plt.title('total time spent on fishing game each session');\n",
    "\n",
    "plt.savefig(results_path + '\\\\total_time_fish.png',bbox_inches = \"tight\")\n",
    "plt.show();"
   ]
  },
  {
   "cell_type": "code",
   "execution_count": 56,
   "id": "d60f8195",
   "metadata": {},
   "outputs": [
    {
     "data": {
      "text/html": [
       "<div>\n",
       "<style scoped>\n",
       "    .dataframe tbody tr th:only-of-type {\n",
       "        vertical-align: middle;\n",
       "    }\n",
       "\n",
       "    .dataframe tbody tr th {\n",
       "        vertical-align: top;\n",
       "    }\n",
       "\n",
       "    .dataframe thead th {\n",
       "        text-align: right;\n",
       "    }\n",
       "</style>\n",
       "<table border=\"1\" class=\"dataframe\">\n",
       "  <thead>\n",
       "    <tr style=\"text-align: right;\">\n",
       "      <th></th>\n",
       "      <th>just_date</th>\n",
       "      <th>diff</th>\n",
       "    </tr>\n",
       "  </thead>\n",
       "  <tbody>\n",
       "    <tr>\n",
       "      <th>0</th>\n",
       "      <td>2022-03-10</td>\n",
       "      <td>6.116667</td>\n",
       "    </tr>\n",
       "    <tr>\n",
       "      <th>1</th>\n",
       "      <td>2022-03-11</td>\n",
       "      <td>5.183333</td>\n",
       "    </tr>\n",
       "    <tr>\n",
       "      <th>2</th>\n",
       "      <td>2022-03-12</td>\n",
       "      <td>20.266667</td>\n",
       "    </tr>\n",
       "    <tr>\n",
       "      <th>3</th>\n",
       "      <td>2022-03-15</td>\n",
       "      <td>10.250000</td>\n",
       "    </tr>\n",
       "    <tr>\n",
       "      <th>4</th>\n",
       "      <td>2022-03-17</td>\n",
       "      <td>10.066667</td>\n",
       "    </tr>\n",
       "    <tr>\n",
       "      <th>5</th>\n",
       "      <td>2022-03-21</td>\n",
       "      <td>19.600000</td>\n",
       "    </tr>\n",
       "    <tr>\n",
       "      <th>6</th>\n",
       "      <td>2022-03-22</td>\n",
       "      <td>10.183333</td>\n",
       "    </tr>\n",
       "    <tr>\n",
       "      <th>7</th>\n",
       "      <td>2022-03-23</td>\n",
       "      <td>10.566667</td>\n",
       "    </tr>\n",
       "    <tr>\n",
       "      <th>8</th>\n",
       "      <td>2022-03-24</td>\n",
       "      <td>5.133333</td>\n",
       "    </tr>\n",
       "    <tr>\n",
       "      <th>9</th>\n",
       "      <td>2022-03-29</td>\n",
       "      <td>10.200000</td>\n",
       "    </tr>\n",
       "  </tbody>\n",
       "</table>\n",
       "</div>"
      ],
      "text/plain": [
       "    just_date       diff\n",
       "0  2022-03-10   6.116667\n",
       "1  2022-03-11   5.183333\n",
       "2  2022-03-12  20.266667\n",
       "3  2022-03-15  10.250000\n",
       "4  2022-03-17  10.066667\n",
       "5  2022-03-21  19.600000\n",
       "6  2022-03-22  10.183333\n",
       "7  2022-03-23  10.566667\n",
       "8  2022-03-24   5.133333\n",
       "9  2022-03-29  10.200000"
      ]
     },
     "execution_count": 56,
     "metadata": {},
     "output_type": "execute_result"
    }
   ],
   "source": [
    "date_game2 = time_session[time_session['game_nr']==2].groupby(['just_date']).sum().reset_index()\n",
    "date_game2.drop(columns=['session_nr','game_nr'])"
   ]
  },
  {
   "cell_type": "code",
   "execution_count": 57,
   "id": "525cde17",
   "metadata": {},
   "outputs": [
    {
     "data": {
      "image/png": "[encoded data removed]",
      "text/plain": [
       "<Figure size 432x288 with 1 Axes>"
      ]
     },
     "metadata": {
      "needs_background": "light"
     },
     "output_type": "display_data"
    }
   ],
   "source": [
    "# plot explore game play by session\n",
    "plt.bar(date_game2['just_date'],date_game2['diff']);\n",
    "plt.xlabel('session/ date')\n",
    "plt.xticks(rotation=45)\n",
    "plt.ylabel('time (in mins)');\n",
    "plt.title('total time spent on drone game each session');\n",
    "\n",
    "plt.savefig(results_path + '\\\\total_time_drone.png',bbox_inches = \"tight\")\n",
    "plt.show();"
   ]
  },
  {
   "cell_type": "markdown",
   "id": "d5dedb48",
   "metadata": {},
   "source": [
    "**plot all games by session**"
   ]
  },
  {
   "cell_type": "code",
   "execution_count": 58,
   "id": "13458e14",
   "metadata": {},
   "outputs": [],
   "source": [
    "dfs = reduce(lambda x,y: pd.merge(x,y, on='just_date', how='outer'), [date_game0, date_game1, date_game2])\n",
    "dfs = dfs.fillna(0)\n",
    "dfs.drop(columns=['session_nr_x','session_nr_y','session_nr','game_nr_x','game_nr_y','game_nr'],inplace=True)"
   ]
  },
  {
   "cell_type": "code",
   "execution_count": 59,
   "id": "32487df4",
   "metadata": {},
   "outputs": [],
   "source": [
    "dfs.rename(columns={'diff_x': 'explore',\n",
    "                    'diff_y': 'fish',\n",
    "                   'diff': 'drone'}, inplace=True)\n",
    "dfs = dfs.set_index(['just_date'])\n",
    "# dfs"
   ]
  },
  {
   "cell_type": "code",
   "execution_count": 60,
   "id": "aef48d74",
   "metadata": {},
   "outputs": [
    {
     "data": {
      "image/png": "[encoded data removed]",
      "text/plain": [
       "<Figure size 1440x576 with 1 Axes>"
      ]
     },
     "metadata": {
      "needs_background": "light"
     },
     "output_type": "display_data"
    }
   ],
   "source": [
    "dfs.plot.bar(figsize=(20,8))\n",
    "plt.xlabel('session/ date')\n",
    "plt.xticks(rotation=45)\n",
    "plt.ylabel('time (in mins)');\n",
    "plt.title('total time spent on diff games in each session');\n",
    "\n",
    "plt.savefig(results_path + '\\\\total_time_game_separate.png',bbox_inches = \"tight\")\n",
    "plt.show();"
   ]
  },
  {
   "cell_type": "markdown",
   "id": "7583b73c",
   "metadata": {},
   "source": [
    "##### number of times each game was played"
   ]
  },
  {
   "cell_type": "code",
   "execution_count": 61,
   "id": "159548f3",
   "metadata": {},
   "outputs": [
    {
     "data": {
      "text/html": [
       "<div>\n",
       "<style scoped>\n",
       "    .dataframe tbody tr th:only-of-type {\n",
       "        vertical-align: middle;\n",
       "    }\n",
       "\n",
       "    .dataframe tbody tr th {\n",
       "        vertical-align: top;\n",
       "    }\n",
       "\n",
       "    .dataframe thead th {\n",
       "        text-align: right;\n",
       "    }\n",
       "</style>\n",
       "<table border=\"1\" class=\"dataframe\">\n",
       "  <thead>\n",
       "    <tr style=\"text-align: right;\">\n",
       "      <th></th>\n",
       "      <th>game_nr</th>\n",
       "      <th>start</th>\n",
       "    </tr>\n",
       "  </thead>\n",
       "  <tbody>\n",
       "    <tr>\n",
       "      <th>Explore the World</th>\n",
       "      <td>0</td>\n",
       "      <td>20</td>\n",
       "    </tr>\n",
       "    <tr>\n",
       "      <th>Fishing Game</th>\n",
       "      <td>1</td>\n",
       "      <td>13</td>\n",
       "    </tr>\n",
       "    <tr>\n",
       "      <th>Drone Game</th>\n",
       "      <td>2</td>\n",
       "      <td>12</td>\n",
       "    </tr>\n",
       "  </tbody>\n",
       "</table>\n",
       "</div>"
      ],
      "text/plain": [
       "                   game_nr  start\n",
       "Explore the World        0     20\n",
       "Fishing Game             1     13\n",
       "Drone Game               2     12"
      ]
     },
     "execution_count": 61,
     "metadata": {},
     "output_type": "execute_result"
    }
   ],
   "source": [
    "time_gamecount = time_session.groupby(['game_nr']).count().reset_index()\n",
    "time_gamecount.index = time_gamecount.index.map(game_id_dict)\n",
    "time_gamecount.drop(columns=['session_nr','end','diff','just_date'])"
   ]
  },
  {
   "cell_type": "code",
   "execution_count": 62,
   "id": "725009d9",
   "metadata": {},
   "outputs": [
    {
     "data": {
      "image/png": "[encoded data removed]",
      "text/plain": [
       "<Figure size 432x288 with 1 Axes>"
      ]
     },
     "metadata": {
      "needs_background": "light"
     },
     "output_type": "display_data"
    }
   ],
   "source": [
    "# plot number of games by session\n",
    "plt.bar(time_gamecount.index,time_gamecount['session_nr']);\n",
    "plt.xlabel('game')\n",
    "plt.ylabel('number of times played');\n",
    "plt.gca().yaxis.set_major_locator(mticker.MultipleLocator(2))\n",
    "plt.title('total number of times games were played');\n",
    "\n",
    "plt.savefig(results_path + '\\\\times_played_game.png',bbox_inches = \"tight\")\n",
    "plt.show();"
   ]
  },
  {
   "cell_type": "markdown",
   "id": "f8db97e7",
   "metadata": {},
   "source": [
    "**save outputs to txt file**"
   ]
  },
  {
   "cell_type": "code",
   "execution_count": 63,
   "id": "c6b1dc60",
   "metadata": {},
   "outputs": [],
   "source": [
    "with open(results_path + '\\\\outputs.txt', mode='w') as file_:\n",
    "    file_.write(f'total number of days played = {active_days} days')\n",
    "    file_.write(\"\\n\")  # Next line.\n",
    "    file_.write(f'total time spent = {total_time[0]:.2f} mins')\n",
    "    file_.write(\"\\n\")  \n",
    "    file_.write(f'total time spent = {days} days, {hours:.2f} hours, {mins:.2f} mins')\n",
    "    file_.write(\"\\n\")  "
   ]
  },
  {
   "cell_type": "markdown",
   "id": "5cc022cd",
   "metadata": {},
   "source": [
    "#### Mean/std of Sparc, KxGain (stiffness coeff), Total force, velocity"
   ]
  },
  {
   "cell_type": "code",
   "execution_count": 64,
   "id": "cc98f818",
   "metadata": {},
   "outputs": [],
   "source": [
    "session_nr = []\n",
    "game_nr = []\n",
    "sparc_mean =[]\n",
    "sparc_std =[]\n",
    "kx_mean = []\n",
    "kx_std = []\n",
    "Ftot_mean = []\n",
    "Ftot_std = []\n",
    "vel_mean = []\n",
    "veldb_mean = []\n",
    "veldb_std = []\n",
    "\n",
    "for session, df in enumerate(df_session):\n",
    "    for game in range(0,df1['GameID'].nunique()):\n",
    "        if game in df['GameID'].unique():\n",
    "            df_game = df[df['GameID']==game]\n",
    "            session_nr.append(session)\n",
    "            game_nr.append(game)\n",
    "            sparc_mean.append(df_game[['Sparc']].mean().values[0])\n",
    "            sparc_std.append(df_game[['Sparc']].std().values[0])\n",
    "            kx_mean.append(df_game[['KxGain']].mean().values[0])\n",
    "            kx_std.append(df_game[['KxGain']].std().values[0])\n",
    "            Ftot_mean.append(df_game[['TotalForce']].mean().values[0])\n",
    "            Ftot_std.append(df_game[['TotalForce']].std().values[0])\n",
    "            \n",
    "            # note coord in m\n",
    "            df_game[['TimeStampMS_diff','x_diff','y_diff']]=df_game[['TimeStampMS','XCoordinate','YCoordinate']].diff()\n",
    "            df_game['step_size'] = np.sqrt(df_game['x_diff']**2+df_game['y_diff']**2)\n",
    "            # vel in m/sec\n",
    "            vel_mean.append((df_game['step_size'].sum())/(df_game['TimeStampMS_diff'].sum()/1000))\n",
    "            \n",
    "            # vel from velX and velY from db?\n",
    "            df_game['vel_db'] = np.sqrt(df_game['VelocityX']**2+df_game['VelocityY']**2)\n",
    "            veldb_mean.append(df_game[['vel_db']].mean().values[0])\n",
    "            veldb_std.append(df_game[['vel_db']].std().values[0])"
   ]
  },
  {
   "cell_type": "code",
   "execution_count": 65,
   "id": "b45fcb7d",
   "metadata": {},
   "outputs": [],
   "source": [
    "# put in df\n",
    "gen_parameters = []\n",
    "for row in range(0,len(session_nr)):\n",
    "    gen_parameters.append(row)\n",
    "gen_parameters = pd.DataFrame(gen_parameters,columns=['session_nr'])   \n",
    "gen_parameters['session_nr'] = session_nr\n",
    "gen_parameters['game_nr'] = game_nr\n",
    "gen_parameters['sparc_mean'] = sparc_mean\n",
    "gen_parameters['sparc_std'] = sparc_std\n",
    "gen_parameters['kx_mean'] = kx_mean\n",
    "gen_parameters['kx_std'] = kx_std\n",
    "gen_parameters['Ftot_mean'] = Ftot_mean\n",
    "gen_parameters['Ftot_std'] = Ftot_std\n",
    "gen_parameters['vel_mean'] = vel_mean\n",
    "gen_parameters['veldb_mean'] = veldb_mean\n",
    "gen_parameters['veldb_std'] = veldb_std"
   ]
  },
  {
   "cell_type": "code",
   "execution_count": 66,
   "id": "0a19641b",
   "metadata": {},
   "outputs": [],
   "source": [
    "# gen_parameters"
   ]
  },
  {
   "cell_type": "markdown",
   "id": "19108766",
   "metadata": {},
   "source": [
    "##### Plot mean Sparc"
   ]
  },
  {
   "cell_type": "code",
   "execution_count": 67,
   "id": "989cf496",
   "metadata": {},
   "outputs": [],
   "source": [
    "gen_explore = gen_parameters[gen_parameters['game_nr']==0]\n",
    "gen_fish = gen_parameters[gen_parameters['game_nr']==1]\n",
    "gen_drone = gen_parameters[gen_parameters['game_nr']==2]"
   ]
  },
  {
   "cell_type": "markdown",
   "id": "2dcacda0",
   "metadata": {},
   "source": [
    "**explore game**"
   ]
  },
  {
   "cell_type": "code",
   "execution_count": 68,
   "id": "0af54e1f",
   "metadata": {},
   "outputs": [],
   "source": [
    "# gen_explore"
   ]
  },
  {
   "cell_type": "code",
   "execution_count": 69,
   "id": "9e6f3271",
   "metadata": {},
   "outputs": [],
   "source": [
    "font = {'family': 'serif',\n",
    "        'color':  'darkred',\n",
    "        'weight': 'normal',\n",
    "        'size': 15,\n",
    "        }"
   ]
  },
  {
   "cell_type": "code",
   "execution_count": 70,
   "id": "f8a99d8d",
   "metadata": {},
   "outputs": [
    {
     "data": {
      "image/png": "[encoded data removed]",
      "text/plain": [
       "<Figure size 1440x576 with 1 Axes>"
      ]
     },
     "metadata": {
      "needs_background": "light"
     },
     "output_type": "display_data"
    }
   ],
   "source": [
    "plt.figure(figsize=(20,8))\n",
    "plt.errorbar(gen_explore['session_nr'],gen_explore['sparc_mean'],gen_explore['sparc_std'], marker='^')\n",
    "plt.xlim(left=0);\n",
    "plt.xlabel('Session')\n",
    "plt.gca().xaxis.set_major_locator(mticker.MultipleLocator(1))\n",
    "plt.ylim(top=0)\n",
    "\n",
    "# plot trendline (just a linear fitting)\n",
    "z = np.polyfit(gen_explore['session_nr'],gen_explore['sparc_mean'], 1)\n",
    "p = np.poly1d(z)\n",
    "plt.plot(gen_explore['session_nr'],p(gen_explore['session_nr']),'r-')\n",
    "# print('y=%.6fx+(%.6f)'%(z[0],z[1]))\n",
    "\n",
    "if z[0] > 0:\n",
    "    plt.text(0,0.5,f'Smoothness increase (ie., SPARC is less negative) by linear coefficient of {z[0]:.3f} as gameplay progresses.',fontdict=font)\n",
    "else:\n",
    "    plt.text(0,0.5,f'Decrease in smoothness (ie., SPARC is more negative) by linear coefficient of {z[0]:.3f} as gameplay progresses.',fontdict=font)\n",
    "\n",
    "plt.ylabel('sparc')\n",
    "\n",
    "plt.title('Mean sparc by session for explore game',fontsize=15)\n",
    "\n",
    "plt.savefig(results_path + '\\\\sparc_explore.png',bbox_inches = \"tight\")\n",
    "plt.show();"
   ]
  },
  {
   "cell_type": "code",
   "execution_count": 71,
   "id": "22840fe8",
   "metadata": {},
   "outputs": [
    {
     "data": {
      "image/png": "[encoded data removed]",
      "text/plain": [
       "<Figure size 1440x576 with 1 Axes>"
      ]
     },
     "metadata": {
      "needs_background": "light"
     },
     "output_type": "display_data"
    }
   ],
   "source": [
    "plt.figure(figsize=(20,8))\n",
    "plt.errorbar(gen_drone['session_nr'],gen_drone['sparc_mean'],gen_drone['sparc_std'], marker='^')\n",
    "plt.xlim(left=0);\n",
    "plt.xlabel('Session')\n",
    "plt.gca().xaxis.set_major_locator(mticker.MultipleLocator(1))\n",
    "plt.ylim(top=0)\n",
    "\n",
    "# plot trendline (just a linear fitting)\n",
    "z = np.polyfit(gen_drone['session_nr'],gen_drone['sparc_mean'], 1)\n",
    "p = np.poly1d(z)\n",
    "plt.plot(gen_drone['session_nr'],p(gen_drone['session_nr']),'r-')\n",
    "\n",
    "if z[0] > 0:\n",
    "    plt.text(0,0.5,f'Smoothness increase (ie., SPARC is less negative) by linear coefficient of {z[0]:.3f} as gameplay progresses.',fontdict=font)\n",
    "else:\n",
    "    plt.text(0,0.5,f'Decrease in smoothness (ie., SPARC is more negative) by linear coefficient of {z[0]:.3f} as gameplay progresses.',fontdict=font)\n",
    "\n",
    "plt.ylabel('sparc')\n",
    "plt.title('Mean sparc by session for drone game',fontsize=15)\n",
    "\n",
    "plt.savefig(results_path + '\\\\sparc_drone.png',bbox_inches = \"tight\")\n",
    "plt.show();"
   ]
  },
  {
   "cell_type": "markdown",
   "id": "dbcb98f3",
   "metadata": {},
   "source": [
    "##### Plot mean Kx stiffness coeff\n",
    "only for explore game"
   ]
  },
  {
   "cell_type": "code",
   "execution_count": 72,
   "id": "0a7d798d",
   "metadata": {},
   "outputs": [
    {
     "data": {
      "image/png": "[encoded data removed]",
      "text/plain": [
       "<Figure size 1440x576 with 1 Axes>"
      ]
     },
     "metadata": {
      "needs_background": "light"
     },
     "output_type": "display_data"
    }
   ],
   "source": [
    "plt.figure(figsize=(20,8))\n",
    "plt.errorbar(gen_explore['session_nr'],gen_explore['kx_mean'],gen_explore['kx_std'], marker='^')\n",
    "plt.xlim(left=0);\n",
    "plt.xlabel('Session')\n",
    "plt.gca().xaxis.set_major_locator(mticker.MultipleLocator(1))\n",
    "plt.ylabel('sparc')\n",
    "plt.title('Mean stiffness coeff by session for explore game')\n",
    "\n",
    "plt.savefig(results_path + '\\\\Kx_explore.png',bbox_inches = \"tight\")\n",
    "plt.show();"
   ]
  },
  {
   "cell_type": "markdown",
   "id": "33068123",
   "metadata": {},
   "source": [
    "##### Plot mean total force\n",
    "only for explore game"
   ]
  },
  {
   "cell_type": "code",
   "execution_count": 73,
   "id": "efa51b7e",
   "metadata": {},
   "outputs": [
    {
     "data": {
      "image/png": "[encoded data removed]",
      "text/plain": [
       "<Figure size 1440x576 with 1 Axes>"
      ]
     },
     "metadata": {
      "needs_background": "light"
     },
     "output_type": "display_data"
    }
   ],
   "source": [
    "plt.figure(figsize=(20,8))\n",
    "plt.errorbar(gen_explore['session_nr'],gen_explore['Ftot_mean'],gen_explore['Ftot_std'], marker='^')\n",
    "plt.xlim(left=0);\n",
    "plt.xlabel('Session')\n",
    "plt.gca().xaxis.set_major_locator(mticker.MultipleLocator(1))\n",
    "plt.ylabel('sparc')\n",
    "plt.title('Mean total force by session for explore game')\n",
    "\n",
    "plt.savefig(results_path + '\\\\Ftotal_explore.png',bbox_inches = \"tight\")\n",
    "plt.show();"
   ]
  },
  {
   "cell_type": "markdown",
   "id": "72a0bd32",
   "metadata": {},
   "source": [
    "##### Plot mean velocity (by session)"
   ]
  },
  {
   "cell_type": "code",
   "execution_count": 74,
   "id": "f19c47a2",
   "metadata": {},
   "outputs": [
    {
     "name": "stdout",
     "output_type": "stream",
     "text": [
      "Max mean velocity of 0.134 m/s occurred during fish game\n"
     ]
    }
   ],
   "source": [
    "ex = gen_explore['vel_mean'].mean()\n",
    "fish = gen_fish['vel_mean'].mean()\n",
    "dr = gen_drone['vel_mean'].mean()\n",
    "mean_vel_max=max([ex,fish,dr])\n",
    "\n",
    "vel_max = gen_parameters['vel_mean'].max()\n",
    "\n",
    "if ex==mean_vel_max:\n",
    "    max_vel_game='explore'\n",
    "elif fish==mean_vel_max:\n",
    "    max_vel_game='fish'\n",
    "elif dr==mean_vel_max:\n",
    "    max_vel_game='drone'\n",
    "    \n",
    "print(f'Max mean velocity of {vel_max:.3f} m/s occurred during {max_vel_game} game')"
   ]
  },
  {
   "cell_type": "code",
   "execution_count": 75,
   "id": "57bc0c55",
   "metadata": {},
   "outputs": [],
   "source": [
    "# save to outputs file\n",
    "with open(results_path + '\\\\outputs.txt', mode='a') as file_:\n",
    "    file_.write(f'Max mean velocity of {vel_max:.3f} m/s occurred during {max_vel_game} game')\n",
    "    file_.write(\"\\n\")  # Next line."
   ]
  },
  {
   "cell_type": "code",
   "execution_count": 76,
   "id": "e5d5e5e3",
   "metadata": {},
   "outputs": [
    {
     "data": {
      "image/png": "[encoded data removed]",
      "text/plain": [
       "<Figure size 1440x576 with 1 Axes>"
      ]
     },
     "metadata": {
      "needs_background": "light"
     },
     "output_type": "display_data"
    }
   ],
   "source": [
    "plt.figure(figsize=(20,8))\n",
    "plt.errorbar(gen_explore['session_nr'],gen_explore['veldb_mean'],gen_explore['veldb_std'], marker='^');\n",
    "plt.xlabel('Session')\n",
    "plt.gca().xaxis.set_major_locator(mticker.MultipleLocator(1))\n",
    "plt.ylabel('velocity (in m/sec)')\n",
    "plt.ylim(top=0.35)\n",
    "plt.title('Mean velocity by session for explore game');\n",
    "\n",
    "plt.savefig(results_path + '\\\\Mean_vel_explore.png',bbox_inches = \"tight\")\n",
    "plt.show();"
   ]
  },
  {
   "cell_type": "code",
   "execution_count": 77,
   "id": "496f2c00",
   "metadata": {},
   "outputs": [
    {
     "data": {
      "image/png": "[encoded data removed]",
      "text/plain": [
       "<Figure size 1440x576 with 1 Axes>"
      ]
     },
     "metadata": {
      "needs_background": "light"
     },
     "output_type": "display_data"
    }
   ],
   "source": [
    "plt.figure(figsize=(20,8))\n",
    "plt.errorbar(gen_fish['session_nr'],gen_fish['veldb_mean'],gen_fish['veldb_std'], marker='^');\n",
    "\n",
    "plt.xlabel('Session')\n",
    "plt.gca().xaxis.set_major_locator(mticker.MultipleLocator(1))\n",
    "plt.ylabel('velocity (in m/sec)')\n",
    "plt.ylim(top=0.35)\n",
    "plt.title('Mean velocity by session for fish game')\n",
    "\n",
    "plt.savefig(results_path + '\\\\Mean_vel_fish.png',bbox_inches = \"tight\")\n",
    "plt.show();"
   ]
  },
  {
   "cell_type": "code",
   "execution_count": 78,
   "id": "69bf88a3",
   "metadata": {},
   "outputs": [
    {
     "data": {
      "image/png": "[encoded data removed]",
      "text/plain": [
       "<Figure size 1440x576 with 1 Axes>"
      ]
     },
     "metadata": {
      "needs_background": "light"
     },
     "output_type": "display_data"
    }
   ],
   "source": [
    "plt.figure(figsize=(20,8))\n",
    "plt.errorbar(gen_drone['session_nr'],gen_drone['veldb_mean'],gen_drone['veldb_std'], marker='^');\n",
    "\n",
    "plt.xlabel('Session')\n",
    "plt.gca().xaxis.set_major_locator(mticker.MultipleLocator(1))\n",
    "plt.ylabel('velocity (in m/sec)')\n",
    "plt.ylim(top=0.35)\n",
    "plt.title('Mean velocity by session for drone game')\n",
    "\n",
    "plt.savefig(results_path + '\\\\Mean_vel_drone.png',bbox_inches = \"tight\")\n",
    "plt.show();"
   ]
  },
  {
   "cell_type": "code",
   "execution_count": 79,
   "id": "4609f58b",
   "metadata": {},
   "outputs": [],
   "source": [
    "# plt.figure(figsize=(20,8))\n",
    "# plt.bar(gen_explore['session_nr'],gen_explore['vel_mean'])\n",
    "# plt.xlim(left=0);\n",
    "# plt.xlabel('Session')\n",
    "# plt.gca().xaxis.set_major_locator(mticker.MultipleLocator(1))\n",
    "# plt.ylabel('velocity (in m/sec)')\n",
    "# plt.ylim([0,vel_max])\n",
    "# plt.title('Mean velocity by session for explore game')\n",
    "\n",
    "# plt.savefig(results_path + '\\\\Mean_vel_explore.png',bbox_inches = \"tight\")\n",
    "# plt.show();"
   ]
  },
  {
   "cell_type": "code",
   "execution_count": 80,
   "id": "6f689c79",
   "metadata": {},
   "outputs": [],
   "source": [
    "# plt.figure(figsize=(20,8))\n",
    "# plt.bar(gen_fish['session_nr'],gen_fish['vel_mean'])\n",
    "# plt.xlim(left=0);\n",
    "# plt.xlabel('Session')\n",
    "# plt.gca().xaxis.set_major_locator(mticker.MultipleLocator(1))\n",
    "# plt.ylabel('velocity (in m/sec)')\n",
    "# plt.ylim([0,vel_max])\n",
    "# plt.title('Mean velocity by session for fish game')\n",
    "\n",
    "# plt.savefig(results_path + '\\\\Mean_vel_fish.png',bbox_inches = \"tight\")\n",
    "# plt.show();"
   ]
  },
  {
   "cell_type": "code",
   "execution_count": 81,
   "id": "db8f1678",
   "metadata": {},
   "outputs": [],
   "source": [
    "# plt.figure(figsize=(20,8))\n",
    "# plt.bar(gen_drone['session_nr'],gen_drone['vel_mean'])\n",
    "# plt.xlim(left=0);\n",
    "# plt.xlabel('Session')\n",
    "# plt.gca().xaxis.set_major_locator(mticker.MultipleLocator(1))\n",
    "# plt.ylabel('velocity (in m/sec)')\n",
    "# plt.ylim([0,vel_max])\n",
    "# plt.title('Mean velocity by session for drone game')\n",
    "\n",
    "# plt.savefig(results_path + '\\\\Mean_vel_drone.png',bbox_inches = \"tight\")\n",
    "# plt.show();"
   ]
  },
  {
   "cell_type": "markdown",
   "id": "a89401cb",
   "metadata": {},
   "source": [
    "#### Smoothness (Sparc)\n",
    "only for explore[GameID=0] and drone[GameID=2] games\n",
    "<br> Does SPARC stabilize as gameplay progresses?\n"
   ]
  },
  {
   "cell_type": "markdown",
   "id": "73a8aec3",
   "metadata": {},
   "source": [
    "**WILL DECIDE HOW TO RE-PLOT THIS**"
   ]
  },
  {
   "cell_type": "code",
   "execution_count": 82,
   "id": "19aaeeac",
   "metadata": {},
   "outputs": [],
   "source": [
    "# # def run_sessions(df_session):\n",
    "# plt.figure(figsize=(20,10))\n",
    "# labels=[]\n",
    "# for session, df in enumerate(df_session):\n",
    "#     # only plot for explore game\n",
    "#     game=0\n",
    "#     if game in df['GameID'].unique():\n",
    "#         df_game = df[df['GameID']==0]\n",
    "#         df_game['tsec'] = df_game[['TimeStampMS']].diff().cumsum(axis=0)/1000\n",
    "\n",
    "#         plt.step(df_game['tsec'],df_game['Sparc']);\n",
    "#         labels.append(r'Session{}'.format(session))\n",
    "        \n",
    "#     plt.xlim([0,1200])\n",
    "#     plt.legend(labels, bbox_to_anchor=(1.1,1), loc='upper right')\n",
    "#     plt.xlabel('time/ in sec',fontsize=12)\n",
    "#     plt.ylabel('sparc',fontsize=12)\n",
    "#     plt.title('sparc in explore game',fontsize=15);"
   ]
  },
  {
   "cell_type": "code",
   "execution_count": 83,
   "id": "6d15d350",
   "metadata": {},
   "outputs": [],
   "source": [
    "# plt.figure(figsize=(20,10))\n",
    "# labels=[]\n",
    "# for session, df in enumerate(df_session):\n",
    "#     # only plot for explore game\n",
    "#     game=2\n",
    "#     if game in df['GameID'].unique():\n",
    "#         df_game = df[df['GameID']==2]\n",
    "#         df_game['tsec'] = df_game[['TimeStampMS']].diff().cumsum(axis=0)/1000\n",
    "\n",
    "#         plt.step(df_game['tsec'],df_game['Sparc']);\n",
    "#         labels.append(r'Session{}'.format(session))\n",
    "\n",
    "#     plt.xlim([0,700])\n",
    "#     plt.legend(labels, bbox_to_anchor=(1.1,1), loc='upper right')\n",
    "#     plt.xlabel('time/ in sec',fontsize=12)\n",
    "#     plt.ylabel('sparc',fontsize=12)\n",
    "#     plt.title('sparc in drone game',fontsize=15);"
   ]
  },
  {
   "cell_type": "markdown",
   "id": "8c527d3f",
   "metadata": {},
   "source": [
    "#### Plot coordinates"
   ]
  },
  {
   "cell_type": "markdown",
   "id": "1f33c7d8",
   "metadata": {},
   "source": [
    "**declare path for saving fig**\n",
    "<br> new path/folder declared in this section  again"
   ]
  },
  {
   "cell_type": "code",
   "execution_count": 84,
   "id": "24815d9f",
   "metadata": {},
   "outputs": [],
   "source": [
    "# declared for plotting and savefig\n",
    "patientid = df['PatientID'].unique()[0]"
   ]
  },
  {
   "cell_type": "markdown",
   "id": "3a8f3736",
   "metadata": {},
   "source": [
    "**determine between assistive 'A' vs perturbation 'P' modes**\n",
    "<br> assistance: visual == target\n",
    "<br> perturbation: visual != target (handle trying to reach visual)"
   ]
  },
  {
   "cell_type": "code",
   "execution_count": 85,
   "id": "e63be6fd",
   "metadata": {},
   "outputs": [],
   "source": [
    "def define_haptics(row):\n",
    "    if row['TargetXCoord']==row['VisualTargetXCoord']:\n",
    "        row['haptics']='A'\n",
    "    else:\n",
    "        row['haptics']='P'\n",
    "    return row"
   ]
  },
  {
   "cell_type": "code",
   "execution_count": 86,
   "id": "d5b16fc3",
   "metadata": {},
   "outputs": [],
   "source": [
    "def plot_coord(tset):\n",
    "    fig = plt.figure(figsize=(20,15))\n",
    "    ax1 = fig.add_subplot(211)\n",
    "    ax2 = fig.add_subplot(212)\n",
    "       \n",
    "    ax1.scatter(tset['tsec'],tset['XCoordinate'],s=5,color='red',ls='None',label='X coord');\n",
    "    if game==0: # only plot for explore\n",
    "        ax1.scatter(tset['tsec'],tset['TargetXCoord'],s=20,color='green',ls='None',label='X Target');\n",
    "#         ax1.scatter(tset['tsec'],tset['VisualTargetXCoord_roll'],s=10,color='orange');\n",
    "\n",
    "        # plot vertical lines for repeats\n",
    "        my_labels = {'xcoords': 'repeat'}\n",
    "        xcoords = np.nan_to_num(tset[tset['VisualTargetXCoord_diff']!=0]['tsec'])\n",
    "        \n",
    "        for xc in xcoords:\n",
    "            ax1.axvline(x=xc,ls='--',label=my_labels['xcoords'])\n",
    "            my_labels['xcoords']='_nolegend_'\n",
    "            if xc in target_visual['tsec'].values:\n",
    "                ax1.text(xc,max(tset['TargetXCoord']),target_visual[target_visual['tsec']==xc]['haptics'].values[0],rotation=90)\n",
    "    \n",
    "    ax1.set_xlim(left=0);\n",
    "    ax1.set_ylabel('x-coord')\n",
    "#     ax1.legend(['X coord','X Target'],loc='upper right')\n",
    "    if game==0:\n",
    "        ax1.legend(title='A-assistive, P-pertubed',loc='upper right')\n",
    "    else:\n",
    "        ax1.legend(loc='upper right')\n",
    "    ax1.set_title('X coordinates');\n",
    "\n",
    "    ax2.scatter(tset['tsec'],tset['YCoordinate'],s=5,color='blue',label='Y coord');\n",
    "    if game==0: # only plot for explore\n",
    "        ax2.scatter(tset['tsec'],tset['TargetYCoord'],s=20,color='green',label='Y Target');\n",
    "#         ax2.scatter(tset['tsec'],tset['VisualTargetYCoord_roll'],s=10,color='orange');\n",
    "        \n",
    "        my_labels = {'xcoords': 'repeat'}\n",
    "        for xc in xcoords:\n",
    "            ax2.axvline(x=xc,ls='--',label=my_labels['xcoords'])\n",
    "            my_labels['xcoords']='_nolegend_'\n",
    "            if xc in target_visual['tsec'].values:\n",
    "                ax2.text(xc,max(tset['TargetYCoord']),target_visual[target_visual['tsec']==xc]['haptics'].values[0],rotation=90)\n",
    "            \n",
    "    ax2.set_xlim(left=0);\n",
    "    ax2.set_ylabel('y-coord')\n",
    "    if game==0:\n",
    "        ax2.legend(title='A-assistive, P-pertubed',loc='upper right')\n",
    "    else:\n",
    "        ax2.legend(loc='upper right')\n",
    "    ax2.set_title('Y coordinates');\n",
    "\n",
    "    plt.suptitle('Player = {}, Plot coordinates: Session nr={}, Game={} '.format(patientid, session, gamename),fontsize=15)\n",
    "    plt.xlabel('time/ in sec',fontsize=12);"
   ]
  },
  {
   "cell_type": "code",
   "execution_count": 87,
   "id": "5d559f95",
   "metadata": {},
   "outputs": [],
   "source": [
    "for session, df in enumerate(df_session):\n",
    "    for game in range(0,df1['GameID'].nunique()):\n",
    "        if game in df['GameID'].unique():\n",
    "            df_game = df[df['GameID']==game]\n",
    "            df_game['tsec'] = df_game[['TimeStampMS']].diff().cumsum(axis=0)/1000\n",
    "            \n",
    "            # mode change only for explore game\n",
    "            if game==0:\n",
    "                # define vertical lines for change in haptics\n",
    "                df_game['VisualTargetXCoord_diff'] = df_game['VisualTargetXCoord'].diff()\n",
    "\n",
    "                visual1 = df_game[df_game['VisualTargetXCoord_diff']!=0][['VisualTargetXCoord']].iloc[1:,:].reset_index().drop(columns=['index'])\n",
    "                df_game['TargetXCoord_diff'] = df_game['TargetXCoord'].diff()\n",
    "                target1 = df_game[df_game['TargetXCoord_diff']!=0][['tsec','TargetXCoord']][:-1].reset_index().drop(columns=['index'])\n",
    "                target_visual = pd.merge(target1,visual1,left_index=True, right_index=True).fillna(0)\n",
    "                target_visual = target_visual.apply(define_haptics,axis=1)\n",
    "                \n",
    "            if game==0:\n",
    "                gamename='explore'\n",
    "            elif game==1:\n",
    "                gamename='fish'\n",
    "            elif game==2:\n",
    "                gamename='drone'\n",
    "                                      \n",
    "#             plot_coord(df_game)\n",
    "            \n",
    "#             # save fig\n",
    "#             # note this will overwrite previously saved fig \n",
    "#             results_path = os.path.join('data', 'results', patientid, 'coord')\n",
    "#             if not os.path.exists(results_path):\n",
    "#                 os.makedirs(results_path)\n",
    "#             plt.savefig(results_path + '\\\\fig{}-{}.png'.format(session,gamename))\n",
    "#             plt.show()"
   ]
  },
  {
   "cell_type": "markdown",
   "id": "fd3fe08d",
   "metadata": {},
   "source": [
    "#### Plot K_xx and Force"
   ]
  },
  {
   "cell_type": "code",
   "execution_count": 88,
   "id": "c968b3c7",
   "metadata": {},
   "outputs": [],
   "source": [
    "def plot_k_force(tset):\n",
    "    # only plot for explore game\n",
    "    fig = plt.figure(figsize=(20,15))\n",
    "    ax1 = fig.add_subplot(211)\n",
    "    ax2 = fig.add_subplot(212)\n",
    "    \n",
    "    # plot K\n",
    "    ax1.scatter(tset['tsec'],tset['KxGain'],s=5,color='blue',label='K_xx');\n",
    "    # only calculate/plot for explore game\n",
    "    if game==0: \n",
    "        # plot vertical lines for repeats\n",
    "        my_labels = {'xcoords': 'repeat'}\n",
    "        xcoords = np.nan_to_num(tset[tset['VisualTargetXCoord_diff']!=0]['tsec'])\n",
    "        \n",
    "        for xc in xcoords:\n",
    "            ax1.axvline(x=xc,ls='--',label=my_labels['xcoords'])\n",
    "            my_labels['xcoords']='_nolegend_'\n",
    "            if xc in target_visual['tsec'].values:\n",
    "                ax1.text(xc,max(tset['KxGain']),target_visual[target_visual['tsec']==xc]['haptics'].values[0],rotation=90)\n",
    "                \n",
    "    ax1.set_xlim(left=0);\n",
    "    ax1.set_ylabel('K_xx')\n",
    "    ax1.legend(title='A-assistive, P-pertubed', loc='upper right')\n",
    "    ax1.set_title('K_xx');\n",
    "\n",
    "    # plot forces\n",
    "    ax2.axhline(y=21, color='green', linestyle='--',label='F_max')\n",
    "    ax2.scatter(tset['tsec'],tset['TotalForce'],s=6,color='red',label='F_total');\n",
    "    ax2.scatter(tset['tsec'],tset['F_spring'],s=3,color='cyan',label='F_spring');\n",
    "    ax2.scatter(tset['tsec'],tset['F_sens'],s=3,color='black',label='F_sens');\n",
    "    \n",
    "    if game==0: # only plot for explore\n",
    "        # plot vertical lines for repeats\n",
    "        my_labels = {'xcoords': 'repeat'}\n",
    "\n",
    "        for xc in xcoords:\n",
    "            ax2.axvline(x=xc,ls='--',label=my_labels['xcoords'])\n",
    "            my_labels['xcoords']='_nolegend_'\n",
    "            if xc in target_visual['tsec'].values:\n",
    "                ax2.text(xc,max(tset['F_spring']),target_visual[target_visual['tsec']==xc]['haptics'].values[0],rotation=90)\n",
    "            \n",
    "    ax2.set_xlim(left=0);\n",
    "    ax2.set_ylabel('Force/N')\n",
    "    ax2.legend(title='A-assistive, P-pertubed', loc='upper right')\n",
    "    ax2.set_title('Total Force');\n",
    "    \n",
    "    plt.suptitle('Player = {}, Plot K_xx and Forces: Session nr={}, Game=explore'.format(patientid, session),fontsize=15)\n",
    "    plt.xlabel('time/ in sec',fontsize=12);"
   ]
  },
  {
   "cell_type": "code",
   "execution_count": 89,
   "id": "eae11abf",
   "metadata": {
    "scrolled": false
   },
   "outputs": [],
   "source": [
    "rp = 0.016\n",
    "J_p_th = np.array([[rp/2,rp/2],[rp/2,-rp/2]])\n",
    "J_p_th = np.transpose(J_p_th)\n",
    "\n",
    "session_nr = []\n",
    "game_nr = []\n",
    "F_deficit_mean = []\n",
    "F_deficit_std = []\n",
    "Ftot_21 = []\n",
    "for session, df in enumerate(df_session):\n",
    "    # only calculate/plot for explore game\n",
    "    game=0\n",
    "    if game in df['GameID'].unique():\n",
    "        df_game = df[df['GameID']==0]\n",
    "        df_game['tsec'] = df_game[['TimeStampMS']].diff().cumsum(axis=0)/1000\n",
    "        # distance to target\n",
    "        df_game['dist_targ'] = np.sqrt((df_game['TargetXCoord'] - df_game['XCoordinate'])**2 + (df_game['TargetYCoord'] - df_game['YCoordinate'])**2)\n",
    "        df_game['F_spring'] = df_game['KxGain']*df_game['dist_targ']\n",
    "        \n",
    "        # define vertical lines for change in haptics\n",
    "        df_game['VisualTargetXCoord_diff'] = df_game['VisualTargetXCoord'].diff()\n",
    "\n",
    "        visual1 = df_game[df_game['VisualTargetXCoord_diff']!=0][['VisualTargetXCoord']].iloc[1:,:].reset_index().drop(columns=['index'])\n",
    "        df_game['TargetXCoord_diff'] = df_game['TargetXCoord'].diff()\n",
    "        target1 = df_game[df_game['TargetXCoord_diff']!=0][['tsec','TargetXCoord']][:-1].reset_index().drop(columns=['index'])\n",
    "        target_visual = pd.merge(target1,visual1,left_index=True, right_index=True).fillna(0)\n",
    "        target_visual = target_visual.apply(define_haptics,axis=1)\n",
    "\n",
    "        df_game['tau_a_left'] = 0.0398*df_game['CurrentSenseLeft']\n",
    "        df_game['tau_a_right'] = 0.0398*df_game['CurrentSenseRight']\n",
    "\n",
    "        F_sens = []\n",
    "        for i in range(0,len(df_game['tau_a_left'])):\n",
    "            # matlab's equivalent in the least squares sense to the under- or overdetermined system of equations AX = B\n",
    "            mat = np.linalg.lstsq(J_p_th , np.array([df_game['tau_a_left'].iloc[i], df_game['tau_a_right'].iloc[i] \n",
    "                                                    ]).reshape(2,1))[0]\n",
    "            mat_norm = np.linalg.norm(mat,1)\n",
    "            F_sens.append(mat_norm)\n",
    "        df_game['F_sens'] = F_sens\n",
    "        df_game['F_deficit'] = df_game['TotalForce']/df_game['F_sens']\n",
    "        \n",
    "        # in df\n",
    "        session_nr.append(session)\n",
    "        game_nr.append(game)\n",
    "        F_deficit_mean.append(df_game[['F_deficit']].mean().values[0])\n",
    "        F_deficit_std.append(df_game[['F_deficit']].std().values[0])\n",
    "        # convert to sec, convert to percentage\n",
    "        Ftot_21.append((df_game[df_game['TotalForce']>21][['TimeStampMS_diff']].sum().values[0]/1000)/(df_game['tsec'].iloc[-1])*100)\n",
    "        \n",
    "        # put in df\n",
    "        F_parameters = []\n",
    "        for row in range(0,len(session_nr)):\n",
    "            F_parameters.append(row)\n",
    "        F_parameters = pd.DataFrame(F_parameters,columns=['session_nr'])   \n",
    "        F_parameters['session_nr'] = session_nr\n",
    "        F_parameters['game_nr'] = game_nr\n",
    "        F_parameters['F_deficit_mean'] = F_deficit_mean\n",
    "        F_parameters['F_deficit_std'] = F_deficit_std\n",
    "        F_parameters['Ftot_21'] = Ftot_21\n",
    "        \n",
    "        # plot\n",
    "#         plot_k_force(df_game)\n",
    "        \n",
    "#         # save fig\n",
    "#         # note this will overwrite previously saved fig \n",
    "#         results_path = os.path.join('data', 'results', patientid, 'stiffness_force')\n",
    "#         if not os.path.exists(results_path):\n",
    "#             os.makedirs(results_path)\n",
    "#         plt.savefig(results_path + '\\\\fig{}-explore.png'.format(session))\n",
    "#         plt.show()"
   ]
  },
  {
   "cell_type": "markdown",
   "id": "8f0b3fc1",
   "metadata": {},
   "source": [
    "#### Mean/std of Force parameters"
   ]
  },
  {
   "cell_type": "code",
   "execution_count": 90,
   "id": "ea7ac2be",
   "metadata": {},
   "outputs": [],
   "source": [
    "# F_parameters"
   ]
  },
  {
   "cell_type": "markdown",
   "id": "4d6fdadf",
   "metadata": {},
   "source": [
    "##### Plot Force deficit (ratio)"
   ]
  },
  {
   "cell_type": "code",
   "execution_count": 91,
   "id": "fb2d80d0",
   "metadata": {},
   "outputs": [
    {
     "data": {
      "image/png": "[encoded data removed]",
      "text/plain": [
       "<Figure size 1440x576 with 1 Axes>"
      ]
     },
     "metadata": {
      "needs_background": "light"
     },
     "output_type": "display_data"
    }
   ],
   "source": [
    "plt.figure(figsize=(20,8))\n",
    "plt.errorbar(F_parameters['session_nr'],F_parameters['F_deficit_mean'],F_parameters['F_deficit_std'], marker='^');\n",
    "plt.xlabel('Session')\n",
    "plt.gca().xaxis.set_major_locator(mticker.MultipleLocator(1))\n",
    "plt.ylabel('Force deficit')\n",
    "\n",
    "plt.title('Mean ratio of total force (F_total) over handle force (F_sens) by session for explore game',fontsize=15);\n",
    "\n",
    "plt.savefig(results_path + '\\\\force_deficit_explore.png',bbox_inches = \"tight\")\n",
    "plt.show();"
   ]
  },
  {
   "cell_type": "markdown",
   "id": "64bc0afa",
   "metadata": {},
   "source": [
    "##### Plot percentage of time where F>maximum force (21N)"
   ]
  },
  {
   "cell_type": "code",
   "execution_count": 92,
   "id": "04282ba7",
   "metadata": {},
   "outputs": [
    {
     "data": {
      "image/png": "[encoded data removed]",
      "text/plain": [
       "<Figure size 1440x576 with 1 Axes>"
      ]
     },
     "metadata": {
      "needs_background": "light"
     },
     "output_type": "display_data"
    }
   ],
   "source": [
    "plt.figure(figsize=(20,8))\n",
    "plt.bar(F_parameters['session_nr'],F_parameters['Ftot_21']);\n",
    "plt.xlabel('Session')\n",
    "plt.gca().xaxis.set_major_locator(mticker.MultipleLocator(1))\n",
    "plt.ylabel('Time /%')\n",
    "\n",
    "plt.title('Percentage of time where total force (F_total) > maximum force (21N) (potential force saturation) in explore game',fontsize=15);\n",
    "\n",
    "plt.savefig(results_path + '\\\\force_larger21.png', bbox_inches = \"tight\")\n",
    "plt.show();"
   ]
  },
  {
   "cell_type": "code",
   "execution_count": 93,
   "id": "aa967fe1",
   "metadata": {},
   "outputs": [
    {
     "name": "stdout",
     "output_type": "stream",
     "text": [
      "total run time = 0:01:48.238957\n"
     ]
    }
   ],
   "source": [
    "print(f'total run time = {datetime.now()-start_codes}')"
   ]
  },
  {
   "cell_type": "code",
   "execution_count": null,
   "id": "df88ea37",
   "metadata": {},
   "outputs": [],
   "source": []
  }
 ],
 "metadata": {
  "kernelspec": {
   "display_name": "Python 3",
   "language": "python",
   "name": "python3"
  },
  "language_info": {
   "codemirror_mode": {
    "name": "ipython",
    "version": 3
   },
   "file_extension": ".py",
   "mimetype": "text/x-python",
   "name": "python",
   "nbconvert_exporter": "python",
   "pygments_lexer": "ipython3",
   "version": "3.8.8"
  },
  "toc": {
   "base_numbering": 1,
   "nav_menu": {},
   "number_sections": true,
   "sideBar": true,
   "skip_h1_title": false,
   "title_cell": "Table of Contents",
   "title_sidebar": "Contents",
   "toc_cell": false,
   "toc_position": {
    "height": "839.7px",
    "left": "59px",
    "top": "111.433px",
    "width": "297.467px"
   },
   "toc_section_display": true,
   "toc_window_display": true
  }
 },
 "nbformat": 4,
 "nbformat_minor": 5
}
